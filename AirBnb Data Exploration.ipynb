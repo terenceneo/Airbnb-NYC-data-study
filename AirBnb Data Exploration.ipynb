{
 "cells": [
  {
   "cell_type": "markdown",
   "metadata": {
    "toc": true
   },
   "source": [
    "<h1>Table of Contents<span class=\"tocSkip\"></span></h1>\n",
    "<div class=\"toc\"><ul class=\"toc-item\"><li><ul class=\"toc-item\"><li><span><a href=\"#Preliminary-EDA\" data-toc-modified-id=\"Preliminary-EDA-0.1\"><span class=\"toc-item-num\">0.1&nbsp;&nbsp;</span>Preliminary EDA</a></span></li></ul></li><li><span><a href=\"#Getting-datasets-ready\" data-toc-modified-id=\"Getting-datasets-ready-1\"><span class=\"toc-item-num\">1&nbsp;&nbsp;</span>Getting datasets ready</a></span></li><li><span><a href=\"#Pre-processing-Original-Data\" data-toc-modified-id=\"Pre-processing-Original-Data-2\"><span class=\"toc-item-num\">2&nbsp;&nbsp;</span>Pre-processing Original Data</a></span><ul class=\"toc-item\"><li><span><a href=\"#Joining-dataframes\" data-toc-modified-id=\"Joining-dataframes-2.1\"><span class=\"toc-item-num\">2.1&nbsp;&nbsp;</span>Joining dataframes</a></span></li><li><span><a href=\"#Preping-dataset\" data-toc-modified-id=\"Preping-dataset-2.2\"><span class=\"toc-item-num\">2.2&nbsp;&nbsp;</span>Preping dataset</a></span></li></ul></li><li><span><a href=\"#Data-Pre-Processing\" data-toc-modified-id=\"Data-Pre-Processing-3\"><span class=\"toc-item-num\">3&nbsp;&nbsp;</span>Data Pre-Processing</a></span><ul class=\"toc-item\"><li><span><a href=\"#Sin-transformation-for-date\" data-toc-modified-id=\"Sin-transformation-for-date-3.1\"><span class=\"toc-item-num\">3.1&nbsp;&nbsp;</span>Sin transformation for date</a></span></li><li><span><a href=\"#Standardize-Numerical-Variables\" data-toc-modified-id=\"Standardize-Numerical-Variables-3.2\"><span class=\"toc-item-num\">3.2&nbsp;&nbsp;</span>Standardize Numerical Variables</a></span></li><li><span><a href=\"#Changing-Binary-Variables-to-0-&amp;-1\" data-toc-modified-id=\"Changing-Binary-Variables-to-0-&amp;-1-3.3\"><span class=\"toc-item-num\">3.3&nbsp;&nbsp;</span>Changing Binary Variables to 0 &amp; 1</a></span></li></ul></li><li><span><a href=\"#Modelling\" data-toc-modified-id=\"Modelling-4\"><span class=\"toc-item-num\">4&nbsp;&nbsp;</span>Modelling</a></span><ul class=\"toc-item\"><li><span><a href=\"#Univariate-feature-selection\" data-toc-modified-id=\"Univariate-feature-selection-4.1\"><span class=\"toc-item-num\">4.1&nbsp;&nbsp;</span>Univariate feature selection</a></span></li></ul></li></ul></div>"
   ]
  },
  {
   "cell_type": "code",
   "execution_count": 142,
   "metadata": {},
   "outputs": [],
   "source": [
    "from __future__ import division\n",
    "import pandas as pd\n",
    "from matplotlib import pyplot as plt\n",
    "import math\n",
    "import numpy as np\n",
    "import seaborn as sns\n",
    "from math import sqrt, sin\n",
    "from datetime import datetime\n",
    "%matplotlib inline"
   ]
  },
  {
   "cell_type": "code",
   "execution_count": 143,
   "metadata": {},
   "outputs": [],
   "source": [
    "# Load the data (will take a short while)\n",
    "calendar = pd.read_csv(\"airbnb_data/calendar.csv\")\n",
    "demographics = pd.read_csv(\"airbnb_data/demographics.csv\")\n",
    "econ_state = pd.read_csv(\"airbnb_data/econ_state.csv\")\n",
    "listings = pd.read_csv(\"airbnb_data/listings.csv\")\n",
    "real_estate = pd.read_csv(\"airbnb_data/real_estate.csv\")\n",
    "venues = pd.read_csv(\"airbnb_data/venues.csv\")"
   ]
  },
  {
   "cell_type": "code",
   "execution_count": 144,
   "metadata": {
    "scrolled": true
   },
   "outputs": [],
   "source": [
    "dataset_names = [\"calendar\", \"demographics\", \"econ_state\", \"listings\", \"real_estate\", \"venues\"]\n",
    "datasets = [calendar, demographics, econ_state, listings, real_estate, venues]"
   ]
  },
  {
   "cell_type": "markdown",
   "metadata": {},
   "source": [
    "## Preliminary EDA"
   ]
  },
  {
   "cell_type": "code",
   "execution_count": 145,
   "metadata": {
    "scrolled": true
   },
   "outputs": [
    {
     "name": "stdout",
     "output_type": "stream",
     "text": [
      "calendar\n",
      "Index(['listing_id', 'date', 'available', 'price', 'metro_area'], dtype='object')\n",
      "\n",
      "demographics\n",
      "Index(['zipcode', '5_years_or_less', '5-9_years', '10-14_years', '15-19_years',\n",
      "       '20-24_years', '25-34_years', '35-44_years', '45-54_years',\n",
      "       '55-59_years', '60-64_years', '65-74_years', '75-84_years',\n",
      "       '85_years_or_more', 'households', '$9,999_or_less', '$10,000-$14,999',\n",
      "       '$15,000-$24,999', '$25,000-$34,999', '$35,000-$49,999',\n",
      "       '$50,000-$64,999', '$65,000-$74,999', '$75,000-$99,999',\n",
      "       '$100,000_or_more', 'median_household_income', 'mean_household_income'],\n",
      "      dtype='object')\n",
      "\n",
      "econ_state\n",
      "Index(['state', '2005Q1_gdp', '2005Q2_gdp', '2005Q3_gdp', '2005Q4_gdp',\n",
      "       '2006Q1_gdp', '2006Q2_gdp', '2006Q3_gdp', '2006Q4_gdp', '2007Q1_gdp',\n",
      "       ...\n",
      "       '2016/03_ur', '2016/04_ur', '2016/05_ur', '2016/06_ur', '2016/07_ur',\n",
      "       '2016/08_ur', '2016/09_ur', '2016/10_ur', '2016/11_ur', '2016/12_ur'],\n",
      "      dtype='object', length=519)\n",
      "\n",
      "listings\n",
      "Index(['accommodates', 'amenities', 'availability_30', 'bathrooms', 'bed_type',\n",
      "       'bedrooms', 'beds', 'cancellation_policy', 'city', 'has_availability',\n",
      "       'host_id', 'id', 'instant_bookable', 'latitude', 'longitude',\n",
      "       'metropolitan', 'name', 'price', 'property_type',\n",
      "       'review_scores_checkin', 'review_scores_cleanliness',\n",
      "       'review_scores_communication', 'review_scores_location',\n",
      "       'review_scores_rating', 'review_scores_value', 'room_type', 'state',\n",
      "       'weekly_price', 'zipcode'],\n",
      "      dtype='object')\n",
      "\n",
      "real_estate\n",
      "Index(['type', 'zipcode', 'city', 'state', 'metro', 'county', 'size_rank',\n",
      "       '1996-04', '1996-05', '1996-06',\n",
      "       ...\n",
      "       '2016-09', '2016-10', '2016-11', '2016-12', '2017-01', '2017-02',\n",
      "       '2017-03', '2017-04', '2017-05', '2017-06'],\n",
      "      dtype='object', length=262)\n",
      "\n",
      "venues\n",
      "Index(['city', 'id', 'latitude', 'longitude', 'name', 'rating', 'types'], dtype='object')\n",
      "\n"
     ]
    }
   ],
   "source": [
    "for i in range(len(datasets)):\n",
    "    print(dataset_names[i])\n",
    "    print(datasets[i].keys())\n",
    "    print()"
   ]
  },
  {
   "cell_type": "code",
   "execution_count": 146,
   "metadata": {
    "scrolled": true
   },
   "outputs": [],
   "source": [
    "# demographics[demographics[\"zipcode\"] // 1000 == 10]"
   ]
  },
  {
   "cell_type": "code",
   "execution_count": 147,
   "metadata": {},
   "outputs": [],
   "source": [
    "# calendar.plot(x=\"date\", y=\"price\")\n",
    "# plt.show()"
   ]
  },
  {
   "cell_type": "markdown",
   "metadata": {},
   "source": [
    "# Getting datasets ready"
   ]
  },
  {
   "cell_type": "code",
   "execution_count": 148,
   "metadata": {
    "scrolled": true
   },
   "outputs": [],
   "source": [
    "calendar = calendar.set_index(\"listing_id\")\n",
    "listings = listings.set_index(\"id\")"
   ]
  },
  {
   "cell_type": "code",
   "execution_count": 149,
   "metadata": {},
   "outputs": [
    {
     "name": "stdout",
     "output_type": "stream",
     "text": [
      "['NYC' 'denver' 'chicago' 'boston' 'dc']\n",
      "['NY' 'MP' 'NJ' 'VT' 'CO' 'IL' 'MA' 'DC' 'MD']\n"
     ]
    }
   ],
   "source": [
    "print(calendar['metro_area'].unique())\n",
    "print(listings['state'].unique())"
   ]
  },
  {
   "cell_type": "code",
   "execution_count": 150,
   "metadata": {},
   "outputs": [],
   "source": [
    "calendar = calendar[calendar['metro_area'] == 'NYC']\n",
    "listings = listings[listings['state'] == 'NY']"
   ]
  },
  {
   "cell_type": "code",
   "execution_count": 151,
   "metadata": {},
   "outputs": [
    {
     "name": "stdout",
     "output_type": "stream",
     "text": [
      "max: 2018-05-04\n",
      "min: 2017-05-02\n"
     ]
    }
   ],
   "source": [
    "print('max:', max(calendar['date']))\n",
    "print('min:', min(calendar['date']))"
   ]
  },
  {
   "cell_type": "code",
   "execution_count": 152,
   "metadata": {},
   "outputs": [
    {
     "data": {
      "text/plain": [
       "(14874845, 4)"
      ]
     },
     "execution_count": 152,
     "metadata": {},
     "output_type": "execute_result"
    }
   ],
   "source": [
    "calendar.shape"
   ]
  },
  {
   "cell_type": "code",
   "execution_count": 153,
   "metadata": {},
   "outputs": [],
   "source": [
    "calendar = calendar.sample(frac=0.3, replace=True, random_state=1)"
   ]
  },
  {
   "cell_type": "code",
   "execution_count": 154,
   "metadata": {},
   "outputs": [
    {
     "data": {
      "text/plain": [
       "(4462454, 4)"
      ]
     },
     "execution_count": 154,
     "metadata": {},
     "output_type": "execute_result"
    }
   ],
   "source": [
    "calendar.shape"
   ]
  },
  {
   "cell_type": "markdown",
   "metadata": {},
   "source": [
    "# Pre-processing Original Data"
   ]
  },
  {
   "cell_type": "code",
   "execution_count": 155,
   "metadata": {
    "scrolled": true
   },
   "outputs": [],
   "source": [
    "calendar_new = calendar.rename({\"price\": \"listed price\"}, axis='columns')\n",
    "listings_new = listings.rename({\"price\": \"original price\"}, axis = 'columns')"
   ]
  },
  {
   "cell_type": "markdown",
   "metadata": {},
   "source": [
    "## Joining dataframes"
   ]
  },
  {
   "cell_type": "code",
   "execution_count": 156,
   "metadata": {},
   "outputs": [],
   "source": [
    "df = calendar_new.join(listings_new)"
   ]
  },
  {
   "cell_type": "code",
   "execution_count": 157,
   "metadata": {
    "scrolled": true
   },
   "outputs": [
    {
     "data": {
      "text/plain": [
       "(4462454, 4)"
      ]
     },
     "execution_count": 157,
     "metadata": {},
     "output_type": "execute_result"
    }
   ],
   "source": [
    "calendar_new.shape"
   ]
  },
  {
   "cell_type": "code",
   "execution_count": 158,
   "metadata": {},
   "outputs": [
    {
     "data": {
      "text/plain": [
       "(40738, 28)"
      ]
     },
     "execution_count": 158,
     "metadata": {},
     "output_type": "execute_result"
    }
   ],
   "source": [
    "listings_new.shape"
   ]
  },
  {
   "cell_type": "code",
   "execution_count": 159,
   "metadata": {},
   "outputs": [
    {
     "data": {
      "text/plain": [
       "(4462454, 32)"
      ]
     },
     "execution_count": 159,
     "metadata": {},
     "output_type": "execute_result"
    }
   ],
   "source": [
    "df.shape"
   ]
  },
  {
   "cell_type": "code",
   "execution_count": 160,
   "metadata": {},
   "outputs": [],
   "source": [
    "del(calendar)\n",
    "del(listings)"
   ]
  },
  {
   "cell_type": "markdown",
   "metadata": {},
   "source": [
    "## Preping dataset"
   ]
  },
  {
   "cell_type": "code",
   "execution_count": 161,
   "metadata": {
    "scrolled": true
   },
   "outputs": [
    {
     "name": "stdout",
     "output_type": "stream",
     "text": [
      "['date', 'available', 'listed price', 'metro_area', 'accommodates', 'amenities', 'availability_30', 'bathrooms', 'bed_type', 'bedrooms', 'beds', 'cancellation_policy', 'city', 'has_availability', 'host_id', 'instant_bookable', 'latitude', 'longitude', 'metropolitan', 'name', 'original price', 'property_type', 'review_scores_checkin', 'review_scores_cleanliness', 'review_scores_communication', 'review_scores_location', 'review_scores_rating', 'review_scores_value', 'room_type', 'state', 'weekly_price', 'zipcode']\n"
     ]
    }
   ],
   "source": [
    "#Getting list of column headers\n",
    "features_list = df.columns.tolist()\n",
    "print(features_list)"
   ]
  },
  {
   "cell_type": "code",
   "execution_count": 231,
   "metadata": {
    "scrolled": false
   },
   "outputs": [],
   "source": [
    "df = df.drop(columns='has_availability')"
   ]
  },
  {
   "cell_type": "code",
   "execution_count": 245,
   "metadata": {},
   "outputs": [],
   "source": [
    "df = df.dropna()"
   ]
  },
  {
   "cell_type": "code",
   "execution_count": 246,
   "metadata": {},
   "outputs": [
    {
     "data": {
      "text/plain": [
       "(35337, 152)"
      ]
     },
     "execution_count": 246,
     "metadata": {},
     "output_type": "execute_result"
    }
   ],
   "source": [
    "df.shape"
   ]
  },
  {
   "cell_type": "code",
   "execution_count": 162,
   "metadata": {},
   "outputs": [
    {
     "data": {
      "text/plain": [
       "32"
      ]
     },
     "execution_count": 162,
     "metadata": {},
     "output_type": "execute_result"
    }
   ],
   "source": [
    "len(features_list)"
   ]
  },
  {
   "cell_type": "code",
   "execution_count": 163,
   "metadata": {
    "scrolled": true
   },
   "outputs": [
    {
     "data": {
      "text/plain": [
       "date                            object\n",
       "available                       object\n",
       "listed price                   float64\n",
       "metro_area                      object\n",
       "accommodates                   float64\n",
       "amenities                       object\n",
       "availability_30                float64\n",
       "bathrooms                      float64\n",
       "bed_type                        object\n",
       "bedrooms                       float64\n",
       "beds                           float64\n",
       "cancellation_policy             object\n",
       "city                            object\n",
       "has_availability               float64\n",
       "host_id                        float64\n",
       "instant_bookable                object\n",
       "latitude                       float64\n",
       "longitude                      float64\n",
       "metropolitan                    object\n",
       "name                            object\n",
       "original price                 float64\n",
       "property_type                   object\n",
       "review_scores_checkin          float64\n",
       "review_scores_cleanliness      float64\n",
       "review_scores_communication    float64\n",
       "review_scores_location         float64\n",
       "review_scores_rating           float64\n",
       "review_scores_value            float64\n",
       "room_type                       object\n",
       "state                           object\n",
       "weekly_price                   float64\n",
       "zipcode                         object\n",
       "dtype: object"
      ]
     },
     "execution_count": 163,
     "metadata": {},
     "output_type": "execute_result"
    }
   ],
   "source": [
    "df.dtypes"
   ]
  },
  {
   "cell_type": "code",
   "execution_count": 164,
   "metadata": {
    "scrolled": false
   },
   "outputs": [
    {
     "data": {
      "text/plain": [
       "date                             368\n",
       "available                          2\n",
       "listed price                    1372\n",
       "metro_area                         1\n",
       "accommodates                      16\n",
       "amenities                      35125\n",
       "availability_30                   31\n",
       "bathrooms                         15\n",
       "bed_type                           5\n",
       "bedrooms                          11\n",
       "beds                              16\n",
       "cancellation_policy                6\n",
       "city                              85\n",
       "has_availability                   0\n",
       "host_id                        34288\n",
       "instant_bookable                   2\n",
       "latitude                       40737\n",
       "longitude                      40737\n",
       "metropolitan                       1\n",
       "name                           39892\n",
       "original price                   583\n",
       "property_type                     27\n",
       "review_scores_checkin              9\n",
       "review_scores_cleanliness          9\n",
       "review_scores_communication        9\n",
       "review_scores_location             9\n",
       "review_scores_rating              52\n",
       "review_scores_value                9\n",
       "room_type                          3\n",
       "state                              1\n",
       "weekly_price                     785\n",
       "zipcode                          293\n",
       "dtype: int64"
      ]
     },
     "execution_count": 164,
     "metadata": {},
     "output_type": "execute_result"
    }
   ],
   "source": [
    "df.nunique()"
   ]
  },
  {
   "cell_type": "code",
   "execution_count": 165,
   "metadata": {
    "scrolled": true
   },
   "outputs": [
    {
     "data": {
      "text/plain": [
       "['date',\n",
       " 'listed price',\n",
       " 'accommodates',\n",
       " 'availability_30',\n",
       " 'bathrooms',\n",
       " 'bed_type',\n",
       " 'bedrooms',\n",
       " 'beds',\n",
       " 'cancellation_policy',\n",
       " 'city',\n",
       " 'instant_bookable',\n",
       " 'original price',\n",
       " 'property_type',\n",
       " 'review_scores_checkin',\n",
       " 'review_scores_cleanliness',\n",
       " 'review_scores_communication',\n",
       " 'review_scores_location',\n",
       " 'review_scores_rating',\n",
       " 'review_scores_value',\n",
       " 'room_type',\n",
       " 'weekly_price']"
      ]
     },
     "execution_count": 165,
     "metadata": {},
     "output_type": "execute_result"
    }
   ],
   "source": [
    "#List of different types of features\n",
    "id_list = ['host_id',]\n",
    "target_list = ['available',]\n",
    "flag_list = ['amenities', 'has_availability', 'latitude', 'longitude', 'name', 'zipcode', 'state', 'metropolitan', 'metro_area'] # flag to remove\n",
    "num_list = [col for col in df.columns if df[col].nunique()>8 and col not in id_list and col not in flag_list]\n",
    "cat_list = [col for col in df.columns if df[col].nunique()<=8 and col not in target_list and col not in flag_list]\n",
    "transfer = ['property_type', 'city'] #has >8 unique but is catergorical var\n",
    "for x in (id_list + target_list + flag_list):\n",
    "    features_list.remove(x)\n",
    "features_list"
   ]
  },
  {
   "cell_type": "code",
   "execution_count": 201,
   "metadata": {},
   "outputs": [],
   "source": [
    "num_list.remove('date')\n",
    "features_list.remove('date')"
   ]
  },
  {
   "cell_type": "code",
   "execution_count": 167,
   "metadata": {},
   "outputs": [
    {
     "name": "stdout",
     "output_type": "stream",
     "text": [
      "16\n",
      "4\n"
     ]
    }
   ],
   "source": [
    "print(len(num_list))\n",
    "print(len(cat_list))"
   ]
  },
  {
   "cell_type": "code",
   "execution_count": 168,
   "metadata": {},
   "outputs": [
    {
     "name": "stdout",
     "output_type": "stream",
     "text": [
      "property_type\n",
      "city\n"
     ]
    }
   ],
   "source": [
    "for x in transfer:\n",
    "    print(x)\n",
    "    num_list.remove(x)\n",
    "    cat_list.append(x)"
   ]
  },
  {
   "cell_type": "code",
   "execution_count": 169,
   "metadata": {
    "scrolled": true
   },
   "outputs": [
    {
     "name": "stdout",
     "output_type": "stream",
     "text": [
      "14\n",
      "6\n"
     ]
    }
   ],
   "source": [
    "print(len(num_list))\n",
    "print(len(cat_list))"
   ]
  },
  {
   "cell_type": "markdown",
   "metadata": {},
   "source": [
    "# Data Pre-Processing"
   ]
  },
  {
   "cell_type": "markdown",
   "metadata": {},
   "source": [
    "## Sin transformation for date"
   ]
  },
  {
   "cell_type": "code",
   "execution_count": 132,
   "metadata": {},
   "outputs": [],
   "source": [
    "# df['date'] = pd.to_datetime(df['date'])"
   ]
  },
  {
   "cell_type": "code",
   "execution_count": 133,
   "metadata": {},
   "outputs": [
    {
     "name": "stdout",
     "output_type": "stream",
     "text": [
      "max: 2018-05-04 00:00:00\n",
      "min: 2017-05-02 00:00:00\n"
     ]
    }
   ],
   "source": [
    "# print('max:', max(df['date']))\n",
    "# print('min:', min(df['date']))"
   ]
  },
  {
   "cell_type": "code",
   "execution_count": 134,
   "metadata": {},
   "outputs": [],
   "source": [
    "# date_format = \"%Y-%m-%d\"\n",
    "# start = datetime.strptime('2017-05-05', date_format)"
   ]
  },
  {
   "cell_type": "code",
   "execution_count": 135,
   "metadata": {},
   "outputs": [
    {
     "data": {
      "text/plain": [
       "(4462454, 33)"
      ]
     },
     "execution_count": 135,
     "metadata": {},
     "output_type": "execute_result"
    }
   ],
   "source": [
    "# df.shape"
   ]
  },
  {
   "cell_type": "code",
   "execution_count": 136,
   "metadata": {
    "scrolled": true
   },
   "outputs": [],
   "source": [
    "# # Sin transformation\n",
    "# df['days_from_5May'] = np.sin(((df['date'] - start).dt.days) / 365 * 360)"
   ]
  },
  {
   "cell_type": "code",
   "execution_count": 137,
   "metadata": {},
   "outputs": [],
   "source": [
    "# num_list.append('days_from_5May')"
   ]
  },
  {
   "cell_type": "code",
   "execution_count": 138,
   "metadata": {},
   "outputs": [
    {
     "name": "stdout",
     "output_type": "stream",
     "text": [
      "['listed price', 'accommodates', 'availability_30', 'bathrooms', 'bedrooms', 'beds', 'original price', 'review_scores_checkin', 'review_scores_cleanliness', 'review_scores_communication', 'review_scores_location', 'review_scores_rating', 'review_scores_value', 'weekly_price', 'days_from_5May', 'days_from_5May']\n",
      "['bed_type', 'cancellation_policy', 'instant_bookable', 'room_type', 'property_type', 'city']\n"
     ]
    }
   ],
   "source": [
    "# print(num_list)\n",
    "# print(cat_list)"
   ]
  },
  {
   "cell_type": "markdown",
   "metadata": {},
   "source": [
    "## Standardize Numerical Variables"
   ]
  },
  {
   "cell_type": "code",
   "execution_count": 172,
   "metadata": {},
   "outputs": [],
   "source": [
    "# Load libraries\n",
    "from sklearn.preprocessing import StandardScaler, MinMaxScaler\n",
    "\n",
    "# Scaling Numerical Columns\n",
    "# Standardize features: Z-index\n",
    "scaler = MinMaxScaler()\n",
    "num_std = scaler.fit_transform(df[num_list])\n",
    "num_std = pd.DataFrame(num_std, columns = num_list)"
   ]
  },
  {
   "cell_type": "code",
   "execution_count": 173,
   "metadata": {},
   "outputs": [],
   "source": [
    "# #Merging scaled numerical data with catergorical data\n",
    "df_old = df.copy()\n",
    "df = df.drop(columns = num_list)\n",
    "df = df.merge(num_std, left_index=True, right_index=True, how='left')"
   ]
  },
  {
   "cell_type": "markdown",
   "metadata": {},
   "source": [
    "## Changing Binary Variables to 0 & 1"
   ]
  },
  {
   "cell_type": "code",
   "execution_count": 187,
   "metadata": {},
   "outputs": [],
   "source": [
    "# dropping incomplete rows\n",
    "for name in cat_list:\n",
    "    df = df[df['name'].notna()]"
   ]
  },
  {
   "cell_type": "code",
   "execution_count": 188,
   "metadata": {},
   "outputs": [
    {
     "data": {
      "text/plain": [
       "(4456804, 32)"
      ]
     },
     "execution_count": 188,
     "metadata": {},
     "output_type": "execute_result"
    }
   ],
   "source": [
    "df.shape"
   ]
  },
  {
   "cell_type": "code",
   "execution_count": 189,
   "metadata": {},
   "outputs": [
    {
     "name": "stdout",
     "output_type": "stream",
     "text": [
      "bed_type\n",
      "['Real Bed' 'Pull-out Sofa' 'Futon' 'Airbed' 'Couch']\n",
      "cancellation_policy\n",
      "['strict' 'moderate' 'flexible' 'super_strict_30' 'no_refunds' 'long_term']\n",
      "instant_bookable\n",
      "['f' 't']\n",
      "room_type\n",
      "['Private room' 'Entire home/apt' 'Shared room']\n",
      "property_type\n",
      "['Apartment' 'Other' 'Bed & Breakfast' 'House' 'Condominium' 'Loft'\n",
      " 'Townhouse' 'Guest suite' 'Boutique hotel' 'Villa' 'Cabin' 'Dorm'\n",
      " 'Timeshare' 'Boat' 'Guesthouse' 'Chalet' 'Hostel' 'Tent' 'In-law'\n",
      " 'Castle' 'Bungalow' 'Hut' 'Vacation home' 'Cave' 'Earth House'\n",
      " 'Serviced apartment' 'Lighthouse']\n",
      "city\n",
      "['new york' 'brooklyn' 'queens' 'greenpoint' 'sunnysidebronx'\n",
      " 'staten island' 'astoria' 'long island city' 'woodside' 'jamaica'\n",
      " 'wadsworth terrace' 'richmond hill' 'east elmhurst' 'manhattan'\n",
      " 'riverdale' 'briarwood' 'kips bay' 'jackson heights' 'flushing'\n",
      " 'park slope' 'kew gardens' 'bellerose' nan 'williamsburg' 'bushwick'\n",
      " 'lower east side' 'arverne' 'rockaway beach' 'fort greene' 'whitestone'\n",
      " 'east williamsburg' 'far rockaway' 'south richmond hill' 'corona'\n",
      " 'harlem' 'ridgewood' 'middle village' 'bayside' 'auburndale'\n",
      " 'saint albans' 'forest hills' 'carroll gardens' 'howard beach' 'nyc'\n",
      " 'belle harbor' 'lic' 'ozone park' 'springfield gardens' 'bk' 'hollis'\n",
      " \"hell's kitchen\" 'maspeth' 'rego park' 'floral park' 'fresh meadows'\n",
      " 'glendale\\nglendale' 'chelsea' 'yonkers' 'elmhurst' 'rosedale' 'averne'\n",
      " 'statenisland' 'st. albans' 'parkchester' 'elmuhrust' 'cambria heights'\n",
      " 'south ozone park' 'bedstuy' 'williamsburg bk' 'manhattan ny' 'l.i.c'\n",
      " 'parkchester bronx' 'laurelton' 'st albans' 'glendale'\n",
      " 'kew gardens hills' 'bronx ny' 'sprinfield gardens' 'red hook'\n",
      " 'bay ridge' 'oakland gardens' 'college point' 'longislandcity' 'lawrence'\n",
      " 'valley stream' 'elmont']\n"
     ]
    }
   ],
   "source": [
    "for name in cat_list:\n",
    "    print(name)\n",
    "    print(df[name].unique())"
   ]
  },
  {
   "cell_type": "code",
   "execution_count": 192,
   "metadata": {},
   "outputs": [
    {
     "data": {
      "text/plain": [
       "bed_type                5\n",
       "cancellation_policy     6\n",
       "instant_bookable        2\n",
       "room_type               3\n",
       "property_type          27\n",
       "city                   85\n",
       "dtype: int64"
      ]
     },
     "execution_count": 192,
     "metadata": {},
     "output_type": "execute_result"
    }
   ],
   "source": [
    "df[cat_list].nunique()"
   ]
  },
  {
   "cell_type": "code",
   "execution_count": 193,
   "metadata": {},
   "outputs": [],
   "source": [
    "#Processing Binary Catergorical Variables\n",
    "for name in ['instant_bookable']:\n",
    "    df[name] = df[name].map(lambda x: 1 if x=='t' else 0)"
   ]
  },
  {
   "cell_type": "code",
   "execution_count": 194,
   "metadata": {},
   "outputs": [
    {
     "data": {
      "text/plain": [
       "['bed_type',\n",
       " 'cancellation_policy',\n",
       " 'instant_bookable',\n",
       " 'room_type',\n",
       " 'property_type',\n",
       " 'city']"
      ]
     },
     "execution_count": 194,
     "metadata": {},
     "output_type": "execute_result"
    }
   ],
   "source": [
    "cat_list"
   ]
  },
  {
   "cell_type": "code",
   "execution_count": 197,
   "metadata": {},
   "outputs": [],
   "source": [
    "#Columns with non_binary categorical variables\n",
    "df = pd.get_dummies(data = df, columns = ['bed_type','cancellation_policy','room_type','property_type', 'city'])"
   ]
  },
  {
   "cell_type": "code",
   "execution_count": 198,
   "metadata": {},
   "outputs": [
    {
     "data": {
      "text/plain": [
       "date                            object\n",
       "available                       object\n",
       "metro_area                      object\n",
       "amenities                       object\n",
       "has_availability               float64\n",
       "host_id                        float64\n",
       "instant_bookable                 int64\n",
       "latitude                       float64\n",
       "longitude                      float64\n",
       "metropolitan                    object\n",
       "name                            object\n",
       "state                           object\n",
       "zipcode                         object\n",
       "listed price                   float64\n",
       "accommodates                   float64\n",
       "availability_30                float64\n",
       "bathrooms                      float64\n",
       "bedrooms                       float64\n",
       "beds                           float64\n",
       "original price                 float64\n",
       "review_scores_checkin          float64\n",
       "review_scores_cleanliness      float64\n",
       "review_scores_communication    float64\n",
       "review_scores_location         float64\n",
       "review_scores_rating           float64\n",
       "review_scores_value            float64\n",
       "weekly_price                   float64\n",
       "bed_type_Airbed                  uint8\n",
       "bed_type_Couch                   uint8\n",
       "bed_type_Futon                   uint8\n",
       "                                ...   \n",
       "city_oakland gardens             uint8\n",
       "city_ozone park                  uint8\n",
       "city_park slope                  uint8\n",
       "city_parkchester                 uint8\n",
       "city_parkchester bronx           uint8\n",
       "city_queens                      uint8\n",
       "city_red hook                    uint8\n",
       "city_rego park                   uint8\n",
       "city_richmond hill               uint8\n",
       "city_ridgewood                   uint8\n",
       "city_riverdale                   uint8\n",
       "city_rockaway beach              uint8\n",
       "city_rosedale                    uint8\n",
       "city_saint albans                uint8\n",
       "city_south ozone park            uint8\n",
       "city_south richmond hill         uint8\n",
       "city_sprinfield gardens          uint8\n",
       "city_springfield gardens         uint8\n",
       "city_st albans                   uint8\n",
       "city_st. albans                  uint8\n",
       "city_staten island               uint8\n",
       "city_statenisland                uint8\n",
       "city_sunnysidebronx              uint8\n",
       "city_valley stream               uint8\n",
       "city_wadsworth terrace           uint8\n",
       "city_whitestone                  uint8\n",
       "city_williamsburg                uint8\n",
       "city_williamsburg bk             uint8\n",
       "city_woodside                    uint8\n",
       "city_yonkers                     uint8\n",
       "Length: 153, dtype: object"
      ]
     },
     "execution_count": 198,
     "metadata": {},
     "output_type": "execute_result"
    }
   ],
   "source": [
    "df.dtypes"
   ]
  },
  {
   "cell_type": "code",
   "execution_count": 199,
   "metadata": {},
   "outputs": [
    {
     "data": {
      "text/html": [
       "<div>\n",
       "<style scoped>\n",
       "    .dataframe tbody tr th:only-of-type {\n",
       "        vertical-align: middle;\n",
       "    }\n",
       "\n",
       "    .dataframe tbody tr th {\n",
       "        vertical-align: top;\n",
       "    }\n",
       "\n",
       "    .dataframe thead th {\n",
       "        text-align: right;\n",
       "    }\n",
       "</style>\n",
       "<table border=\"1\" class=\"dataframe\">\n",
       "  <thead>\n",
       "    <tr style=\"text-align: right;\">\n",
       "      <th></th>\n",
       "      <th>has_availability</th>\n",
       "      <th>host_id</th>\n",
       "      <th>instant_bookable</th>\n",
       "      <th>latitude</th>\n",
       "      <th>longitude</th>\n",
       "      <th>listed price</th>\n",
       "      <th>accommodates</th>\n",
       "      <th>availability_30</th>\n",
       "      <th>bathrooms</th>\n",
       "      <th>bedrooms</th>\n",
       "      <th>...</th>\n",
       "      <th>city_staten island</th>\n",
       "      <th>city_statenisland</th>\n",
       "      <th>city_sunnysidebronx</th>\n",
       "      <th>city_valley stream</th>\n",
       "      <th>city_wadsworth terrace</th>\n",
       "      <th>city_whitestone</th>\n",
       "      <th>city_williamsburg</th>\n",
       "      <th>city_williamsburg bk</th>\n",
       "      <th>city_woodside</th>\n",
       "      <th>city_yonkers</th>\n",
       "    </tr>\n",
       "  </thead>\n",
       "  <tbody>\n",
       "    <tr>\n",
       "      <th>count</th>\n",
       "      <td>0.0</td>\n",
       "      <td>4.456804e+06</td>\n",
       "      <td>4.456804e+06</td>\n",
       "      <td>4.456804e+06</td>\n",
       "      <td>4.456804e+06</td>\n",
       "      <td>130546.000000</td>\n",
       "      <td>332297.000000</td>\n",
       "      <td>332297.000000</td>\n",
       "      <td>329818.000000</td>\n",
       "      <td>331297.000000</td>\n",
       "      <td>...</td>\n",
       "      <td>4.456804e+06</td>\n",
       "      <td>4.456804e+06</td>\n",
       "      <td>4.456804e+06</td>\n",
       "      <td>4.456804e+06</td>\n",
       "      <td>4.456804e+06</td>\n",
       "      <td>4.456804e+06</td>\n",
       "      <td>4.456804e+06</td>\n",
       "      <td>4.456804e+06</td>\n",
       "      <td>4.456804e+06</td>\n",
       "      <td>4.456804e+06</td>\n",
       "    </tr>\n",
       "    <tr>\n",
       "      <th>mean</th>\n",
       "      <td>NaN</td>\n",
       "      <td>3.057361e+07</td>\n",
       "      <td>1.964812e-01</td>\n",
       "      <td>4.073075e+01</td>\n",
       "      <td>-7.395595e+01</td>\n",
       "      <td>0.024430</td>\n",
       "      <td>0.124329</td>\n",
       "      <td>0.251569</td>\n",
       "      <td>0.173328</td>\n",
       "      <td>0.131861</td>\n",
       "      <td>...</td>\n",
       "      <td>6.223967e-03</td>\n",
       "      <td>2.445699e-05</td>\n",
       "      <td>1.607004e-02</td>\n",
       "      <td>4.554833e-05</td>\n",
       "      <td>2.580324e-05</td>\n",
       "      <td>7.583910e-05</td>\n",
       "      <td>1.447225e-04</td>\n",
       "      <td>2.423261e-05</td>\n",
       "      <td>1.298688e-03</td>\n",
       "      <td>5.272837e-05</td>\n",
       "    </tr>\n",
       "    <tr>\n",
       "      <th>std</th>\n",
       "      <td>NaN</td>\n",
       "      <td>3.268390e+07</td>\n",
       "      <td>3.973366e-01</td>\n",
       "      <td>5.370884e-02</td>\n",
       "      <td>4.120934e-02</td>\n",
       "      <td>0.038947</td>\n",
       "      <td>0.116895</td>\n",
       "      <td>0.342552</td>\n",
       "      <td>0.060496</td>\n",
       "      <td>0.075753</td>\n",
       "      <td>...</td>\n",
       "      <td>7.864624e-02</td>\n",
       "      <td>4.945341e-03</td>\n",
       "      <td>1.257450e-01</td>\n",
       "      <td>6.748798e-03</td>\n",
       "      <td>5.079624e-03</td>\n",
       "      <td>8.708235e-03</td>\n",
       "      <td>1.202920e-02</td>\n",
       "      <td>4.922604e-03</td>\n",
       "      <td>3.601392e-02</td>\n",
       "      <td>7.261240e-03</td>\n",
       "    </tr>\n",
       "    <tr>\n",
       "      <th>min</th>\n",
       "      <td>NaN</td>\n",
       "      <td>7.200000e+01</td>\n",
       "      <td>0.000000e+00</td>\n",
       "      <td>4.049979e+01</td>\n",
       "      <td>-7.424084e+01</td>\n",
       "      <td>0.000000</td>\n",
       "      <td>0.000000</td>\n",
       "      <td>0.000000</td>\n",
       "      <td>0.000000</td>\n",
       "      <td>0.000000</td>\n",
       "      <td>...</td>\n",
       "      <td>0.000000e+00</td>\n",
       "      <td>0.000000e+00</td>\n",
       "      <td>0.000000e+00</td>\n",
       "      <td>0.000000e+00</td>\n",
       "      <td>0.000000e+00</td>\n",
       "      <td>0.000000e+00</td>\n",
       "      <td>0.000000e+00</td>\n",
       "      <td>0.000000e+00</td>\n",
       "      <td>0.000000e+00</td>\n",
       "      <td>0.000000e+00</td>\n",
       "    </tr>\n",
       "    <tr>\n",
       "      <th>25%</th>\n",
       "      <td>NaN</td>\n",
       "      <td>4.847926e+06</td>\n",
       "      <td>0.000000e+00</td>\n",
       "      <td>4.069231e+01</td>\n",
       "      <td>-7.398393e+01</td>\n",
       "      <td>0.010700</td>\n",
       "      <td>0.066667</td>\n",
       "      <td>0.000000</td>\n",
       "      <td>0.153846</td>\n",
       "      <td>0.111111</td>\n",
       "      <td>...</td>\n",
       "      <td>0.000000e+00</td>\n",
       "      <td>0.000000e+00</td>\n",
       "      <td>0.000000e+00</td>\n",
       "      <td>0.000000e+00</td>\n",
       "      <td>0.000000e+00</td>\n",
       "      <td>0.000000e+00</td>\n",
       "      <td>0.000000e+00</td>\n",
       "      <td>0.000000e+00</td>\n",
       "      <td>0.000000e+00</td>\n",
       "      <td>0.000000e+00</td>\n",
       "    </tr>\n",
       "    <tr>\n",
       "      <th>50%</th>\n",
       "      <td>NaN</td>\n",
       "      <td>1.801913e+07</td>\n",
       "      <td>0.000000e+00</td>\n",
       "      <td>4.072409e+01</td>\n",
       "      <td>-7.395721e+01</td>\n",
       "      <td>0.016984</td>\n",
       "      <td>0.066667</td>\n",
       "      <td>0.066667</td>\n",
       "      <td>0.153846</td>\n",
       "      <td>0.111111</td>\n",
       "      <td>...</td>\n",
       "      <td>0.000000e+00</td>\n",
       "      <td>0.000000e+00</td>\n",
       "      <td>0.000000e+00</td>\n",
       "      <td>0.000000e+00</td>\n",
       "      <td>0.000000e+00</td>\n",
       "      <td>0.000000e+00</td>\n",
       "      <td>0.000000e+00</td>\n",
       "      <td>0.000000e+00</td>\n",
       "      <td>0.000000e+00</td>\n",
       "      <td>0.000000e+00</td>\n",
       "    </tr>\n",
       "    <tr>\n",
       "      <th>75%</th>\n",
       "      <td>NaN</td>\n",
       "      <td>4.664434e+07</td>\n",
       "      <td>0.000000e+00</td>\n",
       "      <td>4.076449e+01</td>\n",
       "      <td>-7.394048e+01</td>\n",
       "      <td>0.028023</td>\n",
       "      <td>0.200000</td>\n",
       "      <td>0.400000</td>\n",
       "      <td>0.153846</td>\n",
       "      <td>0.111111</td>\n",
       "      <td>...</td>\n",
       "      <td>0.000000e+00</td>\n",
       "      <td>0.000000e+00</td>\n",
       "      <td>0.000000e+00</td>\n",
       "      <td>0.000000e+00</td>\n",
       "      <td>0.000000e+00</td>\n",
       "      <td>0.000000e+00</td>\n",
       "      <td>0.000000e+00</td>\n",
       "      <td>0.000000e+00</td>\n",
       "      <td>0.000000e+00</td>\n",
       "      <td>0.000000e+00</td>\n",
       "    </tr>\n",
       "    <tr>\n",
       "      <th>max</th>\n",
       "      <td>NaN</td>\n",
       "      <td>1.284849e+08</td>\n",
       "      <td>1.000000e+00</td>\n",
       "      <td>4.091216e+01</td>\n",
       "      <td>-7.371175e+01</td>\n",
       "      <td>1.000000</td>\n",
       "      <td>1.000000</td>\n",
       "      <td>1.000000</td>\n",
       "      <td>1.000000</td>\n",
       "      <td>0.777778</td>\n",
       "      <td>...</td>\n",
       "      <td>1.000000e+00</td>\n",
       "      <td>1.000000e+00</td>\n",
       "      <td>1.000000e+00</td>\n",
       "      <td>1.000000e+00</td>\n",
       "      <td>1.000000e+00</td>\n",
       "      <td>1.000000e+00</td>\n",
       "      <td>1.000000e+00</td>\n",
       "      <td>1.000000e+00</td>\n",
       "      <td>1.000000e+00</td>\n",
       "      <td>1.000000e+00</td>\n",
       "    </tr>\n",
       "  </tbody>\n",
       "</table>\n",
       "<p>8 rows × 145 columns</p>\n",
       "</div>"
      ],
      "text/plain": [
       "       has_availability       host_id  instant_bookable      latitude  \\\n",
       "count               0.0  4.456804e+06      4.456804e+06  4.456804e+06   \n",
       "mean                NaN  3.057361e+07      1.964812e-01  4.073075e+01   \n",
       "std                 NaN  3.268390e+07      3.973366e-01  5.370884e-02   \n",
       "min                 NaN  7.200000e+01      0.000000e+00  4.049979e+01   \n",
       "25%                 NaN  4.847926e+06      0.000000e+00  4.069231e+01   \n",
       "50%                 NaN  1.801913e+07      0.000000e+00  4.072409e+01   \n",
       "75%                 NaN  4.664434e+07      0.000000e+00  4.076449e+01   \n",
       "max                 NaN  1.284849e+08      1.000000e+00  4.091216e+01   \n",
       "\n",
       "          longitude   listed price   accommodates  availability_30  \\\n",
       "count  4.456804e+06  130546.000000  332297.000000    332297.000000   \n",
       "mean  -7.395595e+01       0.024430       0.124329         0.251569   \n",
       "std    4.120934e-02       0.038947       0.116895         0.342552   \n",
       "min   -7.424084e+01       0.000000       0.000000         0.000000   \n",
       "25%   -7.398393e+01       0.010700       0.066667         0.000000   \n",
       "50%   -7.395721e+01       0.016984       0.066667         0.066667   \n",
       "75%   -7.394048e+01       0.028023       0.200000         0.400000   \n",
       "max   -7.371175e+01       1.000000       1.000000         1.000000   \n",
       "\n",
       "           bathrooms       bedrooms  ...  city_staten island  \\\n",
       "count  329818.000000  331297.000000  ...        4.456804e+06   \n",
       "mean        0.173328       0.131861  ...        6.223967e-03   \n",
       "std         0.060496       0.075753  ...        7.864624e-02   \n",
       "min         0.000000       0.000000  ...        0.000000e+00   \n",
       "25%         0.153846       0.111111  ...        0.000000e+00   \n",
       "50%         0.153846       0.111111  ...        0.000000e+00   \n",
       "75%         0.153846       0.111111  ...        0.000000e+00   \n",
       "max         1.000000       0.777778  ...        1.000000e+00   \n",
       "\n",
       "       city_statenisland  city_sunnysidebronx  city_valley stream  \\\n",
       "count       4.456804e+06         4.456804e+06        4.456804e+06   \n",
       "mean        2.445699e-05         1.607004e-02        4.554833e-05   \n",
       "std         4.945341e-03         1.257450e-01        6.748798e-03   \n",
       "min         0.000000e+00         0.000000e+00        0.000000e+00   \n",
       "25%         0.000000e+00         0.000000e+00        0.000000e+00   \n",
       "50%         0.000000e+00         0.000000e+00        0.000000e+00   \n",
       "75%         0.000000e+00         0.000000e+00        0.000000e+00   \n",
       "max         1.000000e+00         1.000000e+00        1.000000e+00   \n",
       "\n",
       "       city_wadsworth terrace  city_whitestone  city_williamsburg  \\\n",
       "count            4.456804e+06     4.456804e+06       4.456804e+06   \n",
       "mean             2.580324e-05     7.583910e-05       1.447225e-04   \n",
       "std              5.079624e-03     8.708235e-03       1.202920e-02   \n",
       "min              0.000000e+00     0.000000e+00       0.000000e+00   \n",
       "25%              0.000000e+00     0.000000e+00       0.000000e+00   \n",
       "50%              0.000000e+00     0.000000e+00       0.000000e+00   \n",
       "75%              0.000000e+00     0.000000e+00       0.000000e+00   \n",
       "max              1.000000e+00     1.000000e+00       1.000000e+00   \n",
       "\n",
       "       city_williamsburg bk  city_woodside  city_yonkers  \n",
       "count          4.456804e+06   4.456804e+06  4.456804e+06  \n",
       "mean           2.423261e-05   1.298688e-03  5.272837e-05  \n",
       "std            4.922604e-03   3.601392e-02  7.261240e-03  \n",
       "min            0.000000e+00   0.000000e+00  0.000000e+00  \n",
       "25%            0.000000e+00   0.000000e+00  0.000000e+00  \n",
       "50%            0.000000e+00   0.000000e+00  0.000000e+00  \n",
       "75%            0.000000e+00   0.000000e+00  0.000000e+00  \n",
       "max            1.000000e+00   1.000000e+00  1.000000e+00  \n",
       "\n",
       "[8 rows x 145 columns]"
      ]
     },
     "execution_count": 199,
     "metadata": {},
     "output_type": "execute_result"
    }
   ],
   "source": [
    "df.describe()"
   ]
  },
  {
   "cell_type": "code",
   "execution_count": 207,
   "metadata": {},
   "outputs": [],
   "source": [
    "features_list = df.columns.tolist()"
   ]
  },
  {
   "cell_type": "code",
   "execution_count": 214,
   "metadata": {},
   "outputs": [],
   "source": [
    "for x in (id_list + target_list + flag_list):\n",
    "    if x in features_list:\n",
    "        features_list.remove(x)\n",
    "features_list.remove('date')"
   ]
  },
  {
   "cell_type": "code",
   "execution_count": 215,
   "metadata": {},
   "outputs": [
    {
     "data": {
      "text/plain": [
       "141"
      ]
     },
     "execution_count": 215,
     "metadata": {},
     "output_type": "execute_result"
    }
   ],
   "source": [
    "len(features_list)"
   ]
  },
  {
   "cell_type": "code",
   "execution_count": 252,
   "metadata": {},
   "outputs": [],
   "source": [
    "for name in features_list:\n",
    "    if max(df[name] == 0):\n",
    "        df.drop(columns = name)\n",
    "        features_list.remove(name)"
   ]
  },
  {
   "cell_type": "code",
   "execution_count": 253,
   "metadata": {},
   "outputs": [
    {
     "data": {
      "text/plain": [
       "74"
      ]
     },
     "execution_count": 253,
     "metadata": {},
     "output_type": "execute_result"
    }
   ],
   "source": [
    "len(features_list)"
   ]
  },
  {
   "cell_type": "code",
   "execution_count": 254,
   "metadata": {
    "scrolled": true
   },
   "outputs": [
    {
     "name": "stdout",
     "output_type": "stream",
     "text": [
      "['listed price', 'availability_30', 'bedrooms', 'original price', 'review_scores_checkin', 'review_scores_cleanliness', 'review_scores_communication', 'review_scores_location', 'review_scores_rating', 'review_scores_value', 'weekly_price', 'bed_type_Couch', 'bed_type_Pull-out Sofa', 'cancellation_policy_flexible', 'cancellation_policy_moderate', 'cancellation_policy_strict', 'room_type_Entire home/apt', 'room_type_Shared room', 'property_type_Bed & Breakfast', 'property_type_Boutique hotel', 'property_type_Cabin', 'property_type_Cave', 'property_type_Condominium', 'property_type_Earth House', 'property_type_Guesthouse', 'property_type_House', 'property_type_In-law', 'property_type_Loft', 'property_type_Serviced apartment', 'property_type_Timeshare', 'property_type_Vacation home', 'city_arverne', 'city_auburndale', 'city_bay ridge', 'city_bedstuy', 'city_bellerose', 'city_briarwood', 'city_brooklyn', 'city_cambria heights', 'city_chelsea', 'city_corona', 'city_east williamsburg', 'city_elmont', 'city_far rockaway', 'city_flushing', 'city_fort greene', 'city_glendale', 'city_greenpoint', \"city_hell's kitchen\", 'city_howard beach', 'city_jamaica', 'city_kew gardens hills', 'city_l.i.c', 'city_lawrence', 'city_long island city', 'city_lower east side', 'city_manhattan ny', 'city_middle village', 'city_nyc', 'city_ozone park', 'city_parkchester', 'city_queens', 'city_rego park', 'city_ridgewood', 'city_rockaway beach', 'city_saint albans', 'city_south richmond hill', 'city_springfield gardens', 'city_st. albans', 'city_statenisland', 'city_valley stream', 'city_whitestone', 'city_williamsburg bk', 'city_yonkers']\n"
     ]
    }
   ],
   "source": [
    "print(features_list)"
   ]
  },
  {
   "cell_type": "code",
   "execution_count": 259,
   "metadata": {},
   "outputs": [
    {
     "data": {
      "text/plain": [
       "<Figure size 720x720 with 0 Axes>"
      ]
     },
     "metadata": {},
     "output_type": "display_data"
    }
   ],
   "source": [
    "plt.figure(figsize=(10,10))\n",
    "cor = df[features_list].corr()"
   ]
  },
  {
   "cell_type": "code",
   "execution_count": 260,
   "metadata": {},
   "outputs": [
    {
     "data": {
      "image/png": "[encoded data removed]",
      "text/plain": [
       "<Figure size 432x288 with 2 Axes>"
      ]
     },
     "metadata": {
      "needs_background": "light"
     },
     "output_type": "display_data"
    }
   ],
   "source": [
    "sns.heatmap(cor, square = True, xticklabels=True, yticklabels=True)\n",
    "plt.show()"
   ]
  },
  {
   "cell_type": "code",
   "execution_count": 268,
   "metadata": {},
   "outputs": [
    {
     "name": "stdout",
     "output_type": "stream",
     "text": [
      "0.9649533332085987 = cor(listed price , original price)\n",
      "0.9372845122951854 = cor(listed price , weekly_price)\n",
      "0.9423587523184067 = cor(original price , weekly_price)\n",
      "0.7617685161167237 = cor(review_scores_rating , review_scores_value)\n"
     ]
    }
   ],
   "source": [
    "# Checking for high correlation coefficients > 0.75\n",
    "for i in cor.keys():\n",
    "    for j in cor.keys():\n",
    "        if cor[i][j] > 0.75 and cor[i][j] <1 and i < j:\n",
    "            print (cor[i][j], '=','cor('+i,',',j+')')"
   ]
  },
  {
   "cell_type": "code",
   "execution_count": 267,
   "metadata": {},
   "outputs": [
    {
     "data": {
      "text/html": [
       "<div>\n",
       "<style scoped>\n",
       "    .dataframe tbody tr th:only-of-type {\n",
       "        vertical-align: middle;\n",
       "    }\n",
       "\n",
       "    .dataframe tbody tr th {\n",
       "        vertical-align: top;\n",
       "    }\n",
       "\n",
       "    .dataframe thead th {\n",
       "        text-align: right;\n",
       "    }\n",
       "</style>\n",
       "<table border=\"1\" class=\"dataframe\">\n",
       "  <thead>\n",
       "    <tr style=\"text-align: right;\">\n",
       "      <th></th>\n",
       "      <th>available</th>\n",
       "    </tr>\n",
       "  </thead>\n",
       "  <tbody>\n",
       "    <tr>\n",
       "      <th>count</th>\n",
       "      <td>35337</td>\n",
       "    </tr>\n",
       "    <tr>\n",
       "      <th>unique</th>\n",
       "      <td>2</td>\n",
       "    </tr>\n",
       "    <tr>\n",
       "      <th>top</th>\n",
       "      <td>t</td>\n",
       "    </tr>\n",
       "    <tr>\n",
       "      <th>freq</th>\n",
       "      <td>19192</td>\n",
       "    </tr>\n",
       "  </tbody>\n",
       "</table>\n",
       "</div>"
      ],
      "text/plain": [
       "       available\n",
       "count      35337\n",
       "unique         2\n",
       "top            t\n",
       "freq       19192"
      ]
     },
     "execution_count": 267,
     "metadata": {},
     "output_type": "execute_result"
    }
   ],
   "source": [
    "df.describe"
   ]
  },
  {
   "cell_type": "markdown",
   "metadata": {},
   "source": [
    "# Modelling"
   ]
  },
  {
   "cell_type": "code",
   "execution_count": 219,
   "metadata": {},
   "outputs": [],
   "source": [
    "from sklearn import datasets\n",
    "from sklearn.model_selection import train_test_split\n",
    "from sklearn.linear_model import LogisticRegression\n",
    "from sklearn.model_selection import KFold, cross_val_score\n",
    "from sklearn.tree import DecisionTreeClassifier\n",
    "from sklearn import tree\n",
    "from sklearn.metrics import accuracy_score, f1_score, precision_score, recall_score, classification_report, confusion_matrix\n",
    "from sklearn.metrics import roc_curve, auc"
   ]
  },
  {
   "cell_type": "code",
   "execution_count": 220,
   "metadata": {},
   "outputs": [],
   "source": [
    "# Create a 5-fold cross validation\n",
    "kf = KFold(n_splits = 5, shuffle=True, random_state = 12345)"
   ]
  },
  {
   "cell_type": "code",
   "execution_count": 221,
   "metadata": {},
   "outputs": [],
   "source": [
    "# For saving cross validation accuracy and confusion matrices for the different models\n",
    "cv = {}\n",
    "cm = {}\n",
    "cma = {}\n",
    "coeffs = {}\n",
    "fpr = {}\n",
    "tpr = {}\n",
    "roc_auc = {}"
   ]
  },
  {
   "cell_type": "code",
   "execution_count": 222,
   "metadata": {},
   "outputs": [],
   "source": [
    "def prediction(model, model_name, feature_weights):\n",
    "    print('##### Model',model_name,'#####')\n",
    "\n",
    "    # Cross Validation\n",
    "    cv[model_name] = cross_val_score(model, # Cross-validation on model\n",
    "                             X, # Feature matrix\n",
    "                             y, # Output vector\n",
    "                             cv=kf, # Cross-validation technique\n",
    "                             scoring='accuracy' # Model performance metrics: accuracy\n",
    "                            )\n",
    "    print('Report Average Cross-Validation Accuracy of',model_name+':')\n",
    "    print(np.mean(cv[model_name])*100, '%')\n",
    "\n",
    "    # Fit the model on train data\n",
    "    model.fit(X=X_train, y=y_train)\n",
    "\n",
    "    # Predict outputs for test data\n",
    "    y_pred = model.predict(X_test)\n",
    "\n",
    "    # Create confusion matrix\n",
    "    cm[model_name] = confusion_matrix(y_test, y_pred)\n",
    "    print('\\nConfusion Matrix of',model_name)\n",
    "    print(cm[model_name])\n",
    "    cma[model_name] = accuracy_score(y_test, y_pred)\n",
    "    print(\"Confusion Matrix Prediction Accuracy: \", cma[model_name]*100,'%')\n",
    "\n",
    "    # ROC and AUC\n",
    "    # Get predicted scores Pr(y=1): Used as thresholds for calculating TP Rate and FP Rate\n",
    "    # model.classes_\n",
    "    score = model.predict_proba(X_test)[:, 1]\n",
    "\n",
    "    # Plot ROC Curve\n",
    "    fpr[model_name], tpr[model_name], thresholds = roc_curve(y_test, score) # fpr: FP Rate, tpr: TP Rate, thresholds: Pr(y=1)\n",
    "    roc_auc[model_name] = auc(fpr[model_name], tpr[model_name])\n",
    "\n",
    "    plt.plot(fpr[model_name], tpr[model_name], label='AUC =coeff %0.2f'% roc_auc[model_name])\n",
    "    plt.legend(loc='lower right')\n",
    "    plt.plot([0,1],[0,1],'r--')\n",
    "    plt.xlim([-0.1,1.1])\n",
    "    plt.ylim([-0.1,1.1])\n",
    "    plt.title('Receiver operating characteristic')\n",
    "    plt.ylabel('True Positive Rate')\n",
    "    plt.xlabel('False Positive Rate')\n",
    "    plt.show()\n",
    "\n",
    "    # Get feature weights\n",
    "    if feature_weights:\n",
    "        if feature_weights == \"coeff\":\n",
    "            weights = pd.DataFrame(model.coef_[0])\n",
    "        elif feature_weights == \"features\":\n",
    "            weights = pd.DataFrame(model.feature_importances_)\n",
    "        # Bagging method makes use of many decision trees\n",
    "        elif feature_weights == \"bagging\":\n",
    "            weights = np.mean([tree.feature_importances_ for tree in model.estimators_], axis = 0)\n",
    "            weights = pd.DataFrame(weights)\n",
    "\n",
    "        coeffs[model_name] = pd.merge(pd.DataFrame(model_features),weights, left_index=True, right_index=True, how='left')\n",
    "        coeffs[model_name].columns = ['Feature', 'Weights']\n",
    "        coeffs[model_name] = coeffs[model_name].sort_values(by = 'Weights')\n",
    "\n",
    "        plt.barh(coeffs[model_name]['Feature'], coeffs[model_name]['Weights'])\n",
    "        plt.title('Feature Weights')\n",
    "        plt.show()\n",
    "\n",
    "        coeffs[model_name] = coeffs[model_name].sort_values(by = 'Weights', ascending=False)\n",
    "        print(coeffs[model_name])"
   ]
  },
  {
   "cell_type": "code",
   "execution_count": 223,
   "metadata": {},
   "outputs": [],
   "source": [
    "def set_train_test(df, features_list, target_list):\n",
    "    global X, y, X_train, X_test, y_train, y_test\n",
    "    \n",
    "    X = df[features_list]\n",
    "    y = df[target_list[0]]\n",
    "\n",
    "    # Do train-test split: 70% train and 30% test\n",
    "    X_train, X_test, y_train, y_test = train_test_split(X, y, test_size=0.3, random_state=0)"
   ]
  },
  {
   "cell_type": "code",
   "execution_count": 255,
   "metadata": {},
   "outputs": [],
   "source": [
    "set_train_test(df, features_list, target_list)"
   ]
  },
  {
   "cell_type": "markdown",
   "metadata": {},
   "source": [
    "## Univariate feature selection"
   ]
  },
  {
   "cell_type": "code",
   "execution_count": 256,
   "metadata": {
    "scrolled": true
   },
   "outputs": [
    {
     "data": {
      "text/plain": [
       "date                           0\n",
       "available                      0\n",
       "metro_area                     0\n",
       "amenities                      0\n",
       "host_id                        0\n",
       "instant_bookable               0\n",
       "latitude                       0\n",
       "longitude                      0\n",
       "metropolitan                   0\n",
       "name                           0\n",
       "state                          0\n",
       "zipcode                        0\n",
       "listed price                   0\n",
       "accommodates                   0\n",
       "availability_30                0\n",
       "bathrooms                      0\n",
       "bedrooms                       0\n",
       "beds                           0\n",
       "original price                 0\n",
       "review_scores_checkin          0\n",
       "review_scores_cleanliness      0\n",
       "review_scores_communication    0\n",
       "review_scores_location         0\n",
       "review_scores_rating           0\n",
       "review_scores_value            0\n",
       "weekly_price                   0\n",
       "bed_type_Airbed                0\n",
       "bed_type_Couch                 0\n",
       "bed_type_Futon                 0\n",
       "bed_type_Pull-out Sofa         0\n",
       "                              ..\n",
       "city_oakland gardens           0\n",
       "city_ozone park                0\n",
       "city_park slope                0\n",
       "city_parkchester               0\n",
       "city_parkchester bronx         0\n",
       "city_queens                    0\n",
       "city_red hook                  0\n",
       "city_rego park                 0\n",
       "city_richmond hill             0\n",
       "city_ridgewood                 0\n",
       "city_riverdale                 0\n",
       "city_rockaway beach            0\n",
       "city_rosedale                  0\n",
       "city_saint albans              0\n",
       "city_south ozone park          0\n",
       "city_south richmond hill       0\n",
       "city_sprinfield gardens        0\n",
       "city_springfield gardens       0\n",
       "city_st albans                 0\n",
       "city_st. albans                0\n",
       "city_staten island             0\n",
       "city_statenisland              0\n",
       "city_sunnysidebronx            0\n",
       "city_valley stream             0\n",
       "city_wadsworth terrace         0\n",
       "city_whitestone                0\n",
       "city_williamsburg              0\n",
       "city_williamsburg bk           0\n",
       "city_woodside                  0\n",
       "city_yonkers                   0\n",
       "Length: 152, dtype: int64"
      ]
     },
     "execution_count": 256,
     "metadata": {},
     "output_type": "execute_result"
    }
   ],
   "source": [
    "df.isnull().sum()"
   ]
  },
  {
   "cell_type": "code",
   "execution_count": 216,
   "metadata": {},
   "outputs": [],
   "source": [
    "from sklearn.feature_selection import chi2\n",
    "from sklearn.feature_selection import SelectKBest"
   ]
  },
  {
   "cell_type": "code",
   "execution_count": 257,
   "metadata": {},
   "outputs": [],
   "source": [
    "select = SelectKBest(score_func = chi2,k = 3)\n",
    "fit    = select.fit(X,y)"
   ]
  },
  {
   "cell_type": "code",
   "execution_count": 258,
   "metadata": {},
   "outputs": [
    {
     "data": {
      "text/html": [
       "<div>\n",
       "<style scoped>\n",
       "    .dataframe tbody tr th:only-of-type {\n",
       "        vertical-align: middle;\n",
       "    }\n",
       "\n",
       "    .dataframe tbody tr th {\n",
       "        vertical-align: top;\n",
       "    }\n",
       "\n",
       "    .dataframe thead th {\n",
       "        text-align: right;\n",
       "    }\n",
       "</style>\n",
       "<table border=\"1\" class=\"dataframe\">\n",
       "  <thead>\n",
       "    <tr style=\"text-align: right;\">\n",
       "      <th></th>\n",
       "      <th>features</th>\n",
       "      <th>scores</th>\n",
       "      <th>p_values</th>\n",
       "    </tr>\n",
       "  </thead>\n",
       "  <tbody>\n",
       "    <tr>\n",
       "      <th>16</th>\n",
       "      <td>room_type_Entire home/apt</td>\n",
       "      <td>310.997215</td>\n",
       "      <td>1.324309e-69</td>\n",
       "    </tr>\n",
       "    <tr>\n",
       "      <th>13</th>\n",
       "      <td>cancellation_policy_flexible</td>\n",
       "      <td>242.187210</td>\n",
       "      <td>1.311611e-54</td>\n",
       "    </tr>\n",
       "    <tr>\n",
       "      <th>61</th>\n",
       "      <td>city_queens</td>\n",
       "      <td>217.441171</td>\n",
       "      <td>3.269971e-49</td>\n",
       "    </tr>\n",
       "    <tr>\n",
       "      <th>15</th>\n",
       "      <td>cancellation_policy_strict</td>\n",
       "      <td>213.904918</td>\n",
       "      <td>1.931790e-48</td>\n",
       "    </tr>\n",
       "    <tr>\n",
       "      <th>14</th>\n",
       "      <td>cancellation_policy_moderate</td>\n",
       "      <td>212.640773</td>\n",
       "      <td>3.645363e-48</td>\n",
       "    </tr>\n",
       "    <tr>\n",
       "      <th>25</th>\n",
       "      <td>property_type_House</td>\n",
       "      <td>209.626836</td>\n",
       "      <td>1.656837e-47</td>\n",
       "    </tr>\n",
       "    <tr>\n",
       "      <th>17</th>\n",
       "      <td>room_type_Shared room</td>\n",
       "      <td>146.074473</td>\n",
       "      <td>1.250433e-33</td>\n",
       "    </tr>\n",
       "    <tr>\n",
       "      <th>54</th>\n",
       "      <td>city_long island city</td>\n",
       "      <td>115.237183</td>\n",
       "      <td>6.982599e-27</td>\n",
       "    </tr>\n",
       "    <tr>\n",
       "      <th>19</th>\n",
       "      <td>property_type_Boutique hotel</td>\n",
       "      <td>103.472020</td>\n",
       "      <td>2.640977e-24</td>\n",
       "    </tr>\n",
       "    <tr>\n",
       "      <th>37</th>\n",
       "      <td>city_brooklyn</td>\n",
       "      <td>90.929563</td>\n",
       "      <td>1.488786e-21</td>\n",
       "    </tr>\n",
       "    <tr>\n",
       "      <th>27</th>\n",
       "      <td>property_type_Loft</td>\n",
       "      <td>87.513884</td>\n",
       "      <td>8.369026e-21</td>\n",
       "    </tr>\n",
       "    <tr>\n",
       "      <th>50</th>\n",
       "      <td>city_jamaica</td>\n",
       "      <td>73.508377</td>\n",
       "      <td>1.002100e-17</td>\n",
       "    </tr>\n",
       "    <tr>\n",
       "      <th>18</th>\n",
       "      <td>property_type_Bed &amp; Breakfast</td>\n",
       "      <td>15.894334</td>\n",
       "      <td>6.697892e-05</td>\n",
       "    </tr>\n",
       "    <tr>\n",
       "      <th>12</th>\n",
       "      <td>bed_type_Pull-out Sofa</td>\n",
       "      <td>14.005000</td>\n",
       "      <td>1.823252e-04</td>\n",
       "    </tr>\n",
       "    <tr>\n",
       "      <th>2</th>\n",
       "      <td>bedrooms</td>\n",
       "      <td>1.604692</td>\n",
       "      <td>2.052395e-01</td>\n",
       "    </tr>\n",
       "    <tr>\n",
       "      <th>8</th>\n",
       "      <td>review_scores_rating</td>\n",
       "      <td>1.373909</td>\n",
       "      <td>2.411413e-01</td>\n",
       "    </tr>\n",
       "    <tr>\n",
       "      <th>7</th>\n",
       "      <td>review_scores_location</td>\n",
       "      <td>0.649231</td>\n",
       "      <td>4.203878e-01</td>\n",
       "    </tr>\n",
       "    <tr>\n",
       "      <th>1</th>\n",
       "      <td>availability_30</td>\n",
       "      <td>0.537711</td>\n",
       "      <td>4.633830e-01</td>\n",
       "    </tr>\n",
       "    <tr>\n",
       "      <th>10</th>\n",
       "      <td>weekly_price</td>\n",
       "      <td>0.403542</td>\n",
       "      <td>5.252659e-01</td>\n",
       "    </tr>\n",
       "    <tr>\n",
       "      <th>9</th>\n",
       "      <td>review_scores_value</td>\n",
       "      <td>0.310796</td>\n",
       "      <td>5.771924e-01</td>\n",
       "    </tr>\n",
       "    <tr>\n",
       "      <th>4</th>\n",
       "      <td>review_scores_checkin</td>\n",
       "      <td>0.296252</td>\n",
       "      <td>5.862417e-01</td>\n",
       "    </tr>\n",
       "    <tr>\n",
       "      <th>5</th>\n",
       "      <td>review_scores_cleanliness</td>\n",
       "      <td>0.279455</td>\n",
       "      <td>5.970588e-01</td>\n",
       "    </tr>\n",
       "    <tr>\n",
       "      <th>22</th>\n",
       "      <td>property_type_Condominium</td>\n",
       "      <td>0.238800</td>\n",
       "      <td>6.250743e-01</td>\n",
       "    </tr>\n",
       "    <tr>\n",
       "      <th>3</th>\n",
       "      <td>original price</td>\n",
       "      <td>0.032220</td>\n",
       "      <td>8.575463e-01</td>\n",
       "    </tr>\n",
       "    <tr>\n",
       "      <th>6</th>\n",
       "      <td>review_scores_communication</td>\n",
       "      <td>0.000661</td>\n",
       "      <td>9.794938e-01</td>\n",
       "    </tr>\n",
       "    <tr>\n",
       "      <th>0</th>\n",
       "      <td>listed price</td>\n",
       "      <td>0.000315</td>\n",
       "      <td>9.858350e-01</td>\n",
       "    </tr>\n",
       "    <tr>\n",
       "      <th>11</th>\n",
       "      <td>bed_type_Couch</td>\n",
       "      <td>NaN</td>\n",
       "      <td>NaN</td>\n",
       "    </tr>\n",
       "    <tr>\n",
       "      <th>20</th>\n",
       "      <td>property_type_Cabin</td>\n",
       "      <td>NaN</td>\n",
       "      <td>NaN</td>\n",
       "    </tr>\n",
       "    <tr>\n",
       "      <th>21</th>\n",
       "      <td>property_type_Cave</td>\n",
       "      <td>NaN</td>\n",
       "      <td>NaN</td>\n",
       "    </tr>\n",
       "    <tr>\n",
       "      <th>23</th>\n",
       "      <td>property_type_Earth House</td>\n",
       "      <td>NaN</td>\n",
       "      <td>NaN</td>\n",
       "    </tr>\n",
       "    <tr>\n",
       "      <th>...</th>\n",
       "      <td>...</td>\n",
       "      <td>...</td>\n",
       "      <td>...</td>\n",
       "    </tr>\n",
       "    <tr>\n",
       "      <th>41</th>\n",
       "      <td>city_east williamsburg</td>\n",
       "      <td>NaN</td>\n",
       "      <td>NaN</td>\n",
       "    </tr>\n",
       "    <tr>\n",
       "      <th>42</th>\n",
       "      <td>city_elmont</td>\n",
       "      <td>NaN</td>\n",
       "      <td>NaN</td>\n",
       "    </tr>\n",
       "    <tr>\n",
       "      <th>43</th>\n",
       "      <td>city_far rockaway</td>\n",
       "      <td>NaN</td>\n",
       "      <td>NaN</td>\n",
       "    </tr>\n",
       "    <tr>\n",
       "      <th>44</th>\n",
       "      <td>city_flushing</td>\n",
       "      <td>NaN</td>\n",
       "      <td>NaN</td>\n",
       "    </tr>\n",
       "    <tr>\n",
       "      <th>45</th>\n",
       "      <td>city_fort greene</td>\n",
       "      <td>NaN</td>\n",
       "      <td>NaN</td>\n",
       "    </tr>\n",
       "    <tr>\n",
       "      <th>46</th>\n",
       "      <td>city_glendale</td>\n",
       "      <td>NaN</td>\n",
       "      <td>NaN</td>\n",
       "    </tr>\n",
       "    <tr>\n",
       "      <th>47</th>\n",
       "      <td>city_greenpoint</td>\n",
       "      <td>NaN</td>\n",
       "      <td>NaN</td>\n",
       "    </tr>\n",
       "    <tr>\n",
       "      <th>48</th>\n",
       "      <td>city_hell's kitchen</td>\n",
       "      <td>NaN</td>\n",
       "      <td>NaN</td>\n",
       "    </tr>\n",
       "    <tr>\n",
       "      <th>49</th>\n",
       "      <td>city_howard beach</td>\n",
       "      <td>NaN</td>\n",
       "      <td>NaN</td>\n",
       "    </tr>\n",
       "    <tr>\n",
       "      <th>51</th>\n",
       "      <td>city_kew gardens hills</td>\n",
       "      <td>NaN</td>\n",
       "      <td>NaN</td>\n",
       "    </tr>\n",
       "    <tr>\n",
       "      <th>52</th>\n",
       "      <td>city_l.i.c</td>\n",
       "      <td>NaN</td>\n",
       "      <td>NaN</td>\n",
       "    </tr>\n",
       "    <tr>\n",
       "      <th>53</th>\n",
       "      <td>city_lawrence</td>\n",
       "      <td>NaN</td>\n",
       "      <td>NaN</td>\n",
       "    </tr>\n",
       "    <tr>\n",
       "      <th>55</th>\n",
       "      <td>city_lower east side</td>\n",
       "      <td>NaN</td>\n",
       "      <td>NaN</td>\n",
       "    </tr>\n",
       "    <tr>\n",
       "      <th>56</th>\n",
       "      <td>city_manhattan ny</td>\n",
       "      <td>NaN</td>\n",
       "      <td>NaN</td>\n",
       "    </tr>\n",
       "    <tr>\n",
       "      <th>57</th>\n",
       "      <td>city_middle village</td>\n",
       "      <td>NaN</td>\n",
       "      <td>NaN</td>\n",
       "    </tr>\n",
       "    <tr>\n",
       "      <th>58</th>\n",
       "      <td>city_nyc</td>\n",
       "      <td>NaN</td>\n",
       "      <td>NaN</td>\n",
       "    </tr>\n",
       "    <tr>\n",
       "      <th>59</th>\n",
       "      <td>city_ozone park</td>\n",
       "      <td>NaN</td>\n",
       "      <td>NaN</td>\n",
       "    </tr>\n",
       "    <tr>\n",
       "      <th>60</th>\n",
       "      <td>city_parkchester</td>\n",
       "      <td>NaN</td>\n",
       "      <td>NaN</td>\n",
       "    </tr>\n",
       "    <tr>\n",
       "      <th>62</th>\n",
       "      <td>city_rego park</td>\n",
       "      <td>NaN</td>\n",
       "      <td>NaN</td>\n",
       "    </tr>\n",
       "    <tr>\n",
       "      <th>63</th>\n",
       "      <td>city_ridgewood</td>\n",
       "      <td>NaN</td>\n",
       "      <td>NaN</td>\n",
       "    </tr>\n",
       "    <tr>\n",
       "      <th>64</th>\n",
       "      <td>city_rockaway beach</td>\n",
       "      <td>NaN</td>\n",
       "      <td>NaN</td>\n",
       "    </tr>\n",
       "    <tr>\n",
       "      <th>65</th>\n",
       "      <td>city_saint albans</td>\n",
       "      <td>NaN</td>\n",
       "      <td>NaN</td>\n",
       "    </tr>\n",
       "    <tr>\n",
       "      <th>66</th>\n",
       "      <td>city_south richmond hill</td>\n",
       "      <td>NaN</td>\n",
       "      <td>NaN</td>\n",
       "    </tr>\n",
       "    <tr>\n",
       "      <th>67</th>\n",
       "      <td>city_springfield gardens</td>\n",
       "      <td>NaN</td>\n",
       "      <td>NaN</td>\n",
       "    </tr>\n",
       "    <tr>\n",
       "      <th>68</th>\n",
       "      <td>city_st. albans</td>\n",
       "      <td>NaN</td>\n",
       "      <td>NaN</td>\n",
       "    </tr>\n",
       "    <tr>\n",
       "      <th>69</th>\n",
       "      <td>city_statenisland</td>\n",
       "      <td>NaN</td>\n",
       "      <td>NaN</td>\n",
       "    </tr>\n",
       "    <tr>\n",
       "      <th>70</th>\n",
       "      <td>city_valley stream</td>\n",
       "      <td>NaN</td>\n",
       "      <td>NaN</td>\n",
       "    </tr>\n",
       "    <tr>\n",
       "      <th>71</th>\n",
       "      <td>city_whitestone</td>\n",
       "      <td>NaN</td>\n",
       "      <td>NaN</td>\n",
       "    </tr>\n",
       "    <tr>\n",
       "      <th>72</th>\n",
       "      <td>city_williamsburg bk</td>\n",
       "      <td>NaN</td>\n",
       "      <td>NaN</td>\n",
       "    </tr>\n",
       "    <tr>\n",
       "      <th>73</th>\n",
       "      <td>city_yonkers</td>\n",
       "      <td>NaN</td>\n",
       "      <td>NaN</td>\n",
       "    </tr>\n",
       "  </tbody>\n",
       "</table>\n",
       "<p>74 rows × 3 columns</p>\n",
       "</div>"
      ],
      "text/plain": [
       "                         features      scores      p_values\n",
       "16      room_type_Entire home/apt  310.997215  1.324309e-69\n",
       "13   cancellation_policy_flexible  242.187210  1.311611e-54\n",
       "61                    city_queens  217.441171  3.269971e-49\n",
       "15     cancellation_policy_strict  213.904918  1.931790e-48\n",
       "14   cancellation_policy_moderate  212.640773  3.645363e-48\n",
       "25            property_type_House  209.626836  1.656837e-47\n",
       "17          room_type_Shared room  146.074473  1.250433e-33\n",
       "54          city_long island city  115.237183  6.982599e-27\n",
       "19   property_type_Boutique hotel  103.472020  2.640977e-24\n",
       "37                  city_brooklyn   90.929563  1.488786e-21\n",
       "27             property_type_Loft   87.513884  8.369026e-21\n",
       "50                   city_jamaica   73.508377  1.002100e-17\n",
       "18  property_type_Bed & Breakfast   15.894334  6.697892e-05\n",
       "12         bed_type_Pull-out Sofa   14.005000  1.823252e-04\n",
       "2                        bedrooms    1.604692  2.052395e-01\n",
       "8            review_scores_rating    1.373909  2.411413e-01\n",
       "7          review_scores_location    0.649231  4.203878e-01\n",
       "1                 availability_30    0.537711  4.633830e-01\n",
       "10                   weekly_price    0.403542  5.252659e-01\n",
       "9             review_scores_value    0.310796  5.771924e-01\n",
       "4           review_scores_checkin    0.296252  5.862417e-01\n",
       "5       review_scores_cleanliness    0.279455  5.970588e-01\n",
       "22      property_type_Condominium    0.238800  6.250743e-01\n",
       "3                  original price    0.032220  8.575463e-01\n",
       "6     review_scores_communication    0.000661  9.794938e-01\n",
       "0                    listed price    0.000315  9.858350e-01\n",
       "11                 bed_type_Couch         NaN           NaN\n",
       "20            property_type_Cabin         NaN           NaN\n",
       "21             property_type_Cave         NaN           NaN\n",
       "23      property_type_Earth House         NaN           NaN\n",
       "..                            ...         ...           ...\n",
       "41         city_east williamsburg         NaN           NaN\n",
       "42                    city_elmont         NaN           NaN\n",
       "43              city_far rockaway         NaN           NaN\n",
       "44                  city_flushing         NaN           NaN\n",
       "45               city_fort greene         NaN           NaN\n",
       "46                  city_glendale         NaN           NaN\n",
       "47                city_greenpoint         NaN           NaN\n",
       "48            city_hell's kitchen         NaN           NaN\n",
       "49              city_howard beach         NaN           NaN\n",
       "51         city_kew gardens hills         NaN           NaN\n",
       "52                     city_l.i.c         NaN           NaN\n",
       "53                  city_lawrence         NaN           NaN\n",
       "55           city_lower east side         NaN           NaN\n",
       "56              city_manhattan ny         NaN           NaN\n",
       "57            city_middle village         NaN           NaN\n",
       "58                       city_nyc         NaN           NaN\n",
       "59                city_ozone park         NaN           NaN\n",
       "60               city_parkchester         NaN           NaN\n",
       "62                 city_rego park         NaN           NaN\n",
       "63                 city_ridgewood         NaN           NaN\n",
       "64            city_rockaway beach         NaN           NaN\n",
       "65              city_saint albans         NaN           NaN\n",
       "66       city_south richmond hill         NaN           NaN\n",
       "67       city_springfield gardens         NaN           NaN\n",
       "68                city_st. albans         NaN           NaN\n",
       "69              city_statenisland         NaN           NaN\n",
       "70             city_valley stream         NaN           NaN\n",
       "71                city_whitestone         NaN           NaN\n",
       "72           city_williamsburg bk         NaN           NaN\n",
       "73                   city_yonkers         NaN           NaN\n",
       "\n",
       "[74 rows x 3 columns]"
      ]
     },
     "execution_count": 258,
     "metadata": {},
     "output_type": "execute_result"
    }
   ],
   "source": [
    "score = pd.DataFrame({\"features\":features_list,\"scores\":fit.scores_,\"p_values\":fit.pvalues_ })\n",
    "score = score.sort_values(by = \"scores\" ,ascending =False)\n",
    "score"
   ]
  }
 ],
 "metadata": {
  "kernelspec": {
   "display_name": "Python 3",
   "language": "python",
   "name": "python3"
  },
  "language_info": {
   "codemirror_mode": {
    "name": "ipython",
    "version": 3
   },
   "file_extension": ".py",
   "mimetype": "text/x-python",
   "name": "python",
   "nbconvert_exporter": "python",
   "pygments_lexer": "ipython3",
   "version": "3.7.3"
  },
  "toc": {
   "base_numbering": 1,
   "nav_menu": {},
   "number_sections": true,
   "sideBar": true,
   "skip_h1_title": false,
   "title_cell": "Table of Contents",
   "title_sidebar": "Contents",
   "toc_cell": true,
   "toc_position": {
    "height": "calc(100% - 180px)",
    "left": "10px",
    "top": "150px",
    "width": "220.875px"
   },
   "toc_section_display": true,
   "toc_window_display": true
  }
 },
 "nbformat": 4,
 "nbformat_minor": 2
}
