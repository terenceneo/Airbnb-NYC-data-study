{
 "cells": [
  {
   "cell_type": "markdown",
   "metadata": {
    "toc": true
   },
   "source": [
    "<h1>Table of Contents<span class=\"tocSkip\"></span></h1>\n",
    "<div class=\"toc\"><ul class=\"toc-item\"></ul></div>"
   ]
  },
  {
   "cell_type": "code",
   "execution_count": 2,
   "metadata": {},
   "outputs": [],
   "source": [
    "import pandas as pd\n",
    "from matplotlib import pyplot as plt"
   ]
  },
  {
   "cell_type": "code",
   "execution_count": 3,
   "metadata": {},
   "outputs": [],
   "source": [
    "# Load the data (will take a short while)\n",
    "calendar = pd.read_csv(\"airbnb_data/calendar.csv\")\n",
    "demographics = pd.read_csv(\"airbnb_data/demographics.csv\")\n",
    "econ_state = pd.read_csv(\"airbnb_data/econ_state.csv\")\n",
    "listings = pd.read_csv(\"airbnb_data/listings.csv\")\n",
    "real_estate = pd.read_csv(\"airbnb_data/real_estate.csv\")\n",
    "venues = pd.read_csv(\"airbnb_data/venues.csv\")"
   ]
  },
  {
   "cell_type": "code",
   "execution_count": 4,
   "metadata": {},
   "outputs": [],
   "source": [
    "dataset_names = [\"calendar\", \"demographics\", \"econ_state\", \"listings\", \"real_estate\", \"venues\"]\n",
    "datasets = [calendar, demographics, econ_state, listings, real_estate, venues]"
   ]
  },
  {
   "cell_type": "code",
   "execution_count": 5,
   "metadata": {},
   "outputs": [
    {
     "name": "stdout",
     "output_type": "stream",
     "text": [
      "calendar\n",
      "Index(['listing_id', 'date', 'available', 'price', 'metro_area'], dtype='object')\n",
      "\n",
      "demographics\n",
      "Index(['zipcode', '5_years_or_less', '5-9_years', '10-14_years', '15-19_years',\n",
      "       '20-24_years', '25-34_years', '35-44_years', '45-54_years',\n",
      "       '55-59_years', '60-64_years', '65-74_years', '75-84_years',\n",
      "       '85_years_or_more', 'households', '$9,999_or_less', '$10,000-$14,999',\n",
      "       '$15,000-$24,999', '$25,000-$34,999', '$35,000-$49,999',\n",
      "       '$50,000-$64,999', '$65,000-$74,999', '$75,000-$99,999',\n",
      "       '$100,000_or_more', 'median_household_income', 'mean_household_income'],\n",
      "      dtype='object')\n",
      "\n",
      "econ_state\n",
      "Index(['state', '2005Q1_gdp', '2005Q2_gdp', '2005Q3_gdp', '2005Q4_gdp',\n",
      "       '2006Q1_gdp', '2006Q2_gdp', '2006Q3_gdp', '2006Q4_gdp', '2007Q1_gdp',\n",
      "       ...\n",
      "       '2016/03_ur', '2016/04_ur', '2016/05_ur', '2016/06_ur', '2016/07_ur',\n",
      "       '2016/08_ur', '2016/09_ur', '2016/10_ur', '2016/11_ur', '2016/12_ur'],\n",
      "      dtype='object', length=519)\n",
      "\n",
      "listings\n",
      "Index(['accommodates', 'amenities', 'availability_30', 'bathrooms', 'bed_type',\n",
      "       'bedrooms', 'beds', 'cancellation_policy', 'city', 'has_availability',\n",
      "       'host_id', 'id', 'instant_bookable', 'latitude', 'longitude',\n",
      "       'metropolitan', 'name', 'price', 'property_type',\n",
      "       'review_scores_checkin', 'review_scores_cleanliness',\n",
      "       'review_scores_communication', 'review_scores_location',\n",
      "       'review_scores_rating', 'review_scores_value', 'room_type', 'state',\n",
      "       'weekly_price', 'zipcode'],\n",
      "      dtype='object')\n",
      "\n",
      "real_estate\n",
      "Index(['type', 'zipcode', 'city', 'state', 'metro', 'county', 'size_rank',\n",
      "       '1996-04', '1996-05', '1996-06',\n",
      "       ...\n",
      "       '2016-09', '2016-10', '2016-11', '2016-12', '2017-01', '2017-02',\n",
      "       '2017-03', '2017-04', '2017-05', '2017-06'],\n",
      "      dtype='object', length=262)\n",
      "\n",
      "venues\n",
      "Index(['city', 'id', 'latitude', 'longitude', 'name', 'rating', 'types'], dtype='object')\n",
      "\n"
     ]
    }
   ],
   "source": [
    "for i in range(len(datasets)):\n",
    "    print(dataset_names[i])\n",
    "    print(datasets[i].keys())\n",
    "    print()"
   ]
  },
  {
   "cell_type": "code",
   "execution_count": 10,
   "metadata": {},
   "outputs": [
    {
     "data": {
      "text/html": [
       "<div>\n",
       "<style scoped>\n",
       "    .dataframe tbody tr th:only-of-type {\n",
       "        vertical-align: middle;\n",
       "    }\n",
       "\n",
       "    .dataframe tbody tr th {\n",
       "        vertical-align: top;\n",
       "    }\n",
       "\n",
       "    .dataframe thead th {\n",
       "        text-align: right;\n",
       "    }\n",
       "</style>\n",
       "<table border=\"1\" class=\"dataframe\">\n",
       "  <thead>\n",
       "    <tr style=\"text-align: right;\">\n",
       "      <th></th>\n",
       "      <th>listing_id</th>\n",
       "      <th>date</th>\n",
       "      <th>available</th>\n",
       "      <th>price</th>\n",
       "      <th>metro_area</th>\n",
       "    </tr>\n",
       "  </thead>\n",
       "  <tbody>\n",
       "    <tr>\n",
       "      <td>0</td>\n",
       "      <td>2515</td>\n",
       "      <td>2018-03-05</td>\n",
       "      <td>t</td>\n",
       "      <td>69.0</td>\n",
       "      <td>NYC</td>\n",
       "    </tr>\n",
       "    <tr>\n",
       "      <td>1</td>\n",
       "      <td>2515</td>\n",
       "      <td>2018-03-04</td>\n",
       "      <td>t</td>\n",
       "      <td>69.0</td>\n",
       "      <td>NYC</td>\n",
       "    </tr>\n",
       "    <tr>\n",
       "      <td>2</td>\n",
       "      <td>2515</td>\n",
       "      <td>2018-03-03</td>\n",
       "      <td>t</td>\n",
       "      <td>69.0</td>\n",
       "      <td>NYC</td>\n",
       "    </tr>\n",
       "    <tr>\n",
       "      <td>3</td>\n",
       "      <td>2515</td>\n",
       "      <td>2018-03-02</td>\n",
       "      <td>t</td>\n",
       "      <td>69.0</td>\n",
       "      <td>NYC</td>\n",
       "    </tr>\n",
       "    <tr>\n",
       "      <td>4</td>\n",
       "      <td>2515</td>\n",
       "      <td>2018-03-01</td>\n",
       "      <td>t</td>\n",
       "      <td>69.0</td>\n",
       "      <td>NYC</td>\n",
       "    </tr>\n",
       "  </tbody>\n",
       "</table>\n",
       "</div>"
      ],
      "text/plain": [
       "   listing_id        date available  price metro_area\n",
       "0        2515  2018-03-05         t   69.0        NYC\n",
       "1        2515  2018-03-04         t   69.0        NYC\n",
       "2        2515  2018-03-03         t   69.0        NYC\n",
       "3        2515  2018-03-02         t   69.0        NYC\n",
       "4        2515  2018-03-01         t   69.0        NYC"
      ]
     },
     "execution_count": 10,
     "metadata": {},
     "output_type": "execute_result"
    }
   ],
   "source": [
    "calendar.head()"
   ]
  },
  {
   "cell_type": "code",
   "execution_count": 12,
   "metadata": {},
   "outputs": [
    {
     "name": "stdout",
     "output_type": "stream",
     "text": [
      "<class 'pandas.core.frame.DataFrame'>\n",
      "RangeIndex: 21841235 entries, 0 to 21841234\n",
      "Data columns (total 5 columns):\n",
      "listing_id    int64\n",
      "date          object\n",
      "available     object\n",
      "price         float64\n",
      "metro_area    object\n",
      "dtypes: float64(1), int64(1), object(3)\n",
      "memory usage: 833.2+ MB\n"
     ]
    }
   ],
   "source": [
    "calendar.info()"
   ]
  },
  {
   "cell_type": "code",
   "execution_count": 15,
   "metadata": {},
   "outputs": [
    {
     "data": {
      "text/plain": [
       "NYC        14874845\n",
       "dc          2842620\n",
       "chicago     1900555\n",
       "boston      1308890\n",
       "denver       914325\n",
       "Name: metro_area, dtype: int64"
      ]
     },
     "execution_count": 15,
     "metadata": {},
     "output_type": "execute_result"
    }
   ],
   "source": [
    "calendar.metro_area.value_counts()"
   ]
  },
  {
   "cell_type": "code",
   "execution_count": 22,
   "metadata": {},
   "outputs": [
    {
     "data": {
      "text/plain": [
       "8646530     365\n",
       "416371      365\n",
       "11721962    365\n",
       "15019540    365\n",
       "15357947    365\n",
       "           ... \n",
       "14715206    365\n",
       "16427522    365\n",
       "454026      365\n",
       "1542055     365\n",
       "835992      365\n",
       "Name: listing_id, Length: 7788, dtype: int64"
      ]
     },
     "execution_count": 22,
     "metadata": {},
     "output_type": "execute_result"
    }
   ],
   "source": [
    "calendar.loc[calendar[\"metro_area\"]=='dc'].listing_id.value_counts()"
   ]
  },
  {
   "cell_type": "code",
   "execution_count": 21,
   "metadata": {
    "scrolled": true
   },
   "outputs": [
    {
     "data": {
      "text/plain": [
       "253828      365\n",
       "11697378    365\n",
       "5750871     365\n",
       "2273019     365\n",
       "10723037    365\n",
       "           ... \n",
       "10551675    365\n",
       "6233785     365\n",
       "17249724    365\n",
       "6658537     365\n",
       "10433510    365\n",
       "Name: listing_id, Length: 40753, dtype: int64"
      ]
     },
     "execution_count": 21,
     "metadata": {},
     "output_type": "execute_result"
    }
   ],
   "source": [
    "calendar.loc[calendar[\"metro_area\"]=='NYC'].listing_id.value_counts()"
   ]
  },
  {
   "cell_type": "code",
   "execution_count": 23,
   "metadata": {
    "scrolled": true
   },
   "outputs": [
    {
     "data": {
      "text/plain": [
       "15410843    365\n",
       "11607924    365\n",
       "10837496    365\n",
       "16401947    365\n",
       "15618206    365\n",
       "           ... \n",
       "17480697    365\n",
       "5551160     365\n",
       "12211684    365\n",
       "8548067     365\n",
       "16814098    365\n",
       "Name: listing_id, Length: 5207, dtype: int64"
      ]
     },
     "execution_count": 23,
     "metadata": {},
     "output_type": "execute_result"
    }
   ],
   "source": [
    "calendar.loc[calendar[\"metro_area\"]=='chicago'].listing_id.value_counts()"
   ]
  },
  {
   "cell_type": "code",
   "execution_count": 24,
   "metadata": {},
   "outputs": [
    {
     "data": {
      "text/plain": [
       "12898806    730\n",
       "14710769    365\n",
       "7018497     365\n",
       "3946215     365\n",
       "951473      365\n",
       "           ... \n",
       "13951039    365\n",
       "13512551    365\n",
       "5270703     365\n",
       "901914      365\n",
       "3250739     365\n",
       "Name: listing_id, Length: 3585, dtype: int64"
      ]
     },
     "execution_count": 24,
     "metadata": {},
     "output_type": "execute_result"
    }
   ],
   "source": [
    "calendar.loc[calendar[\"metro_area\"]=='boston'].listing_id.value_counts()"
   ]
  },
  {
   "cell_type": "code",
   "execution_count": 25,
   "metadata": {},
   "outputs": [
    {
     "data": {
      "text/plain": [
       "6865639     365\n",
       "6578731     365\n",
       "9944159     365\n",
       "4545539     365\n",
       "7243639     365\n",
       "           ... \n",
       "5650314     365\n",
       "10683692    365\n",
       "10308837    365\n",
       "5604348     365\n",
       "1422518     365\n",
       "Name: listing_id, Length: 2505, dtype: int64"
      ]
     },
     "execution_count": 25,
     "metadata": {},
     "output_type": "execute_result"
    }
   ],
   "source": [
    "calendar.loc[calendar[\"metro_area\"]=='denver'].listing_id.value_counts()"
   ]
  },
  {
   "cell_type": "code",
   "execution_count": 37,
   "metadata": {},
   "outputs": [
    {
     "data": {
      "text/html": [
       "<div>\n",
       "<style scoped>\n",
       "    .dataframe tbody tr th:only-of-type {\n",
       "        vertical-align: middle;\n",
       "    }\n",
       "\n",
       "    .dataframe tbody tr th {\n",
       "        vertical-align: top;\n",
       "    }\n",
       "\n",
       "    .dataframe thead th {\n",
       "        text-align: right;\n",
       "    }\n",
       "</style>\n",
       "<table border=\"1\" class=\"dataframe\">\n",
       "  <thead>\n",
       "    <tr style=\"text-align: right;\">\n",
       "      <th></th>\n",
       "      <th></th>\n",
       "      <th>date</th>\n",
       "      <th>available</th>\n",
       "      <th>price</th>\n",
       "    </tr>\n",
       "    <tr>\n",
       "      <th>metro_area</th>\n",
       "      <th>listing_id</th>\n",
       "      <th></th>\n",
       "      <th></th>\n",
       "      <th></th>\n",
       "    </tr>\n",
       "  </thead>\n",
       "  <tbody>\n",
       "    <tr>\n",
       "      <td rowspan=\"5\" valign=\"top\">NYC</td>\n",
       "      <td>2515</td>\n",
       "      <td>365</td>\n",
       "      <td>365</td>\n",
       "      <td>306</td>\n",
       "    </tr>\n",
       "    <tr>\n",
       "      <td>2595</td>\n",
       "      <td>365</td>\n",
       "      <td>365</td>\n",
       "      <td>365</td>\n",
       "    </tr>\n",
       "    <tr>\n",
       "      <td>3647</td>\n",
       "      <td>365</td>\n",
       "      <td>365</td>\n",
       "      <td>365</td>\n",
       "    </tr>\n",
       "    <tr>\n",
       "      <td>3831</td>\n",
       "      <td>365</td>\n",
       "      <td>365</td>\n",
       "      <td>147</td>\n",
       "    </tr>\n",
       "    <tr>\n",
       "      <td>4611</td>\n",
       "      <td>365</td>\n",
       "      <td>365</td>\n",
       "      <td>239</td>\n",
       "    </tr>\n",
       "    <tr>\n",
       "      <td>...</td>\n",
       "      <td>...</td>\n",
       "      <td>...</td>\n",
       "      <td>...</td>\n",
       "      <td>...</td>\n",
       "    </tr>\n",
       "    <tr>\n",
       "      <td rowspan=\"5\" valign=\"top\">denver</td>\n",
       "      <td>13046861</td>\n",
       "      <td>365</td>\n",
       "      <td>365</td>\n",
       "      <td>21</td>\n",
       "    </tr>\n",
       "    <tr>\n",
       "      <td>13058575</td>\n",
       "      <td>365</td>\n",
       "      <td>365</td>\n",
       "      <td>362</td>\n",
       "    </tr>\n",
       "    <tr>\n",
       "      <td>13059132</td>\n",
       "      <td>365</td>\n",
       "      <td>365</td>\n",
       "      <td>342</td>\n",
       "    </tr>\n",
       "    <tr>\n",
       "      <td>13059481</td>\n",
       "      <td>365</td>\n",
       "      <td>365</td>\n",
       "      <td>359</td>\n",
       "    </tr>\n",
       "    <tr>\n",
       "      <td>13059899</td>\n",
       "      <td>365</td>\n",
       "      <td>365</td>\n",
       "      <td>255</td>\n",
       "    </tr>\n",
       "  </tbody>\n",
       "</table>\n",
       "<p>59838 rows × 3 columns</p>\n",
       "</div>"
      ],
      "text/plain": [
       "                       date  available  price\n",
       "metro_area listing_id                        \n",
       "NYC        2515         365        365    306\n",
       "           2595         365        365    365\n",
       "           3647         365        365    365\n",
       "           3831         365        365    147\n",
       "           4611         365        365    239\n",
       "...                     ...        ...    ...\n",
       "denver     13046861     365        365     21\n",
       "           13058575     365        365    362\n",
       "           13059132     365        365    342\n",
       "           13059481     365        365    359\n",
       "           13059899     365        365    255\n",
       "\n",
       "[59838 rows x 3 columns]"
      ]
     },
     "execution_count": 37,
     "metadata": {},
     "output_type": "execute_result"
    }
   ],
   "source": [
    "calendar.groupby([\"metro_area\", \"listing_id\"]).count()"
   ]
  },
  {
   "cell_type": "code",
   "execution_count": 39,
   "metadata": {},
   "outputs": [],
   "source": [
    "listings_by_area_date = calendar.drop([\"available\",\"price\"],axis=1)"
   ]
  },
  {
   "cell_type": "code",
   "execution_count": 44,
   "metadata": {},
   "outputs": [
    {
     "name": "stdout",
     "output_type": "stream",
     "text": [
      "          listing_id        date metro_area\n",
      "0               2515  2018-03-05        NYC\n",
      "1               2515  2018-03-04        NYC\n",
      "2               2515  2018-03-03        NYC\n",
      "3               2515  2018-03-02        NYC\n",
      "4               2515  2018-03-01        NYC\n",
      "...              ...         ...        ...\n",
      "21841230    18364166  2017-05-14         dc\n",
      "21841231    18364166  2017-05-13         dc\n",
      "21841232    18364166  2017-05-12         dc\n",
      "21841233    18364166  2017-05-11         dc\n",
      "21841234    18364166  2017-05-10         dc\n",
      "\n",
      "[21841235 rows x 3 columns]\n"
     ]
    }
   ],
   "source": [
    "print(listings_by_area_date)"
   ]
  },
  {
   "cell_type": "code",
   "execution_count": 46,
   "metadata": {},
   "outputs": [],
   "source": [
    "calendar_nyc = calendar.loc[calendar.metro_area == \"NYC\"]"
   ]
  },
  {
   "cell_type": "code",
   "execution_count": 49,
   "metadata": {},
   "outputs": [],
   "source": [
    "import datetime"
   ]
  },
  {
   "cell_type": "code",
   "execution_count": 67,
   "metadata": {},
   "outputs": [],
   "source": [
    "from datetime import datetime\n",
    "calendar_nyc.loc[:,'date_year'] = calendar_nyc.loc[:,\"date\"].apply(lambda x: x[:4])"
   ]
  },
  {
   "cell_type": "code",
   "execution_count": 68,
   "metadata": {},
   "outputs": [
    {
     "data": {
      "text/plain": [
       "0           2018\n",
       "1           2018\n",
       "2           2018\n",
       "3           2018\n",
       "4           2018\n",
       "            ... \n",
       "14874840    2017\n",
       "14874841    2017\n",
       "14874842    2017\n",
       "14874843    2017\n",
       "14874844    2017\n",
       "Name: date_year, Length: 14874845, dtype: object"
      ]
     },
     "execution_count": 68,
     "metadata": {},
     "output_type": "execute_result"
    }
   ],
   "source": [
    "calendar_nyc.date_year"
   ]
  },
  {
   "cell_type": "code",
   "execution_count": 70,
   "metadata": {},
   "outputs": [
    {
     "data": {
      "text/html": [
       "<div>\n",
       "<style scoped>\n",
       "    .dataframe tbody tr th:only-of-type {\n",
       "        vertical-align: middle;\n",
       "    }\n",
       "\n",
       "    .dataframe tbody tr th {\n",
       "        vertical-align: top;\n",
       "    }\n",
       "\n",
       "    .dataframe thead tr th {\n",
       "        text-align: left;\n",
       "    }\n",
       "\n",
       "    .dataframe thead tr:last-of-type th {\n",
       "        text-align: right;\n",
       "    }\n",
       "</style>\n",
       "<table border=\"1\" class=\"dataframe\">\n",
       "  <thead>\n",
       "    <tr>\n",
       "      <th></th>\n",
       "      <th colspan=\"8\" halign=\"left\">listing_id</th>\n",
       "      <th colspan=\"8\" halign=\"left\">price</th>\n",
       "    </tr>\n",
       "    <tr>\n",
       "      <th></th>\n",
       "      <th>count</th>\n",
       "      <th>mean</th>\n",
       "      <th>std</th>\n",
       "      <th>min</th>\n",
       "      <th>25%</th>\n",
       "      <th>50%</th>\n",
       "      <th>75%</th>\n",
       "      <th>max</th>\n",
       "      <th>count</th>\n",
       "      <th>mean</th>\n",
       "      <th>std</th>\n",
       "      <th>min</th>\n",
       "      <th>25%</th>\n",
       "      <th>50%</th>\n",
       "      <th>75%</th>\n",
       "      <th>max</th>\n",
       "    </tr>\n",
       "    <tr>\n",
       "      <th>date_year</th>\n",
       "      <th></th>\n",
       "      <th></th>\n",
       "      <th></th>\n",
       "      <th></th>\n",
       "      <th></th>\n",
       "      <th></th>\n",
       "      <th></th>\n",
       "      <th></th>\n",
       "      <th></th>\n",
       "      <th></th>\n",
       "      <th></th>\n",
       "      <th></th>\n",
       "      <th></th>\n",
       "      <th></th>\n",
       "      <th></th>\n",
       "      <th></th>\n",
       "    </tr>\n",
       "  </thead>\n",
       "  <tbody>\n",
       "    <tr>\n",
       "      <td>2017</td>\n",
       "      <td>9883345.0</td>\n",
       "      <td>9.912284e+06</td>\n",
       "      <td>5.582245e+06</td>\n",
       "      <td>2515.0</td>\n",
       "      <td>4995083.00</td>\n",
       "      <td>10019335.0</td>\n",
       "      <td>14968000.0</td>\n",
       "      <td>18519989.0</td>\n",
       "      <td>3577908.0</td>\n",
       "      <td>166.776264</td>\n",
       "      <td>268.012091</td>\n",
       "      <td>10.0</td>\n",
       "      <td>70.0</td>\n",
       "      <td>110.0</td>\n",
       "      <td>192.0</td>\n",
       "      <td>20000.0</td>\n",
       "    </tr>\n",
       "    <tr>\n",
       "      <td>2018</td>\n",
       "      <td>4991500.0</td>\n",
       "      <td>9.911484e+06</td>\n",
       "      <td>5.582070e+06</td>\n",
       "      <td>2515.0</td>\n",
       "      <td>4994661.25</td>\n",
       "      <td>10018550.0</td>\n",
       "      <td>14967904.0</td>\n",
       "      <td>18519989.0</td>\n",
       "      <td>1886320.0</td>\n",
       "      <td>164.252165</td>\n",
       "      <td>254.929938</td>\n",
       "      <td>10.0</td>\n",
       "      <td>73.0</td>\n",
       "      <td>115.0</td>\n",
       "      <td>190.0</td>\n",
       "      <td>20000.0</td>\n",
       "    </tr>\n",
       "  </tbody>\n",
       "</table>\n",
       "</div>"
      ],
      "text/plain": [
       "          listing_id                                                  \\\n",
       "               count          mean           std     min         25%   \n",
       "date_year                                                              \n",
       "2017       9883345.0  9.912284e+06  5.582245e+06  2515.0  4995083.00   \n",
       "2018       4991500.0  9.911484e+06  5.582070e+06  2515.0  4994661.25   \n",
       "\n",
       "                                                   price              \\\n",
       "                  50%         75%         max      count        mean   \n",
       "date_year                                                              \n",
       "2017       10019335.0  14968000.0  18519989.0  3577908.0  166.776264   \n",
       "2018       10018550.0  14967904.0  18519989.0  1886320.0  164.252165   \n",
       "\n",
       "                                                          \n",
       "                  std   min   25%    50%    75%      max  \n",
       "date_year                                                 \n",
       "2017       268.012091  10.0  70.0  110.0  192.0  20000.0  \n",
       "2018       254.929938  10.0  73.0  115.0  190.0  20000.0  "
      ]
     },
     "execution_count": 70,
     "metadata": {},
     "output_type": "execute_result"
    }
   ],
   "source": [
    "calendar_nyc.groupby(['date_year']).describe()"
   ]
  },
  {
   "cell_type": "code",
   "execution_count": 72,
   "metadata": {},
   "outputs": [],
   "source": [
    "calendar_nyc.loc[:,'date_month'] = calendar_nyc.loc[:,\"date\"].apply(lambda x: x[5:7])"
   ]
  },
  {
   "cell_type": "code",
   "execution_count": 73,
   "metadata": {},
   "outputs": [
    {
     "data": {
      "text/plain": [
       "{'01', '02', '03', '04', '05', '06', '07', '08', '09', '10', '11', '12'}"
      ]
     },
     "execution_count": 73,
     "metadata": {},
     "output_type": "execute_result"
    }
   ],
   "source": [
    "set(calendar_nyc.date_month.values)"
   ]
  },
  {
   "cell_type": "code",
   "execution_count": 90,
   "metadata": {},
   "outputs": [],
   "source": [
    "months = ['12','01','02','03','04','05','06','07','08','09','10','11']\n",
    "seasons = [\"Winter\",\"Winter\",\"Winter\",\"Spring\",\"Spring\",\"Spring\",\"Summer\",\"Summer\",\"Summer\",\"Fall\",\"Fall\",\"Fall\"]\n",
    "seasons_dict = dict(list(zip(months,seasons)))"
   ]
  },
  {
   "cell_type": "code",
   "execution_count": 107,
   "metadata": {},
   "outputs": [
    {
     "name": "stderr",
     "output_type": "stream",
     "text": [
      "C:\\ProgramData\\Anaconda3\\lib\\site-packages\\ipykernel_launcher.py:2: SettingWithCopyWarning: \n",
      "A value is trying to be set on a copy of a slice from a DataFrame.\n",
      "Try using .loc[row_indexer,col_indexer] = value instead\n",
      "\n",
      "See the caveats in the documentation: http://pandas.pydata.org/pandas-docs/stable/user_guide/indexing.html#returning-a-view-versus-a-copy\n",
      "  \n"
     ]
    }
   ],
   "source": [
    "#calendar_nyc.loc[:,\"season\"] = calendar_nyc.loc[:,\"date_month\"]\n",
    "calendar_nyc[\"season\"] = list(calendar_nyc[\"season\"].map(seasons_dict))"
   ]
  },
  {
   "cell_type": "code",
   "execution_count": 108,
   "metadata": {},
   "outputs": [
    {
     "data": {
      "text/plain": [
       "0           Spring\n",
       "1           Spring\n",
       "2           Spring\n",
       "3           Spring\n",
       "4           Spring\n",
       "             ...  \n",
       "14874840    Spring\n",
       "14874841    Spring\n",
       "14874842    Spring\n",
       "14874843    Spring\n",
       "14874844    Spring\n",
       "Name: season, Length: 14874845, dtype: object"
      ]
     },
     "execution_count": 108,
     "metadata": {},
     "output_type": "execute_result"
    }
   ],
   "source": [
    "calendar_nyc.season"
   ]
  },
  {
   "cell_type": "code",
   "execution_count": 109,
   "metadata": {},
   "outputs": [
    {
     "data": {
      "text/html": [
       "<div>\n",
       "<style scoped>\n",
       "    .dataframe tbody tr th:only-of-type {\n",
       "        vertical-align: middle;\n",
       "    }\n",
       "\n",
       "    .dataframe tbody tr th {\n",
       "        vertical-align: top;\n",
       "    }\n",
       "\n",
       "    .dataframe thead tr th {\n",
       "        text-align: left;\n",
       "    }\n",
       "\n",
       "    .dataframe thead tr:last-of-type th {\n",
       "        text-align: right;\n",
       "    }\n",
       "</style>\n",
       "<table border=\"1\" class=\"dataframe\">\n",
       "  <thead>\n",
       "    <tr>\n",
       "      <th></th>\n",
       "      <th></th>\n",
       "      <th colspan=\"8\" halign=\"left\">listing_id</th>\n",
       "      <th colspan=\"8\" halign=\"left\">price</th>\n",
       "    </tr>\n",
       "    <tr>\n",
       "      <th></th>\n",
       "      <th></th>\n",
       "      <th>count</th>\n",
       "      <th>mean</th>\n",
       "      <th>std</th>\n",
       "      <th>min</th>\n",
       "      <th>25%</th>\n",
       "      <th>50%</th>\n",
       "      <th>75%</th>\n",
       "      <th>max</th>\n",
       "      <th>count</th>\n",
       "      <th>mean</th>\n",
       "      <th>std</th>\n",
       "      <th>min</th>\n",
       "      <th>25%</th>\n",
       "      <th>50%</th>\n",
       "      <th>75%</th>\n",
       "      <th>max</th>\n",
       "    </tr>\n",
       "    <tr>\n",
       "      <th>date_year</th>\n",
       "      <th>season</th>\n",
       "      <th></th>\n",
       "      <th></th>\n",
       "      <th></th>\n",
       "      <th></th>\n",
       "      <th></th>\n",
       "      <th></th>\n",
       "      <th></th>\n",
       "      <th></th>\n",
       "      <th></th>\n",
       "      <th></th>\n",
       "      <th></th>\n",
       "      <th></th>\n",
       "      <th></th>\n",
       "      <th></th>\n",
       "      <th></th>\n",
       "      <th></th>\n",
       "    </tr>\n",
       "  </thead>\n",
       "  <tbody>\n",
       "    <tr>\n",
       "      <td rowspan=\"4\" valign=\"top\">2017</td>\n",
       "      <td>Fall</td>\n",
       "      <td>3708523.0</td>\n",
       "      <td>9.912016e+06</td>\n",
       "      <td>5.582187e+06</td>\n",
       "      <td>2515.0</td>\n",
       "      <td>4995083.0</td>\n",
       "      <td>10019312.0</td>\n",
       "      <td>14967994.0</td>\n",
       "      <td>18519989.0</td>\n",
       "      <td>1397812.0</td>\n",
       "      <td>167.408171</td>\n",
       "      <td>260.853991</td>\n",
       "      <td>10.0</td>\n",
       "      <td>72.0</td>\n",
       "      <td>110.0</td>\n",
       "      <td>194.0</td>\n",
       "      <td>20000.0</td>\n",
       "    </tr>\n",
       "    <tr>\n",
       "      <td>Spring</td>\n",
       "      <td>1162203.0</td>\n",
       "      <td>9.914300e+06</td>\n",
       "      <td>5.582687e+06</td>\n",
       "      <td>2515.0</td>\n",
       "      <td>4996877.0</td>\n",
       "      <td>10020815.0</td>\n",
       "      <td>14968955.0</td>\n",
       "      <td>18519989.0</td>\n",
       "      <td>281176.0</td>\n",
       "      <td>166.104682</td>\n",
       "      <td>308.369919</td>\n",
       "      <td>10.0</td>\n",
       "      <td>69.0</td>\n",
       "      <td>100.0</td>\n",
       "      <td>185.0</td>\n",
       "      <td>20000.0</td>\n",
       "    </tr>\n",
       "    <tr>\n",
       "      <td>Summer</td>\n",
       "      <td>3749276.0</td>\n",
       "      <td>9.912016e+06</td>\n",
       "      <td>5.582187e+06</td>\n",
       "      <td>2515.0</td>\n",
       "      <td>4995083.0</td>\n",
       "      <td>10019312.0</td>\n",
       "      <td>14967994.0</td>\n",
       "      <td>18519989.0</td>\n",
       "      <td>1460803.0</td>\n",
       "      <td>164.270674</td>\n",
       "      <td>264.431691</td>\n",
       "      <td>10.0</td>\n",
       "      <td>70.0</td>\n",
       "      <td>110.0</td>\n",
       "      <td>190.0</td>\n",
       "      <td>20000.0</td>\n",
       "    </tr>\n",
       "    <tr>\n",
       "      <td>Winter</td>\n",
       "      <td>1263343.0</td>\n",
       "      <td>9.912016e+06</td>\n",
       "      <td>5.582188e+06</td>\n",
       "      <td>2515.0</td>\n",
       "      <td>4995083.0</td>\n",
       "      <td>10019312.0</td>\n",
       "      <td>14967994.0</td>\n",
       "      <td>18519989.0</td>\n",
       "      <td>438117.0</td>\n",
       "      <td>173.545503</td>\n",
       "      <td>274.350850</td>\n",
       "      <td>10.0</td>\n",
       "      <td>75.0</td>\n",
       "      <td>115.0</td>\n",
       "      <td>199.0</td>\n",
       "      <td>20000.0</td>\n",
       "    </tr>\n",
       "    <tr>\n",
       "      <td rowspan=\"2\" valign=\"top\">2018</td>\n",
       "      <td>Spring</td>\n",
       "      <td>2587073.0</td>\n",
       "      <td>9.910989e+06</td>\n",
       "      <td>5.581963e+06</td>\n",
       "      <td>2515.0</td>\n",
       "      <td>4994462.0</td>\n",
       "      <td>10018549.0</td>\n",
       "      <td>14967881.0</td>\n",
       "      <td>18519989.0</td>\n",
       "      <td>987872.0</td>\n",
       "      <td>164.640939</td>\n",
       "      <td>254.663218</td>\n",
       "      <td>10.0</td>\n",
       "      <td>74.0</td>\n",
       "      <td>115.0</td>\n",
       "      <td>190.0</td>\n",
       "      <td>20000.0</td>\n",
       "    </tr>\n",
       "    <tr>\n",
       "      <td>Winter</td>\n",
       "      <td>2404427.0</td>\n",
       "      <td>9.912016e+06</td>\n",
       "      <td>5.582187e+06</td>\n",
       "      <td>2515.0</td>\n",
       "      <td>4995083.0</td>\n",
       "      <td>10019312.0</td>\n",
       "      <td>14967994.0</td>\n",
       "      <td>18519989.0</td>\n",
       "      <td>898448.0</td>\n",
       "      <td>163.824694</td>\n",
       "      <td>255.222342</td>\n",
       "      <td>10.0</td>\n",
       "      <td>73.0</td>\n",
       "      <td>113.0</td>\n",
       "      <td>189.0</td>\n",
       "      <td>20000.0</td>\n",
       "    </tr>\n",
       "  </tbody>\n",
       "</table>\n",
       "</div>"
      ],
      "text/plain": [
       "                 listing_id                                                 \\\n",
       "                      count          mean           std     min        25%   \n",
       "date_year season                                                             \n",
       "2017      Fall    3708523.0  9.912016e+06  5.582187e+06  2515.0  4995083.0   \n",
       "          Spring  1162203.0  9.914300e+06  5.582687e+06  2515.0  4996877.0   \n",
       "          Summer  3749276.0  9.912016e+06  5.582187e+06  2515.0  4995083.0   \n",
       "          Winter  1263343.0  9.912016e+06  5.582188e+06  2515.0  4995083.0   \n",
       "2018      Spring  2587073.0  9.910989e+06  5.581963e+06  2515.0  4994462.0   \n",
       "          Winter  2404427.0  9.912016e+06  5.582187e+06  2515.0  4995083.0   \n",
       "\n",
       "                                                          price              \\\n",
       "                         50%         75%         max      count        mean   \n",
       "date_year season                                                              \n",
       "2017      Fall    10019312.0  14967994.0  18519989.0  1397812.0  167.408171   \n",
       "          Spring  10020815.0  14968955.0  18519989.0   281176.0  166.104682   \n",
       "          Summer  10019312.0  14967994.0  18519989.0  1460803.0  164.270674   \n",
       "          Winter  10019312.0  14967994.0  18519989.0   438117.0  173.545503   \n",
       "2018      Spring  10018549.0  14967881.0  18519989.0   987872.0  164.640939   \n",
       "          Winter  10019312.0  14967994.0  18519989.0   898448.0  163.824694   \n",
       "\n",
       "                                                                 \n",
       "                         std   min   25%    50%    75%      max  \n",
       "date_year season                                                 \n",
       "2017      Fall    260.853991  10.0  72.0  110.0  194.0  20000.0  \n",
       "          Spring  308.369919  10.0  69.0  100.0  185.0  20000.0  \n",
       "          Summer  264.431691  10.0  70.0  110.0  190.0  20000.0  \n",
       "          Winter  274.350850  10.0  75.0  115.0  199.0  20000.0  \n",
       "2018      Spring  254.663218  10.0  74.0  115.0  190.0  20000.0  \n",
       "          Winter  255.222342  10.0  73.0  113.0  189.0  20000.0  "
      ]
     },
     "execution_count": 109,
     "metadata": {},
     "output_type": "execute_result"
    }
   ],
   "source": [
    "calendar_nyc.groupby(['date_year','season']).describe()"
   ]
  },
  {
   "cell_type": "code",
   "execution_count": null,
   "metadata": {},
   "outputs": [],
   "source": []
  },
  {
   "cell_type": "code",
   "execution_count": 112,
   "metadata": {},
   "outputs": [
    {
     "data": {
      "text/html": [
       "<div>\n",
       "<style scoped>\n",
       "    .dataframe tbody tr th:only-of-type {\n",
       "        vertical-align: middle;\n",
       "    }\n",
       "\n",
       "    .dataframe tbody tr th {\n",
       "        vertical-align: top;\n",
       "    }\n",
       "\n",
       "    .dataframe thead th {\n",
       "        text-align: right;\n",
       "    }\n",
       "</style>\n",
       "<table border=\"1\" class=\"dataframe\">\n",
       "  <thead>\n",
       "    <tr style=\"text-align: right;\">\n",
       "      <th></th>\n",
       "      <th></th>\n",
       "      <th></th>\n",
       "      <th>listing_id</th>\n",
       "      <th>date</th>\n",
       "      <th>price</th>\n",
       "      <th>metro_area</th>\n",
       "      <th>date_month</th>\n",
       "    </tr>\n",
       "    <tr>\n",
       "      <th>date_year</th>\n",
       "      <th>season</th>\n",
       "      <th>available</th>\n",
       "      <th></th>\n",
       "      <th></th>\n",
       "      <th></th>\n",
       "      <th></th>\n",
       "      <th></th>\n",
       "    </tr>\n",
       "  </thead>\n",
       "  <tbody>\n",
       "    <tr>\n",
       "      <td rowspan=\"8\" valign=\"top\">2017</td>\n",
       "      <td rowspan=\"2\" valign=\"top\">Fall</td>\n",
       "      <td>f</td>\n",
       "      <td>2310711</td>\n",
       "      <td>2310711</td>\n",
       "      <td>0</td>\n",
       "      <td>2310711</td>\n",
       "      <td>2310711</td>\n",
       "    </tr>\n",
       "    <tr>\n",
       "      <td>t</td>\n",
       "      <td>1397812</td>\n",
       "      <td>1397812</td>\n",
       "      <td>1397812</td>\n",
       "      <td>1397812</td>\n",
       "      <td>1397812</td>\n",
       "    </tr>\n",
       "    <tr>\n",
       "      <td rowspan=\"2\" valign=\"top\">Spring</td>\n",
       "      <td>f</td>\n",
       "      <td>881027</td>\n",
       "      <td>881027</td>\n",
       "      <td>0</td>\n",
       "      <td>881027</td>\n",
       "      <td>881027</td>\n",
       "    </tr>\n",
       "    <tr>\n",
       "      <td>t</td>\n",
       "      <td>281176</td>\n",
       "      <td>281176</td>\n",
       "      <td>281176</td>\n",
       "      <td>281176</td>\n",
       "      <td>281176</td>\n",
       "    </tr>\n",
       "    <tr>\n",
       "      <td rowspan=\"2\" valign=\"top\">Summer</td>\n",
       "      <td>f</td>\n",
       "      <td>2288473</td>\n",
       "      <td>2288473</td>\n",
       "      <td>0</td>\n",
       "      <td>2288473</td>\n",
       "      <td>2288473</td>\n",
       "    </tr>\n",
       "    <tr>\n",
       "      <td>t</td>\n",
       "      <td>1460803</td>\n",
       "      <td>1460803</td>\n",
       "      <td>1460803</td>\n",
       "      <td>1460803</td>\n",
       "      <td>1460803</td>\n",
       "    </tr>\n",
       "    <tr>\n",
       "      <td rowspan=\"2\" valign=\"top\">Winter</td>\n",
       "      <td>f</td>\n",
       "      <td>825226</td>\n",
       "      <td>825226</td>\n",
       "      <td>0</td>\n",
       "      <td>825226</td>\n",
       "      <td>825226</td>\n",
       "    </tr>\n",
       "    <tr>\n",
       "      <td>t</td>\n",
       "      <td>438117</td>\n",
       "      <td>438117</td>\n",
       "      <td>438117</td>\n",
       "      <td>438117</td>\n",
       "      <td>438117</td>\n",
       "    </tr>\n",
       "    <tr>\n",
       "      <td rowspan=\"4\" valign=\"top\">2018</td>\n",
       "      <td rowspan=\"2\" valign=\"top\">Spring</td>\n",
       "      <td>f</td>\n",
       "      <td>1599201</td>\n",
       "      <td>1599201</td>\n",
       "      <td>0</td>\n",
       "      <td>1599201</td>\n",
       "      <td>1599201</td>\n",
       "    </tr>\n",
       "    <tr>\n",
       "      <td>t</td>\n",
       "      <td>987872</td>\n",
       "      <td>987872</td>\n",
       "      <td>987872</td>\n",
       "      <td>987872</td>\n",
       "      <td>987872</td>\n",
       "    </tr>\n",
       "    <tr>\n",
       "      <td rowspan=\"2\" valign=\"top\">Winter</td>\n",
       "      <td>f</td>\n",
       "      <td>1505979</td>\n",
       "      <td>1505979</td>\n",
       "      <td>0</td>\n",
       "      <td>1505979</td>\n",
       "      <td>1505979</td>\n",
       "    </tr>\n",
       "    <tr>\n",
       "      <td>t</td>\n",
       "      <td>898448</td>\n",
       "      <td>898448</td>\n",
       "      <td>898448</td>\n",
       "      <td>898448</td>\n",
       "      <td>898448</td>\n",
       "    </tr>\n",
       "  </tbody>\n",
       "</table>\n",
       "</div>"
      ],
      "text/plain": [
       "                            listing_id     date    price  metro_area  \\\n",
       "date_year season available                                             \n",
       "2017      Fall   f             2310711  2310711        0     2310711   \n",
       "                 t             1397812  1397812  1397812     1397812   \n",
       "          Spring f              881027   881027        0      881027   \n",
       "                 t              281176   281176   281176      281176   \n",
       "          Summer f             2288473  2288473        0     2288473   \n",
       "                 t             1460803  1460803  1460803     1460803   \n",
       "          Winter f              825226   825226        0      825226   \n",
       "                 t              438117   438117   438117      438117   \n",
       "2018      Spring f             1599201  1599201        0     1599201   \n",
       "                 t              987872   987872   987872      987872   \n",
       "          Winter f             1505979  1505979        0     1505979   \n",
       "                 t              898448   898448   898448      898448   \n",
       "\n",
       "                            date_month  \n",
       "date_year season available              \n",
       "2017      Fall   f             2310711  \n",
       "                 t             1397812  \n",
       "          Spring f              881027  \n",
       "                 t              281176  \n",
       "          Summer f             2288473  \n",
       "                 t             1460803  \n",
       "          Winter f              825226  \n",
       "                 t              438117  \n",
       "2018      Spring f             1599201  \n",
       "                 t              987872  \n",
       "          Winter f             1505979  \n",
       "                 t              898448  "
      ]
     },
     "execution_count": 112,
     "metadata": {},
     "output_type": "execute_result"
    }
   ],
   "source": [
    "calendar_nyc.groupby(['date_year','season','available']).count()"
   ]
  },
  {
   "cell_type": "code",
   "execution_count": 113,
   "metadata": {},
   "outputs": [],
   "source": [
    "calendar_nyc.to_csv('calendar_nyc.csv',index=False)"
   ]
  }
 ],
 "metadata": {
  "kernelspec": {
   "display_name": "Python 3",
   "language": "python",
   "name": "python3"
  },
  "language_info": {
   "codemirror_mode": {
    "name": "ipython",
    "version": 3
   },
   "file_extension": ".py",
   "mimetype": "text/x-python",
   "name": "python",
   "nbconvert_exporter": "python",
   "pygments_lexer": "ipython3",
   "version": "3.7.4"
  },
  "toc": {
   "base_numbering": 1,
   "nav_menu": {},
   "number_sections": true,
   "sideBar": true,
   "skip_h1_title": false,
   "title_cell": "Table of Contents",
   "title_sidebar": "Contents",
   "toc_cell": true,
   "toc_position": {},
   "toc_section_display": true,
   "toc_window_display": true
  }
 },
 "nbformat": 4,
 "nbformat_minor": 2
}
