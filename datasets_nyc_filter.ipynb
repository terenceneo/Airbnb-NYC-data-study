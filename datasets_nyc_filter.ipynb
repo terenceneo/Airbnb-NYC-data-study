{
 "cells": [
  {
   "cell_type": "code",
   "execution_count": null,
   "metadata": {},
   "outputs": [],
   "source": [
    "# goal: filter all tables to contain only common ny records among one another\n",
    "\n",
    "# filter calendar, ny only\n",
    "calendar_ny = calendar[calendar[\"metro_area\"] == \"NYC\"]\n",
    "calendar_ny\n",
    "\n",
    "# filter econ_state, ny only\n",
    "econ_state_ny = econ_state[econ_state[\"state\"] == \"NY\"]\n",
    "econ_state_ny\n",
    "\n",
    "# filter listings, ny only\n",
    "listings_ny = listings[listings[\"state\"] == \"NY\"]\n",
    "listings_ny\n",
    "\n",
    "# filter real_estate, ny only\n",
    "real_estate_ny = real_estate[real_estate[\"state\"] == \"NY\"]\n",
    "real_estate_ny\n",
    "\n",
    "# filter venues, ny only\n",
    "venues_ny = venues[venues[\"city\"] == \"new york city\"]\n",
    "venues_ny\n",
    "\n",
    "# filter listings_ny to contain only records with listing_id found in calendar_ny\n",
    "listings_ny = listings_ny[listings_ny[\"id\"].isin(calendar_ny[\"listing_id\"])]\n",
    "listings_ny\n",
    "\n",
    "# make sure zipcode columns are numeric so we can compare their equalities\n",
    "listings_ny[\"zipcode\"].dtype\n",
    "real_estate_ny[\"zipcode\"].dtype\n",
    "listings_ny[\"zipcode\"] = pd.to_numeric(listings_ny[\"zipcode\"], errors=\"coerce\")\n",
    "\n",
    "# common zipcodes in both listings_ny and real_estate_ny\n",
    "listings_real_estate_ny_common_zipcodes = listings_ny[\"zipcode\"][listings_ny[\"zipcode\"].isin(real_estate_ny[\"zipcode\"])]\n",
    "listings_real_estate_ny_common_zipcodes\n",
    "\n",
    "# filter listings_ny to contain only records with zipcodes found in both listings_ny and real_estate_ny\n",
    "listings_ny = listings_ny[listings_ny[\"zipcode\"].isin(listings_real_estate_ny_common_zipcodes)]\n",
    "listings_ny\n",
    "\n",
    "# filterreal_estate_ny to contain only records with zipcodes found in both listings_ny and real_estate_ny\n",
    "real_estate_ny = real_estate_ny[real_estate_ny[\"zipcode\"].isin(listings_real_estate_ny_common_zipcodes)]\n",
    "real_estate_ny\n",
    "\n",
    "# filter demographics to contain only records with zipcodes found in both listings_ny and real_estate_ny\n",
    "demographics_ny = demographics[demographics[\"zipcode\"].isin(listings_real_estate_ny_common_zipcodes)]\n",
    "demographics_ny\n",
    "\n",
    "# now all 6 _ny tables contain only common ny records among one another!"
   ]
  }
 ],
 "metadata": {
  "kernelspec": {
   "display_name": "Python 3",
   "language": "python",
   "name": "python3"
  },
  "language_info": {
   "codemirror_mode": {
    "name": "ipython",
    "version": 3
   },
   "file_extension": ".py",
   "mimetype": "text/x-python",
   "name": "python",
   "nbconvert_exporter": "python",
   "pygments_lexer": "ipython3",
   "version": "3.7.4"
  }
 },
 "nbformat": 4,
 "nbformat_minor": 2
}
