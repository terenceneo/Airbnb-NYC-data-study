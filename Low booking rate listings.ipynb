{
 "cells": [
  {
   "cell_type": "markdown",
   "metadata": {},
   "source": [
    "# Exploring the availability of Airbnb listings and their characteristics\n",
    "## How can we promote earlier booking of listings and also discourage hosts from placing listings that are actually not available for rent?"
   ]
  },
  {
   "cell_type": "code",
   "execution_count": 260,
   "metadata": {},
   "outputs": [],
   "source": [
    "import pandas as pd\n",
    "import matplotlib.pyplot as plt\n",
    "import numpy as np\n",
    "import seaborn as sns"
   ]
  },
  {
   "cell_type": "markdown",
   "metadata": {},
   "source": [
    "## Load dataset"
   ]
  },
  {
   "cell_type": "code",
   "execution_count": 261,
   "metadata": {},
   "outputs": [],
   "source": [
    "# Load datasets\n",
    "source=\"./airbnb_data/\"\n",
    "calendar=pd.read_csv(source+\"calendar.csv\")\n",
    "listings=pd.read_csv(source+\"listings.csv\")"
   ]
  },
  {
   "cell_type": "code",
   "execution_count": 262,
   "metadata": {},
   "outputs": [
    {
     "data": {
      "text/html": [
       "<div>\n",
       "<style scoped>\n",
       "    .dataframe tbody tr th:only-of-type {\n",
       "        vertical-align: middle;\n",
       "    }\n",
       "\n",
       "    .dataframe tbody tr th {\n",
       "        vertical-align: top;\n",
       "    }\n",
       "\n",
       "    .dataframe thead th {\n",
       "        text-align: right;\n",
       "    }\n",
       "</style>\n",
       "<table border=\"1\" class=\"dataframe\">\n",
       "  <thead>\n",
       "    <tr style=\"text-align: right;\">\n",
       "      <th></th>\n",
       "      <th>listing_id</th>\n",
       "      <th>date</th>\n",
       "      <th>available</th>\n",
       "      <th>price</th>\n",
       "      <th>metro_area</th>\n",
       "    </tr>\n",
       "  </thead>\n",
       "  <tbody>\n",
       "    <tr>\n",
       "      <th>0</th>\n",
       "      <td>2515</td>\n",
       "      <td>2018-03-05</td>\n",
       "      <td>t</td>\n",
       "      <td>69.0</td>\n",
       "      <td>NYC</td>\n",
       "    </tr>\n",
       "    <tr>\n",
       "      <th>1</th>\n",
       "      <td>2515</td>\n",
       "      <td>2018-03-04</td>\n",
       "      <td>t</td>\n",
       "      <td>69.0</td>\n",
       "      <td>NYC</td>\n",
       "    </tr>\n",
       "    <tr>\n",
       "      <th>2</th>\n",
       "      <td>2515</td>\n",
       "      <td>2018-03-03</td>\n",
       "      <td>t</td>\n",
       "      <td>69.0</td>\n",
       "      <td>NYC</td>\n",
       "    </tr>\n",
       "    <tr>\n",
       "      <th>3</th>\n",
       "      <td>2515</td>\n",
       "      <td>2018-03-02</td>\n",
       "      <td>t</td>\n",
       "      <td>69.0</td>\n",
       "      <td>NYC</td>\n",
       "    </tr>\n",
       "    <tr>\n",
       "      <th>4</th>\n",
       "      <td>2515</td>\n",
       "      <td>2018-03-01</td>\n",
       "      <td>t</td>\n",
       "      <td>69.0</td>\n",
       "      <td>NYC</td>\n",
       "    </tr>\n",
       "  </tbody>\n",
       "</table>\n",
       "</div>"
      ],
      "text/plain": [
       "   listing_id        date available  price metro_area\n",
       "0        2515  2018-03-05         t   69.0        NYC\n",
       "1        2515  2018-03-04         t   69.0        NYC\n",
       "2        2515  2018-03-03         t   69.0        NYC\n",
       "3        2515  2018-03-02         t   69.0        NYC\n",
       "4        2515  2018-03-01         t   69.0        NYC"
      ]
     },
     "execution_count": 262,
     "metadata": {},
     "output_type": "execute_result"
    }
   ],
   "source": [
    "calendar.head()"
   ]
  },
  {
   "cell_type": "markdown",
   "metadata": {},
   "source": [
    "## Clean dataset\n",
    "### 1) Filter and clean data of interest"
   ]
  },
  {
   "cell_type": "code",
   "execution_count": 263,
   "metadata": {},
   "outputs": [
    {
     "name": "stdout",
     "output_type": "stream",
     "text": [
      "['NYC', 'denver', 'chicago', 'boston', 'dc']\n"
     ]
    }
   ],
   "source": [
    "print(calendar['metro_area'].unique().tolist())"
   ]
  },
  {
   "cell_type": "code",
   "execution_count": 264,
   "metadata": {},
   "outputs": [
    {
     "data": {
      "text/html": [
       "<div>\n",
       "<style scoped>\n",
       "    .dataframe tbody tr th:only-of-type {\n",
       "        vertical-align: middle;\n",
       "    }\n",
       "\n",
       "    .dataframe tbody tr th {\n",
       "        vertical-align: top;\n",
       "    }\n",
       "\n",
       "    .dataframe thead th {\n",
       "        text-align: right;\n",
       "    }\n",
       "</style>\n",
       "<table border=\"1\" class=\"dataframe\">\n",
       "  <thead>\n",
       "    <tr style=\"text-align: right;\">\n",
       "      <th></th>\n",
       "      <th>listing_id</th>\n",
       "      <th>date</th>\n",
       "      <th>available</th>\n",
       "      <th>price</th>\n",
       "      <th>metro_area</th>\n",
       "    </tr>\n",
       "  </thead>\n",
       "  <tbody>\n",
       "    <tr>\n",
       "      <th>0</th>\n",
       "      <td>2515</td>\n",
       "      <td>2018-03-05</td>\n",
       "      <td>1</td>\n",
       "      <td>69.0</td>\n",
       "      <td>NYC</td>\n",
       "    </tr>\n",
       "    <tr>\n",
       "      <th>1</th>\n",
       "      <td>2515</td>\n",
       "      <td>2018-03-04</td>\n",
       "      <td>1</td>\n",
       "      <td>69.0</td>\n",
       "      <td>NYC</td>\n",
       "    </tr>\n",
       "    <tr>\n",
       "      <th>2</th>\n",
       "      <td>2515</td>\n",
       "      <td>2018-03-03</td>\n",
       "      <td>1</td>\n",
       "      <td>69.0</td>\n",
       "      <td>NYC</td>\n",
       "    </tr>\n",
       "    <tr>\n",
       "      <th>3</th>\n",
       "      <td>2515</td>\n",
       "      <td>2018-03-02</td>\n",
       "      <td>1</td>\n",
       "      <td>69.0</td>\n",
       "      <td>NYC</td>\n",
       "    </tr>\n",
       "    <tr>\n",
       "      <th>4</th>\n",
       "      <td>2515</td>\n",
       "      <td>2018-03-01</td>\n",
       "      <td>1</td>\n",
       "      <td>69.0</td>\n",
       "      <td>NYC</td>\n",
       "    </tr>\n",
       "  </tbody>\n",
       "</table>\n",
       "</div>"
      ],
      "text/plain": [
       "   listing_id       date  available  price metro_area\n",
       "0        2515 2018-03-05          1   69.0        NYC\n",
       "1        2515 2018-03-04          1   69.0        NYC\n",
       "2        2515 2018-03-03          1   69.0        NYC\n",
       "3        2515 2018-03-02          1   69.0        NYC\n",
       "4        2515 2018-03-01          1   69.0        NYC"
      ]
     },
     "execution_count": 264,
     "metadata": {},
     "output_type": "execute_result"
    }
   ],
   "source": [
    "# Filter only NYC data\n",
    "calendar = calendar[calendar['metro_area']=='NYC']\n",
    "\n",
    "# In 'available' column, change true to 1 and false to 0\n",
    "calendar['available'] = calendar['available'].apply(lambda x:1 if x == 't' else 0)\n",
    "\n",
    "# Convert date column to data type date\n",
    "calendar['date'] = pd.to_datetime(calendar['date'])\n",
    "\n",
    "calendar.head()"
   ]
  },
  {
   "cell_type": "markdown",
   "metadata": {},
   "source": [
    "### 2) Create table of available days by month and listing"
   ]
  },
  {
   "cell_type": "markdown",
   "metadata": {},
   "source": [
    "For each listing, the availability for the next 365 calendar days are stored in the calendar dataset. Availability means that the listing is made available for rental by the host but has not been booked. We also recognise that there is may be an insignificant number of hosts who may have made the listing available for rental but are not actually accepting bookings due to various reasons. Non-availability could mean that the listing has already been booked or it was not made available for rental by the host. "
   ]
  },
  {
   "cell_type": "code",
   "execution_count": 265,
   "metadata": {},
   "outputs": [],
   "source": [
    "# Find start_date for dataset of each listing\n",
    "# start_date = calendar.groupby('listing_id')['date'].min().to_frame()\n",
    "# start_date = start_date.reset_index()\n",
    "# start_date.head()\n",
    "\n",
    "# We can check that all the start dates are in May 2017\n",
    "# np.mean(start_date['date'].dt.month)"
   ]
  },
  {
   "cell_type": "code",
   "execution_count": null,
   "metadata": {},
   "outputs": [],
   "source": [
    "# Sum total number of days in a month with data and number of days which listing is available for\n",
    "availability = calendar.groupby([pd.Grouper(key='date',freq='M'),'listing_id'])['available'].agg(['sum','count']).reset_index()\n",
    "availability['not_available_days'] = availability['count'] - availability['sum']\n",
    "availability = availability.rename({'sum':'available_days','count':'total_days'}, axis=1)\n",
    "availability.head()"
   ]
  },
  {
   "cell_type": "code",
   "execution_count": null,
   "metadata": {},
   "outputs": [],
   "source": [
    "len(availability)"
   ]
  },
  {
   "cell_type": "markdown",
   "metadata": {},
   "source": [
    "### 3) Focus on listings & months with low booking rate\n",
    "We find that a significant percentage of listings and months are available for almost a full month. That is, the listings are shown as available on the calendar on Airbnb but are not booked at all/have extremely low booking rates. We choose to focus on examining why by exploring their characteristics and identifying patterns."
   ]
  },
  {
   "cell_type": "code",
   "execution_count": null,
   "metadata": {},
   "outputs": [],
   "source": [
    "# Number of unique listing ids in dataset\n",
    "print(\"Number of unique listings: {}\".format(len(availability['listing_id'].unique().tolist())))\n",
    "\n",
    "# Percentage of listing months which have 0 booking days\n",
    "print(\"% of listing-months with zero bookings: {}\".format(len(availability[availability['not_available_days'] == 0])/len(availability)*100))\n",
    "\n",
    "# Create dataset of high-availability months and listings\n",
    "no_booking = availability[availability['not_available_days']==0]\n",
    "print(\"Ave # months/listing with zero bookings: {}\".format(len(no_booking)/len(no_booking['listing_id'].unique().tolist())))"
   ]
  },
  {
   "cell_type": "code",
   "execution_count": null,
   "metadata": {},
   "outputs": [],
   "source": [
    "no_booking.head()"
   ]
  },
  {
   "cell_type": "code",
   "execution_count": null,
   "metadata": {},
   "outputs": [],
   "source": [
    "len(no_booking['listing_id'].unique().tolist())"
   ]
  },
  {
   "cell_type": "markdown",
   "metadata": {},
   "source": [
    "### 4) Create dataset with unique listings and adjustment factor\n",
    "Since the data ends sometime in May 2018, the count of frequency based on booked_days = 0 may result in an additional month being counted. We calculate an adjustment factor, which is 1 if a month needs to be deducted from the frequency, and 0 if no deduction needs to be made. The adjustment factor is 1 when booked_days = 0 in BOTH May 2017 and May 2018."
   ]
  },
  {
   "cell_type": "code",
   "execution_count": null,
   "metadata": {},
   "outputs": [],
   "source": [
    "may_data = no_booking[no_booking['date'].dt.month == 5]\n",
    "may_data = may_data.groupby('listing_id')['not_available_days'].sum().reset_index()\n",
    "may_data.head()"
   ]
  },
  {
   "cell_type": "code",
   "execution_count": null,
   "metadata": {},
   "outputs": [],
   "source": [
    "adjustment = pd.DataFrame(no_booking['listing_id'].unique())\n",
    "adjustment = adjustment.rename({0:'listing_id'},axis=1)\n",
    "adjustment['factor'] = may_data['not_available_days'].apply(lambda x:1 if x==0 else 0)\n",
    "adjustment['factor'] = adjustment['factor'].fillna(0)\n",
    "adjustment.shape"
   ]
  },
  {
   "cell_type": "markdown",
   "metadata": {},
   "source": [
    "### 5) Create dataset of unique high-availability listings with count of months"
   ]
  },
  {
   "cell_type": "code",
   "execution_count": null,
   "metadata": {},
   "outputs": [],
   "source": [
    "print(len(no_booking))\n",
    "print(len(no_booking['listing_id'].unique().tolist()))"
   ]
  },
  {
   "cell_type": "code",
   "execution_count": null,
   "metadata": {},
   "outputs": [],
   "source": [
    "# Listings with zero-booking months (non-unique listings)\n",
    "no_booking_mth = no_booking.drop(['available_days','not_available_days','total_days','date'], axis=1)\n",
    "no_booking_mth.head()"
   ]
  },
  {
   "cell_type": "code",
   "execution_count": null,
   "metadata": {},
   "outputs": [],
   "source": [
    "# Add column of frequency i.e. number of zero-booking months per unique listing\n",
    "no_booking_mth = no_booking_mth['listing_id'].value_counts().reset_index(name='no_months').rename(columns={'index': 'listing_id'})\n",
    "\n",
    "# Merge no_booking_mth with adjustment\n",
    "no_booking_mth = no_booking_mth.merge(adjustment, on='listing_id', how='inner')\n",
    "\n",
    "# Calculate actual number of months and remove adjustment row\n",
    "no_booking_mth['no_months'] = no_booking_mth['no_months']-no_booking_mth['factor']\n",
    "no_booking_mth = no_booking_mth.drop('factor',axis=1)\n",
    "no_booking_mth.no_months = no_booking_mth.no_months.astype(int)"
   ]
  },
  {
   "cell_type": "code",
   "execution_count": null,
   "metadata": {},
   "outputs": [],
   "source": [
    "no_booking_mth.head()"
   ]
  },
  {
   "cell_type": "code",
   "execution_count": null,
   "metadata": {},
   "outputs": [],
   "source": [
    "# Check that number of unique listings matches that in low_occ table\n",
    "print(len(no_booking_mth))"
   ]
  },
  {
   "cell_type": "markdown",
   "metadata": {},
   "source": [
    "We plot a histogram of the zero-booking months and see that a significant number of unique listings have a full year of zero-booking months. There could be various reasons why these listings are experiencing a full year of zero bookings. Possible reasons:  \n",
    "1) The quality of the listing could be poor such that no one books them, in which case we can explore reasons for this and characterise such listings to make recommendations to hosts.  \n",
    "2) The listings are outdated and no longer maintained by hosts, in which case it would be helpful to remove them fromt he website so that potential customers do not have to sift through unnecessarily large numbers of listings.  \n",
    "3) Related to point 2, the hosts are currently staying in their listing and indicate the listing as being available even though it is not. They reject requests to rent. It would be helpful to motivate hosts to update accurate availabilities to enhance customer experience and efficiency of matching customers to listings."
   ]
  },
  {
   "cell_type": "code",
   "execution_count": null,
   "metadata": {},
   "outputs": [],
   "source": [
    "plt.hist(no_booking_mth['no_months'])\n",
    "plt.xlabel('Number of months with all days available')\n",
    "plt.ylabel('Count of listings')"
   ]
  },
  {
   "cell_type": "code",
   "execution_count": null,
   "metadata": {},
   "outputs": [],
   "source": [
    "# Export dataset of listings and number of zero-booking months\n",
    "no_booking_mth.to_csv(r'no_booking_listings.csv', index=False)"
   ]
  },
  {
   "cell_type": "markdown",
   "metadata": {},
   "source": [
    "## Merge datasets\n",
    "Merge listings and no_booking_mth to characterise the listings with low booking rates  "
   ]
  },
  {
   "cell_type": "code",
   "execution_count": null,
   "metadata": {},
   "outputs": [],
   "source": [
    "listings.head()"
   ]
  },
  {
   "cell_type": "code",
   "execution_count": null,
   "metadata": {},
   "outputs": [],
   "source": [
    "print(listings.columns)"
   ]
  },
  {
   "cell_type": "code",
   "execution_count": null,
   "metadata": {},
   "outputs": [],
   "source": [
    "# Filter only listings in New York\n",
    "listings_new = listings[listings['state']=='NY'] \n",
    "\n",
    "# Drop unnecessary columns\n",
    "listings_new = listings_new.drop(['has_availability','availability_30','host_id','name','weekly_price','state'],axis=1)"
   ]
  },
  {
   "cell_type": "code",
   "execution_count": null,
   "metadata": {},
   "outputs": [],
   "source": [
    "listings_new.shape"
   ]
  },
  {
   "cell_type": "code",
   "execution_count": null,
   "metadata": {},
   "outputs": [],
   "source": [
    "no_booking_list = no_booking_mth.merge(listings_new, left_on='listing_id', right_on='id', how='inner')\n",
    "no_booking_list = no_booking_list.drop(['id'], axis=1)"
   ]
  },
  {
   "cell_type": "code",
   "execution_count": null,
   "metadata": {},
   "outputs": [],
   "source": [
    "no_booking_list.head()"
   ]
  },
  {
   "cell_type": "markdown",
   "metadata": {},
   "source": []
  },
  {
   "cell_type": "markdown",
   "metadata": {},
   "source": [
    "The number of high-availability months is not highly correlated to any particular feature of the listing, as shown below."
   ]
  },
  {
   "cell_type": "code",
   "execution_count": null,
   "metadata": {},
   "outputs": [],
   "source": [
    "corr = no_booking_list.corr()\n",
    "ax = sns.heatmap(\n",
    "    corr, \n",
    "    vmin=-1, vmax=1, center=0,\n",
    "    cmap=sns.diverging_palette(20, 220, n=200),\n",
    "    square=True\n",
    ")\n",
    "ax.set_xticklabels(\n",
    "    ax.get_xticklabels(),\n",
    "    rotation=45,\n",
    "    horizontalalignment='right'\n",
    ");"
   ]
  },
  {
   "cell_type": "code",
   "execution_count": null,
   "metadata": {},
   "outputs": [],
   "source": []
  },
  {
   "cell_type": "code",
   "execution_count": null,
   "metadata": {},
   "outputs": [],
   "source": []
  }
 ],
 "metadata": {
  "kernelspec": {
   "display_name": "Python 3",
   "language": "python",
   "name": "python3"
  },
  "language_info": {
   "codemirror_mode": {
    "name": "ipython",
    "version": 3
   },
   "file_extension": ".py",
   "mimetype": "text/x-python",
   "name": "python",
   "nbconvert_exporter": "python",
   "pygments_lexer": "ipython3",
   "version": "3.7.3"
  }
 },
 "nbformat": 4,
 "nbformat_minor": 2
}
