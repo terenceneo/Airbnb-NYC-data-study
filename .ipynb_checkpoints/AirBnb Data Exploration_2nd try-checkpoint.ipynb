{
 "cells": [
  {
   "cell_type": "markdown",
   "metadata": {
    "toc": true
   },
   "source": [
    "<h1>Table of Contents<span class=\"tocSkip\"></span></h1>\n",
    "<div class=\"toc\"><ul class=\"toc-item\"><li><ul class=\"toc-item\"><li><span><a href=\"#Preliminary-EDA\" data-toc-modified-id=\"Preliminary-EDA-0.1\"><span class=\"toc-item-num\">0.1&nbsp;&nbsp;</span>Preliminary EDA</a></span></li></ul></li><li><span><a href=\"#Getting-datasets-ready\" data-toc-modified-id=\"Getting-datasets-ready-1\"><span class=\"toc-item-num\">1&nbsp;&nbsp;</span>Getting datasets ready</a></span><ul class=\"toc-item\"><li><span><a href=\"#Joining-dataframes\" data-toc-modified-id=\"Joining-dataframes-1.1\"><span class=\"toc-item-num\">1.1&nbsp;&nbsp;</span>Joining dataframes</a></span></li><li><span><a href=\"#Host-and-Listing-counts\" data-toc-modified-id=\"Host-and-Listing-counts-1.2\"><span class=\"toc-item-num\">1.2&nbsp;&nbsp;</span>Host and Listing counts</a></span></li></ul></li><li><span><a href=\"#Charts\" data-toc-modified-id=\"Charts-2\"><span class=\"toc-item-num\">2&nbsp;&nbsp;</span>Charts</a></span></li><li><span><a href=\"#Preping-dataset-for-training\" data-toc-modified-id=\"Preping-dataset-for-training-3\"><span class=\"toc-item-num\">3&nbsp;&nbsp;</span>Preping dataset for training</a></span></li><li><span><a href=\"#Data-Pre-Processing\" data-toc-modified-id=\"Data-Pre-Processing-4\"><span class=\"toc-item-num\">4&nbsp;&nbsp;</span>Data Pre-Processing</a></span><ul class=\"toc-item\"><li><span><a href=\"#Sin-transformation-for-date\" data-toc-modified-id=\"Sin-transformation-for-date-4.1\"><span class=\"toc-item-num\">4.1&nbsp;&nbsp;</span>Sin transformation for date</a></span></li><li><span><a href=\"#Standardize-Numerical-Variables\" data-toc-modified-id=\"Standardize-Numerical-Variables-4.2\"><span class=\"toc-item-num\">4.2&nbsp;&nbsp;</span>Standardize Numerical Variables</a></span></li><li><span><a href=\"#Changing-Binary-Variables-to-0-&amp;-1\" data-toc-modified-id=\"Changing-Binary-Variables-to-0-&amp;-1-4.3\"><span class=\"toc-item-num\">4.3&nbsp;&nbsp;</span>Changing Binary Variables to 0 &amp; 1</a></span></li></ul></li><li><span><a href=\"#Modelling\" data-toc-modified-id=\"Modelling-5\"><span class=\"toc-item-num\">5&nbsp;&nbsp;</span>Modelling</a></span><ul class=\"toc-item\"><li><span><a href=\"#Baseline-Model:-Logistic-Regression\" data-toc-modified-id=\"Baseline-Model:-Logistic-Regression-5.1\"><span class=\"toc-item-num\">5.1&nbsp;&nbsp;</span>Baseline Model: Logistic Regression</a></span></li><li><span><a href=\"#Univariate-feature-selection\" data-toc-modified-id=\"Univariate-feature-selection-5.2\"><span class=\"toc-item-num\">5.2&nbsp;&nbsp;</span>Univariate feature selection</a></span></li></ul></li></ul></div>"
   ]
  },
  {
   "cell_type": "code",
   "execution_count": 56,
   "metadata": {},
   "outputs": [],
   "source": [
    "from __future__ import division\n",
    "import pandas as pd\n",
    "from matplotlib import pyplot as plt\n",
    "import math\n",
    "import numpy as np\n",
    "import seaborn as sns\n",
    "from math import sqrt, sin\n",
    "from datetime import datetime\n",
    "%matplotlib inline"
   ]
  },
  {
   "cell_type": "code",
   "execution_count": 57,
   "metadata": {},
   "outputs": [],
   "source": [
    "# Load the data (will take a short while)\n",
    "calendar = pd.read_csv(\"airbnb_data/calendar.csv\")\n",
    "# demographics = pd.read_csv(\"airbnb_data/demographics.csv\")\n",
    "# econ_state = pd.read_csv(\"airbnb_data/econ_state.csv\")\n",
    "listings = pd.read_csv(\"airbnb_data/listings.csv\")\n",
    "# real_estate = pd.read_csv(\"airbnb_data/real_estate.csv\")\n",
    "# venues = pd.read_csv(\"airbnb_data/venues.csv\")\n",
    "mth_avail = pd.read_csv('full_mth_avail_listings.csv')"
   ]
  },
  {
   "cell_type": "code",
   "execution_count": 58,
   "metadata": {
    "scrolled": true
   },
   "outputs": [],
   "source": [
    "# dataset_names = [\"calendar\", \"demographics\", \"econ_state\", \"listings\", \"real_estate\", \"venues\"]\n",
    "# datasets = [calendar, demographics, econ_state, listings, real_estate, venues]\n",
    "dataset_names = ['mth_avail','listings']\n",
    "datasets = [mth_avail, listings]"
   ]
  },
  {
   "cell_type": "markdown",
   "metadata": {},
   "source": [
    "## Preliminary EDA"
   ]
  },
  {
   "cell_type": "code",
   "execution_count": 59,
   "metadata": {
    "scrolled": true
   },
   "outputs": [
    {
     "name": "stdout",
     "output_type": "stream",
     "text": [
      "mth_avail\n",
      "Index(['listing_id', 'no_months', 'accommodates', 'amenities', 'bathrooms',\n",
      "       'bed_type', 'bedrooms', 'beds', 'cancellation_policy', 'city',\n",
      "       'instant_bookable', 'latitude', 'longitude', 'metropolitan', 'price',\n",
      "       'property_type', 'review_scores_checkin', 'review_scores_cleanliness',\n",
      "       'review_scores_communication', 'review_scores_location',\n",
      "       'review_scores_rating', 'review_scores_value', 'room_type', 'zipcode'],\n",
      "      dtype='object')\n",
      "\n",
      "listings\n",
      "Index(['accommodates', 'amenities', 'availability_30', 'bathrooms', 'bed_type',\n",
      "       'bedrooms', 'beds', 'cancellation_policy', 'city', 'has_availability',\n",
      "       'host_id', 'id', 'instant_bookable', 'latitude', 'longitude',\n",
      "       'metropolitan', 'name', 'price', 'property_type',\n",
      "       'review_scores_checkin', 'review_scores_cleanliness',\n",
      "       'review_scores_communication', 'review_scores_location',\n",
      "       'review_scores_rating', 'review_scores_value', 'room_type', 'state',\n",
      "       'weekly_price', 'zipcode'],\n",
      "      dtype='object')\n",
      "\n"
     ]
    }
   ],
   "source": [
    "for i in range(len(datasets)):\n",
    "    print(dataset_names[i])\n",
    "    print(datasets[i].keys())\n",
    "    print()"
   ]
  },
  {
   "cell_type": "code",
   "execution_count": 60,
   "metadata": {
    "scrolled": true
   },
   "outputs": [],
   "source": [
    "# demographics[demographics[\"zipcode\"] // 1000 == 10]"
   ]
  },
  {
   "cell_type": "code",
   "execution_count": 61,
   "metadata": {},
   "outputs": [],
   "source": [
    "# calendar.plot(x=\"date\", y=\"price\")\n",
    "# plt.show()"
   ]
  },
  {
   "cell_type": "markdown",
   "metadata": {},
   "source": [
    "# Getting datasets ready"
   ]
  },
  {
   "cell_type": "code",
   "execution_count": 62,
   "metadata": {
    "scrolled": true
   },
   "outputs": [],
   "source": [
    "# calendar = calendar.set_index(\"listing_id\")\n",
    "# listings = listings.set_index(\"id\")a"
   ]
  },
  {
   "cell_type": "code",
   "execution_count": 63,
   "metadata": {},
   "outputs": [],
   "source": [
    "# calendar = calendar[calendar['metro_area'] == 'NYC']\n",
    "listings = listings[listings['state'] == 'NY']"
   ]
  },
  {
   "cell_type": "markdown",
   "metadata": {},
   "source": [
    "## Joining dataframes"
   ]
  },
  {
   "cell_type": "code",
   "execution_count": 64,
   "metadata": {},
   "outputs": [],
   "source": [
    "df = listings.set_index(\"id\").join(mth_avail[['listing_id', 'no_months']].set_index(\"listing_id\"), how='inner')"
   ]
  },
  {
   "cell_type": "code",
   "execution_count": 68,
   "metadata": {
    "scrolled": true
   },
   "outputs": [],
   "source": [
    "df = df.reset_index()"
   ]
  },
  {
   "cell_type": "code",
   "execution_count": 69,
   "metadata": {},
   "outputs": [],
   "source": [
    "df = df.rename(columns={\"index\": \"listing_id\"})"
   ]
  },
  {
   "cell_type": "code",
   "execution_count": 70,
   "metadata": {},
   "outputs": [
    {
     "data": {
      "text/plain": [
       "(22837, 30)"
      ]
     },
     "execution_count": 70,
     "metadata": {},
     "output_type": "execute_result"
    }
   ],
   "source": [
    "df.shape"
   ]
  },
  {
   "cell_type": "code",
   "execution_count": 71,
   "metadata": {
    "scrolled": true
   },
   "outputs": [
    {
     "data": {
      "text/plain": [
       "(40738, 29)"
      ]
     },
     "execution_count": 71,
     "metadata": {},
     "output_type": "execute_result"
    }
   ],
   "source": [
    "listings.shape"
   ]
  },
  {
   "cell_type": "code",
   "execution_count": 72,
   "metadata": {},
   "outputs": [
    {
     "data": {
      "text/plain": [
       "(22837, 24)"
      ]
     },
     "execution_count": 72,
     "metadata": {},
     "output_type": "execute_result"
    }
   ],
   "source": [
    "mth_avail.shape"
   ]
  },
  {
   "cell_type": "code",
   "execution_count": 101,
   "metadata": {},
   "outputs": [
    {
     "ename": "KeyError",
     "evalue": "\"['has_availability'] not found in axis\"",
     "output_type": "error",
     "traceback": [
      "\u001b[1;31m---------------------------------------------------------------------------\u001b[0m",
      "\u001b[1;31mKeyError\u001b[0m                                  Traceback (most recent call last)",
      "\u001b[1;32m<ipython-input-101-d7c99cc6835e>\u001b[0m in \u001b[0;36m<module>\u001b[1;34m\u001b[0m\n\u001b[1;32m----> 1\u001b[1;33m \u001b[0mdf\u001b[0m \u001b[1;33m=\u001b[0m \u001b[0mdf\u001b[0m\u001b[1;33m.\u001b[0m\u001b[0mdrop\u001b[0m\u001b[1;33m(\u001b[0m\u001b[0mcolumns\u001b[0m\u001b[1;33m=\u001b[0m\u001b[1;34m'has_availability'\u001b[0m\u001b[1;33m)\u001b[0m\u001b[1;33m\u001b[0m\u001b[1;33m\u001b[0m\u001b[0m\n\u001b[0m",
      "\u001b[1;32mC:\\ProgramData\\Anaconda3\\lib\\site-packages\\pandas\\core\\frame.py\u001b[0m in \u001b[0;36mdrop\u001b[1;34m(self, labels, axis, index, columns, level, inplace, errors)\u001b[0m\n\u001b[0;32m   3938\u001b[0m                                            \u001b[0mindex\u001b[0m\u001b[1;33m=\u001b[0m\u001b[0mindex\u001b[0m\u001b[1;33m,\u001b[0m \u001b[0mcolumns\u001b[0m\u001b[1;33m=\u001b[0m\u001b[0mcolumns\u001b[0m\u001b[1;33m,\u001b[0m\u001b[1;33m\u001b[0m\u001b[1;33m\u001b[0m\u001b[0m\n\u001b[0;32m   3939\u001b[0m                                            \u001b[0mlevel\u001b[0m\u001b[1;33m=\u001b[0m\u001b[0mlevel\u001b[0m\u001b[1;33m,\u001b[0m \u001b[0minplace\u001b[0m\u001b[1;33m=\u001b[0m\u001b[0minplace\u001b[0m\u001b[1;33m,\u001b[0m\u001b[1;33m\u001b[0m\u001b[1;33m\u001b[0m\u001b[0m\n\u001b[1;32m-> 3940\u001b[1;33m                                            errors=errors)\n\u001b[0m\u001b[0;32m   3941\u001b[0m \u001b[1;33m\u001b[0m\u001b[0m\n\u001b[0;32m   3942\u001b[0m     @rewrite_axis_style_signature('mapper', [('copy', True),\n",
      "\u001b[1;32mC:\\ProgramData\\Anaconda3\\lib\\site-packages\\pandas\\core\\generic.py\u001b[0m in \u001b[0;36mdrop\u001b[1;34m(self, labels, axis, index, columns, level, inplace, errors)\u001b[0m\n\u001b[0;32m   3778\u001b[0m         \u001b[1;32mfor\u001b[0m \u001b[0maxis\u001b[0m\u001b[1;33m,\u001b[0m \u001b[0mlabels\u001b[0m \u001b[1;32min\u001b[0m \u001b[0maxes\u001b[0m\u001b[1;33m.\u001b[0m\u001b[0mitems\u001b[0m\u001b[1;33m(\u001b[0m\u001b[1;33m)\u001b[0m\u001b[1;33m:\u001b[0m\u001b[1;33m\u001b[0m\u001b[1;33m\u001b[0m\u001b[0m\n\u001b[0;32m   3779\u001b[0m             \u001b[1;32mif\u001b[0m \u001b[0mlabels\u001b[0m \u001b[1;32mis\u001b[0m \u001b[1;32mnot\u001b[0m \u001b[1;32mNone\u001b[0m\u001b[1;33m:\u001b[0m\u001b[1;33m\u001b[0m\u001b[1;33m\u001b[0m\u001b[0m\n\u001b[1;32m-> 3780\u001b[1;33m                 \u001b[0mobj\u001b[0m \u001b[1;33m=\u001b[0m \u001b[0mobj\u001b[0m\u001b[1;33m.\u001b[0m\u001b[0m_drop_axis\u001b[0m\u001b[1;33m(\u001b[0m\u001b[0mlabels\u001b[0m\u001b[1;33m,\u001b[0m \u001b[0maxis\u001b[0m\u001b[1;33m,\u001b[0m \u001b[0mlevel\u001b[0m\u001b[1;33m=\u001b[0m\u001b[0mlevel\u001b[0m\u001b[1;33m,\u001b[0m \u001b[0merrors\u001b[0m\u001b[1;33m=\u001b[0m\u001b[0merrors\u001b[0m\u001b[1;33m)\u001b[0m\u001b[1;33m\u001b[0m\u001b[1;33m\u001b[0m\u001b[0m\n\u001b[0m\u001b[0;32m   3781\u001b[0m \u001b[1;33m\u001b[0m\u001b[0m\n\u001b[0;32m   3782\u001b[0m         \u001b[1;32mif\u001b[0m \u001b[0minplace\u001b[0m\u001b[1;33m:\u001b[0m\u001b[1;33m\u001b[0m\u001b[1;33m\u001b[0m\u001b[0m\n",
      "\u001b[1;32mC:\\ProgramData\\Anaconda3\\lib\\site-packages\\pandas\\core\\generic.py\u001b[0m in \u001b[0;36m_drop_axis\u001b[1;34m(self, labels, axis, level, errors)\u001b[0m\n\u001b[0;32m   3810\u001b[0m                 \u001b[0mnew_axis\u001b[0m \u001b[1;33m=\u001b[0m \u001b[0maxis\u001b[0m\u001b[1;33m.\u001b[0m\u001b[0mdrop\u001b[0m\u001b[1;33m(\u001b[0m\u001b[0mlabels\u001b[0m\u001b[1;33m,\u001b[0m \u001b[0mlevel\u001b[0m\u001b[1;33m=\u001b[0m\u001b[0mlevel\u001b[0m\u001b[1;33m,\u001b[0m \u001b[0merrors\u001b[0m\u001b[1;33m=\u001b[0m\u001b[0merrors\u001b[0m\u001b[1;33m)\u001b[0m\u001b[1;33m\u001b[0m\u001b[1;33m\u001b[0m\u001b[0m\n\u001b[0;32m   3811\u001b[0m             \u001b[1;32melse\u001b[0m\u001b[1;33m:\u001b[0m\u001b[1;33m\u001b[0m\u001b[1;33m\u001b[0m\u001b[0m\n\u001b[1;32m-> 3812\u001b[1;33m                 \u001b[0mnew_axis\u001b[0m \u001b[1;33m=\u001b[0m \u001b[0maxis\u001b[0m\u001b[1;33m.\u001b[0m\u001b[0mdrop\u001b[0m\u001b[1;33m(\u001b[0m\u001b[0mlabels\u001b[0m\u001b[1;33m,\u001b[0m \u001b[0merrors\u001b[0m\u001b[1;33m=\u001b[0m\u001b[0merrors\u001b[0m\u001b[1;33m)\u001b[0m\u001b[1;33m\u001b[0m\u001b[1;33m\u001b[0m\u001b[0m\n\u001b[0m\u001b[0;32m   3813\u001b[0m             \u001b[0mresult\u001b[0m \u001b[1;33m=\u001b[0m \u001b[0mself\u001b[0m\u001b[1;33m.\u001b[0m\u001b[0mreindex\u001b[0m\u001b[1;33m(\u001b[0m\u001b[1;33m**\u001b[0m\u001b[1;33m{\u001b[0m\u001b[0maxis_name\u001b[0m\u001b[1;33m:\u001b[0m \u001b[0mnew_axis\u001b[0m\u001b[1;33m}\u001b[0m\u001b[1;33m)\u001b[0m\u001b[1;33m\u001b[0m\u001b[1;33m\u001b[0m\u001b[0m\n\u001b[0;32m   3814\u001b[0m \u001b[1;33m\u001b[0m\u001b[0m\n",
      "\u001b[1;32mC:\\ProgramData\\Anaconda3\\lib\\site-packages\\pandas\\core\\indexes\\base.py\u001b[0m in \u001b[0;36mdrop\u001b[1;34m(self, labels, errors)\u001b[0m\n\u001b[0;32m   4963\u001b[0m             \u001b[1;32mif\u001b[0m \u001b[0merrors\u001b[0m \u001b[1;33m!=\u001b[0m \u001b[1;34m'ignore'\u001b[0m\u001b[1;33m:\u001b[0m\u001b[1;33m\u001b[0m\u001b[1;33m\u001b[0m\u001b[0m\n\u001b[0;32m   4964\u001b[0m                 raise KeyError(\n\u001b[1;32m-> 4965\u001b[1;33m                     '{} not found in axis'.format(labels[mask]))\n\u001b[0m\u001b[0;32m   4966\u001b[0m             \u001b[0mindexer\u001b[0m \u001b[1;33m=\u001b[0m \u001b[0mindexer\u001b[0m\u001b[1;33m[\u001b[0m\u001b[1;33m~\u001b[0m\u001b[0mmask\u001b[0m\u001b[1;33m]\u001b[0m\u001b[1;33m\u001b[0m\u001b[1;33m\u001b[0m\u001b[0m\n\u001b[0;32m   4967\u001b[0m         \u001b[1;32mreturn\u001b[0m \u001b[0mself\u001b[0m\u001b[1;33m.\u001b[0m\u001b[0mdelete\u001b[0m\u001b[1;33m(\u001b[0m\u001b[0mindexer\u001b[0m\u001b[1;33m)\u001b[0m\u001b[1;33m\u001b[0m\u001b[1;33m\u001b[0m\u001b[0m\n",
      "\u001b[1;31mKeyError\u001b[0m: \"['has_availability'] not found in axis\""
     ]
    }
   ],
   "source": [
    "df = df.drop(columns='has_availability')"
   ]
  },
  {
   "cell_type": "code",
   "execution_count": 102,
   "metadata": {},
   "outputs": [],
   "source": [
    "# del(high_month)\n",
    "# del(listings)"
   ]
  },
  {
   "cell_type": "markdown",
   "metadata": {},
   "source": [
    "## Host and Listing counts"
   ]
  },
  {
   "cell_type": "code",
   "execution_count": 76,
   "metadata": {
    "scrolled": true
   },
   "outputs": [
    {
     "data": {
      "text/plain": [
       "17860607    1\n",
       "147474      1\n",
       "6122120     1\n",
       "13826698    1\n",
       "51852       1\n",
       "744078      1\n",
       "7547536     1\n",
       "3272201     1\n",
       "5681811     1\n",
       "3312276     1\n",
       "15932054    1\n",
       "6853271     1\n",
       "60056       1\n",
       "17758874    1\n",
       "9237147     1\n",
       "5229212     1\n",
       "311965      1\n",
       "5619149     1\n",
       "12866207    1\n",
       "16394912    1\n",
       "3908257     1\n",
       "70279       1\n",
       "9411206     1\n",
       "5210757     1\n",
       "3328706     1\n",
       "17189484    1\n",
       "10838084    1\n",
       "13914735    1\n",
       "7776880     1\n",
       "4405874     1\n",
       "           ..\n",
       "1873304     1\n",
       "14917017    1\n",
       "17796507    1\n",
       "18483303    1\n",
       "5455261     1\n",
       "8793503     1\n",
       "4347296     1\n",
       "12082561    1\n",
       "4098456     1\n",
       "2608483     1\n",
       "1561968     1\n",
       "12299794    1\n",
       "5565799     1\n",
       "525674      1\n",
       "16496661    1\n",
       "14628204    1\n",
       "6462549     1\n",
       "16164206    1\n",
       "14069103    1\n",
       "8635762     1\n",
       "17382781    1\n",
       "839027      1\n",
       "14120308    1\n",
       "294490      1\n",
       "17500929    1\n",
       "8729771     1\n",
       "12223866    1\n",
       "16572212    1\n",
       "8069858     1\n",
       "14215652    1\n",
       "Name: listing_id, Length: 22837, dtype: int64"
      ]
     },
     "execution_count": 76,
     "metadata": {},
     "output_type": "execute_result"
    }
   ],
   "source": [
    "df['listing_id'].value_counts()"
   ]
  },
  {
   "cell_type": "code",
   "execution_count": 77,
   "metadata": {},
   "outputs": [
    {
     "name": "stdout",
     "output_type": "stream",
     "text": [
      "There are 18214 unique hosts\n",
      "There are 22837 unique listings\n"
     ]
    }
   ],
   "source": [
    "print(\"There are\", df['host_id'].nunique(), \"unique hosts\")\n",
    "print(\"There are\", df['listing_id'].nunique(), \"unique listings\")"
   ]
  },
  {
   "cell_type": "code",
   "execution_count": 78,
   "metadata": {
    "scrolled": true
   },
   "outputs": [
    {
     "data": {
      "text/plain": [
       "26377263     32\n",
       "51913826     31\n",
       "417504       28\n",
       "81634538     20\n",
       "8874674      18\n",
       "440022       16\n",
       "47554473     15\n",
       "31307789     14\n",
       "96098402     13\n",
       "30283594     12\n",
       "69545883     11\n",
       "44965197     11\n",
       "16677326     11\n",
       "45792947     11\n",
       "64065593     11\n",
       "38123545     11\n",
       "35524316     11\n",
       "4014688      11\n",
       "3191545      11\n",
       "122945571    10\n",
       "76176481     10\n",
       "525710       10\n",
       "17916897     10\n",
       "25237492     10\n",
       "67954495      9\n",
       "108049235     9\n",
       "9820942       9\n",
       "6885157       9\n",
       "8327019       9\n",
       "33119567      9\n",
       "             ..\n",
       "1698259       1\n",
       "114416273     1\n",
       "23032458      1\n",
       "40040638      1\n",
       "3541643       1\n",
       "61276810      1\n",
       "39942789      1\n",
       "676480        1\n",
       "42154621      1\n",
       "52441724      1\n",
       "6097531       1\n",
       "26429465      1\n",
       "103158392     1\n",
       "123789006     1\n",
       "2361525       1\n",
       "1626704       1\n",
       "32492147      1\n",
       "4272748       1\n",
       "330347        1\n",
       "45775461      1\n",
       "23976545      1\n",
       "44454496      1\n",
       "45550171      1\n",
       "36246104      1\n",
       "124709463     1\n",
       "13951574      1\n",
       "21721684      1\n",
       "48286291      1\n",
       "1491538       1\n",
       "561154        1\n",
       "Name: host_id, Length: 18214, dtype: int64"
      ]
     },
     "execution_count": 78,
     "metadata": {},
     "output_type": "execute_result"
    }
   ],
   "source": [
    "df['host_id'].value_counts()"
   ]
  },
  {
   "cell_type": "code",
   "execution_count": 84,
   "metadata": {},
   "outputs": [
    {
     "data": {
      "text/plain": [
       "Index(['listing_id', 'accommodates', 'amenities', 'availability_30',\n",
       "       'bathrooms', 'bed_type', 'bedrooms', 'beds', 'cancellation_policy',\n",
       "       'city', 'has_availability', 'instant_bookable', 'latitude', 'longitude',\n",
       "       'metropolitan', 'name', 'price', 'property_type',\n",
       "       'review_scores_checkin', 'review_scores_cleanliness',\n",
       "       'review_scores_communication', 'review_scores_location',\n",
       "       'review_scores_rating', 'review_scores_value', 'room_type', 'state',\n",
       "       'weekly_price', 'zipcode', 'no_months', 'host_no_listings'],\n",
       "      dtype='object')"
      ]
     },
     "execution_count": 84,
     "metadata": {},
     "output_type": "execute_result"
    }
   ],
   "source": [
    "df.keys()"
   ]
  },
  {
   "cell_type": "code",
   "execution_count": 80,
   "metadata": {},
   "outputs": [],
   "source": [
    "host_no_listings = df['host_id'].value_counts().rename_axis('host_id').reset_index(name='host_no_listings')\n",
    "df = df.set_index(\"host_id\").join(host_no_listings.set_index(\"host_id\"), how='inner')"
   ]
  },
  {
   "cell_type": "code",
   "execution_count": 81,
   "metadata": {},
   "outputs": [
    {
     "data": {
      "text/plain": [
       "(22837, 30)"
      ]
     },
     "execution_count": 81,
     "metadata": {},
     "output_type": "execute_result"
    }
   ],
   "source": [
    "df.shape"
   ]
  },
  {
   "cell_type": "code",
   "execution_count": 82,
   "metadata": {},
   "outputs": [
    {
     "data": {
      "text/plain": [
       "(18214, 2)"
      ]
     },
     "execution_count": 82,
     "metadata": {},
     "output_type": "execute_result"
    }
   ],
   "source": [
    "host_no_listings.shape"
   ]
  },
  {
   "cell_type": "code",
   "execution_count": 83,
   "metadata": {},
   "outputs": [
    {
     "data": {
      "text/plain": [
       "(18214, 2)"
      ]
     },
     "execution_count": 83,
     "metadata": {},
     "output_type": "execute_result"
    }
   ],
   "source": [
    "host_no_listings.shape"
   ]
  },
  {
   "cell_type": "markdown",
   "metadata": {},
   "source": [
    "# Charts"
   ]
  },
  {
   "cell_type": "code",
   "execution_count": 104,
   "metadata": {},
   "outputs": [
    {
     "name": "stderr",
     "output_type": "stream",
     "text": [
      "C:\\ProgramData\\Anaconda3\\lib\\site-packages\\seaborn\\axisgrid.py:2065: UserWarning: The `size` parameter has been renamed to `height`; pleaes update your code.\n",
      "  warnings.warn(msg, UserWarning)\n"
     ]
    },
    {
     "data": {
      "image/png": "[encoded data removed]",
      "text/plain": [
       "<Figure size 472.125x360 with 1 Axes>"
      ]
     },
     "metadata": {
      "needs_background": "light"
     },
     "output_type": "display_data"
    }
   ],
   "source": [
    "sns.pairplot(x_vars=[\"no_months\"], y_vars=[\"host_no_listings\"], data=df, hue=\"cancellation_policy\", size=5)\n",
    "plt.title('Host number of Listings against number of avaliable months')\n",
    "plt.xlabel('Number of avaliable months')\n",
    "plt.ylabel('Number of Listings')\n",
    "plt.show()"
   ]
  },
  {
   "cell_type": "code",
   "execution_count": 87,
   "metadata": {},
   "outputs": [
    {
     "data": {
      "image/png": "[encoded data removed]",
      "text/plain": [
       "<Figure size 432x288 with 1 Axes>"
      ]
     },
     "metadata": {
      "needs_background": "light"
     },
     "output_type": "display_data"
    }
   ],
   "source": [
    "plt.scatter(df['no_months'], df['host_no_listings'])\n",
    "plt.legend(loc='lower right')\n",
    "plt.title('Host number of Listings against number of avaliable months')\n",
    "plt.xlabel('Number of avaliable months')\n",
    "plt.ylabel('Number of Listings')\n",
    "plt.show()"
   ]
  },
  {
   "cell_type": "markdown",
   "metadata": {},
   "source": [
    "# Preping dataset for training"
   ]
  },
  {
   "cell_type": "code",
   "execution_count": 855,
   "metadata": {
    "scrolled": true
   },
   "outputs": [
    {
     "name": "stdout",
     "output_type": "stream",
     "text": [
      "['accommodates', 'amenities', 'availability_30', 'bathrooms', 'bed_type', 'bedrooms', 'beds', 'cancellation_policy', 'city', 'has_availability', 'host_id', 'instant_bookable', 'latitude', 'longitude', 'metropolitan', 'name', 'price', 'property_type', 'review_scores_checkin', 'review_scores_cleanliness', 'review_scores_communication', 'review_scores_location', 'review_scores_rating', 'review_scores_value', 'room_type', 'state', 'weekly_price', 'zipcode', 'no_months']\n"
     ]
    }
   ],
   "source": [
    "#Getting list of column headers\n",
    "features_list = df.columns.tolist()\n",
    "print(features_list)"
   ]
  },
  {
   "cell_type": "code",
   "execution_count": 857,
   "metadata": {},
   "outputs": [
    {
     "data": {
      "text/plain": [
       "(140526, 28)"
      ]
     },
     "execution_count": 857,
     "metadata": {},
     "output_type": "execute_result"
    }
   ],
   "source": [
    "df.shape"
   ]
  },
  {
   "cell_type": "code",
   "execution_count": 858,
   "metadata": {},
   "outputs": [
    {
     "data": {
      "text/plain": [
       "accommodates                        0\n",
       "amenities                           0\n",
       "availability_30                     0\n",
       "bathrooms                        1083\n",
       "bed_type                            0\n",
       "bedrooms                          443\n",
       "beds                              351\n",
       "cancellation_policy                 0\n",
       "city                              290\n",
       "host_id                             0\n",
       "instant_bookable                    0\n",
       "latitude                            0\n",
       "longitude                           0\n",
       "metropolitan                        0\n",
       "name                              145\n",
       "price                               0\n",
       "property_type                       0\n",
       "review_scores_checkin           25846\n",
       "review_scores_cleanliness       25685\n",
       "review_scores_communication     25686\n",
       "review_scores_location          25839\n",
       "review_scores_rating            25505\n",
       "review_scores_value             25869\n",
       "room_type                           0\n",
       "state                               0\n",
       "weekly_price                   104817\n",
       "zipcode                          1804\n",
       "no_months                           0\n",
       "dtype: int64"
      ]
     },
     "execution_count": 858,
     "metadata": {},
     "output_type": "execute_result"
    }
   ],
   "source": [
    "df.isnull().sum()"
   ]
  },
  {
   "cell_type": "code",
   "execution_count": 859,
   "metadata": {},
   "outputs": [
    {
     "data": {
      "text/plain": [
       "(31673, 28)"
      ]
     },
     "execution_count": 859,
     "metadata": {},
     "output_type": "execute_result"
    }
   ],
   "source": [
    "df.dropna().shape"
   ]
  },
  {
   "cell_type": "code",
   "execution_count": 860,
   "metadata": {},
   "outputs": [],
   "source": [
    "df = df.dropna()"
   ]
  },
  {
   "cell_type": "code",
   "execution_count": 861,
   "metadata": {},
   "outputs": [
    {
     "data": {
      "text/plain": [
       "accommodates                   0\n",
       "amenities                      0\n",
       "availability_30                0\n",
       "bathrooms                      0\n",
       "bed_type                       0\n",
       "bedrooms                       0\n",
       "beds                           0\n",
       "cancellation_policy            0\n",
       "city                           0\n",
       "host_id                        0\n",
       "instant_bookable               0\n",
       "latitude                       0\n",
       "longitude                      0\n",
       "metropolitan                   0\n",
       "name                           0\n",
       "price                          0\n",
       "property_type                  0\n",
       "review_scores_checkin          0\n",
       "review_scores_cleanliness      0\n",
       "review_scores_communication    0\n",
       "review_scores_location         0\n",
       "review_scores_rating           0\n",
       "review_scores_value            0\n",
       "room_type                      0\n",
       "state                          0\n",
       "weekly_price                   0\n",
       "zipcode                        0\n",
       "no_months                      0\n",
       "dtype: int64"
      ]
     },
     "execution_count": 861,
     "metadata": {},
     "output_type": "execute_result"
    }
   ],
   "source": [
    "df.isnull().sum()"
   ]
  },
  {
   "cell_type": "code",
   "execution_count": 862,
   "metadata": {},
   "outputs": [
    {
     "data": {
      "text/plain": [
       "29"
      ]
     },
     "execution_count": 862,
     "metadata": {},
     "output_type": "execute_result"
    }
   ],
   "source": [
    "len(features_list)"
   ]
  },
  {
   "cell_type": "code",
   "execution_count": 863,
   "metadata": {
    "scrolled": true
   },
   "outputs": [
    {
     "data": {
      "text/plain": [
       "accommodates                   float64\n",
       "amenities                       object\n",
       "availability_30                  int64\n",
       "bathrooms                      float64\n",
       "bed_type                        object\n",
       "bedrooms                       float64\n",
       "beds                           float64\n",
       "cancellation_policy             object\n",
       "city                            object\n",
       "host_id                          int64\n",
       "instant_bookable                object\n",
       "latitude                       float64\n",
       "longitude                      float64\n",
       "metropolitan                    object\n",
       "name                            object\n",
       "price                          float64\n",
       "property_type                   object\n",
       "review_scores_checkin          float64\n",
       "review_scores_cleanliness      float64\n",
       "review_scores_communication    float64\n",
       "review_scores_location         float64\n",
       "review_scores_rating           float64\n",
       "review_scores_value            float64\n",
       "room_type                       object\n",
       "state                           object\n",
       "weekly_price                   float64\n",
       "zipcode                         object\n",
       "no_months                        int64\n",
       "dtype: object"
      ]
     },
     "execution_count": 863,
     "metadata": {},
     "output_type": "execute_result"
    }
   ],
   "source": [
    "df.dtypes"
   ]
  },
  {
   "cell_type": "code",
   "execution_count": 864,
   "metadata": {
    "scrolled": false
   },
   "outputs": [
    {
     "data": {
      "text/plain": [
       "accommodates                     16\n",
       "amenities                      4404\n",
       "availability_30                  31\n",
       "bathrooms                        11\n",
       "bed_type                          5\n",
       "bedrooms                          9\n",
       "beds                             13\n",
       "cancellation_policy               4\n",
       "city                             35\n",
       "host_id                        3984\n",
       "instant_bookable                  2\n",
       "latitude                       4727\n",
       "longitude                      4727\n",
       "metropolitan                      1\n",
       "name                           4712\n",
       "price                           312\n",
       "property_type                    14\n",
       "review_scores_checkin             8\n",
       "review_scores_cleanliness         9\n",
       "review_scores_communication       8\n",
       "review_scores_location            8\n",
       "review_scores_rating             42\n",
       "review_scores_value               9\n",
       "room_type                         3\n",
       "state                             1\n",
       "weekly_price                    605\n",
       "zipcode                         217\n",
       "no_months                        11\n",
       "dtype: int64"
      ]
     },
     "execution_count": 864,
     "metadata": {},
     "output_type": "execute_result"
    }
   ],
   "source": [
    "df.nunique()"
   ]
  },
  {
   "cell_type": "code",
   "execution_count": 865,
   "metadata": {
    "scrolled": true
   },
   "outputs": [
    {
     "data": {
      "text/plain": [
       "['accommodates',\n",
       " 'bathrooms',\n",
       " 'bed_type',\n",
       " 'bedrooms',\n",
       " 'beds',\n",
       " 'cancellation_policy',\n",
       " 'city',\n",
       " 'instant_bookable',\n",
       " 'price',\n",
       " 'property_type',\n",
       " 'review_scores_checkin',\n",
       " 'review_scores_cleanliness',\n",
       " 'review_scores_communication',\n",
       " 'review_scores_location',\n",
       " 'review_scores_rating',\n",
       " 'review_scores_value',\n",
       " 'room_type',\n",
       " 'weekly_price']"
      ]
     },
     "execution_count": 865,
     "metadata": {},
     "output_type": "execute_result"
    }
   ],
   "source": [
    "#List of different types of features\n",
    "id_list = ['host_id',]\n",
    "target_list = ['no_months',]\n",
    "flag_list = ['availability_30', 'amenities', 'has_availability', 'latitude', 'longitude', 'name', 'zipcode', 'state', 'metropolitan', 'metro_area'] # flag to remove\n",
    "num_list = [col for col in df.columns if df[col].nunique()>7 and col not in id_list and col not in flag_list]\n",
    "cat_list = [col for col in df.columns if df[col].nunique()<=7 and col not in target_list and col not in flag_list]\n",
    "transfer = ['property_type', 'city'] #has >8 unique but is catergorical var\n",
    "for x in (id_list + target_list + flag_list):\n",
    "    if x in features_list:\n",
    "        features_list.remove(x)\n",
    "features_list"
   ]
  },
  {
   "cell_type": "code",
   "execution_count": 866,
   "metadata": {},
   "outputs": [],
   "source": [
    "# num_list.remove('date')\n",
    "# features_list.remove('date')"
   ]
  },
  {
   "cell_type": "code",
   "execution_count": 867,
   "metadata": {},
   "outputs": [
    {
     "name": "stdout",
     "output_type": "stream",
     "text": [
      "15\n",
      "4\n"
     ]
    }
   ],
   "source": [
    "print(len(num_list))\n",
    "print(len(cat_list))"
   ]
  },
  {
   "cell_type": "code",
   "execution_count": 868,
   "metadata": {},
   "outputs": [
    {
     "name": "stdout",
     "output_type": "stream",
     "text": [
      "property_type\n",
      "city\n"
     ]
    }
   ],
   "source": [
    "for x in transfer:\n",
    "    print(x)\n",
    "    num_list.remove(x)\n",
    "    cat_list.append(x)"
   ]
  },
  {
   "cell_type": "code",
   "execution_count": 869,
   "metadata": {
    "scrolled": true
   },
   "outputs": [
    {
     "name": "stdout",
     "output_type": "stream",
     "text": [
      "13\n",
      "6\n"
     ]
    }
   ],
   "source": [
    "print(len(num_list))\n",
    "print(len(cat_list))"
   ]
  },
  {
   "cell_type": "code",
   "execution_count": 870,
   "metadata": {},
   "outputs": [],
   "source": [
    "df = df.reset_index()"
   ]
  },
  {
   "cell_type": "markdown",
   "metadata": {},
   "source": [
    "# Data Pre-Processing"
   ]
  },
  {
   "cell_type": "markdown",
   "metadata": {},
   "source": [
    "## Sin transformation for date"
   ]
  },
  {
   "cell_type": "code",
   "execution_count": 871,
   "metadata": {},
   "outputs": [],
   "source": [
    "# df['date'] = pd.to_datetime(df['date'])"
   ]
  },
  {
   "cell_type": "code",
   "execution_count": 872,
   "metadata": {},
   "outputs": [],
   "source": [
    "# print('max:', max(df['date']))\n",
    "# print('min:', min(df['date']))"
   ]
  },
  {
   "cell_type": "code",
   "execution_count": 873,
   "metadata": {},
   "outputs": [],
   "source": [
    "# date_format = \"%Y-%m-%d\"\n",
    "# start = datetime.strptime('2017-05-05', date_format)"
   ]
  },
  {
   "cell_type": "code",
   "execution_count": 874,
   "metadata": {},
   "outputs": [],
   "source": [
    "# df.shape"
   ]
  },
  {
   "cell_type": "code",
   "execution_count": 875,
   "metadata": {
    "scrolled": true
   },
   "outputs": [],
   "source": [
    "# # Sin transformation\n",
    "# df['days_from_5May'] = np.sin(((df['date'] - start).dt.days) / 365 * 360)"
   ]
  },
  {
   "cell_type": "code",
   "execution_count": 876,
   "metadata": {},
   "outputs": [],
   "source": [
    "# num_list.append('days_from_5May')"
   ]
  },
  {
   "cell_type": "code",
   "execution_count": 877,
   "metadata": {},
   "outputs": [],
   "source": [
    "# print(num_list)\n",
    "# print(cat_list)"
   ]
  },
  {
   "cell_type": "markdown",
   "metadata": {},
   "source": [
    "## Standardize Numerical Variables"
   ]
  },
  {
   "cell_type": "code",
   "execution_count": 879,
   "metadata": {},
   "outputs": [
    {
     "name": "stderr",
     "output_type": "stream",
     "text": [
      "C:\\ProgramData\\Anaconda3\\lib\\site-packages\\sklearn\\preprocessing\\data.py:334: DataConversionWarning: Data with input dtype int64, float64 were all converted to float64 by MinMaxScaler.\n",
      "  return self.partial_fit(X, y)\n"
     ]
    }
   ],
   "source": [
    "# Load libraries\n",
    "from sklearn.preprocessing import StandardScaler, MinMaxScaler\n",
    "\n",
    "# Scaling Numerical Columns\n",
    "# Standardize features: Z-index\n",
    "scaler = MinMaxScaler()\n",
    "num_std = scaler.fit_transform(df[num_list])\n",
    "num_std = pd.DataFrame(num_std, columns = num_list)"
   ]
  },
  {
   "cell_type": "code",
   "execution_count": 880,
   "metadata": {
    "scrolled": true
   },
   "outputs": [
    {
     "data": {
      "text/plain": [
       "index                          0\n",
       "accommodates                   0\n",
       "amenities                      0\n",
       "availability_30                0\n",
       "bathrooms                      0\n",
       "bed_type                       0\n",
       "bedrooms                       0\n",
       "beds                           0\n",
       "cancellation_policy            0\n",
       "city                           0\n",
       "host_id                        0\n",
       "instant_bookable               0\n",
       "latitude                       0\n",
       "longitude                      0\n",
       "metropolitan                   0\n",
       "name                           0\n",
       "price                          0\n",
       "property_type                  0\n",
       "review_scores_checkin          0\n",
       "review_scores_cleanliness      0\n",
       "review_scores_communication    0\n",
       "review_scores_location         0\n",
       "review_scores_rating           0\n",
       "review_scores_value            0\n",
       "room_type                      0\n",
       "state                          0\n",
       "weekly_price                   0\n",
       "zipcode                        0\n",
       "no_months                      0\n",
       "dtype: int64"
      ]
     },
     "execution_count": 880,
     "metadata": {},
     "output_type": "execute_result"
    }
   ],
   "source": [
    "df.isnull().sum()"
   ]
  },
  {
   "cell_type": "code",
   "execution_count": 881,
   "metadata": {},
   "outputs": [],
   "source": [
    "# #Merging scaled numerical data with catergorical data\n",
    "df_old = df.copy()\n",
    "df = df.drop(columns = num_list)\n",
    "df = df.merge(num_std, left_index=True, right_index=True, how='left')"
   ]
  },
  {
   "cell_type": "markdown",
   "metadata": {},
   "source": [
    "## Changing Binary Variables to 0 & 1"
   ]
  },
  {
   "cell_type": "code",
   "execution_count": 882,
   "metadata": {},
   "outputs": [],
   "source": [
    "# dropping incomplete rows\n",
    "for name in cat_list:\n",
    "    df = df[df['name'].notna()]"
   ]
  },
  {
   "cell_type": "code",
   "execution_count": 883,
   "metadata": {},
   "outputs": [
    {
     "data": {
      "text/plain": [
       "(31673, 29)"
      ]
     },
     "execution_count": 883,
     "metadata": {},
     "output_type": "execute_result"
    }
   ],
   "source": [
    "df.shape"
   ]
  },
  {
   "cell_type": "code",
   "execution_count": 884,
   "metadata": {},
   "outputs": [
    {
     "name": "stdout",
     "output_type": "stream",
     "text": [
      "bed_type\n",
      "['Real Bed' 'Airbed' 'Pull-out Sofa' 'Futon' 'Couch']\n",
      "\n",
      "cancellation_policy\n",
      "['strict' 'moderate' 'flexible' 'no_refunds']\n",
      "\n",
      "instant_bookable\n",
      "['f' 't']\n",
      "\n",
      "room_type\n",
      "['Private room' 'Entire home/apt' 'Shared room']\n",
      "\n",
      "property_type\n",
      "['Apartment' 'Other' 'Condominium' 'Bed & Breakfast' 'House' 'Townhouse'\n",
      " 'Loft' 'Villa' 'Boat' 'Guesthouse' 'Dorm' 'In-law' 'Castle' 'Bungalow']\n",
      "\n",
      "city\n",
      "['new york' 'brooklyn' 'queens' 'sunnysidebronx' 'astoria'\n",
      " 'long island city' 'staten island' 'jamaica' 'east elmhurst' 'kips bay'\n",
      " 'manhattan' 'park slope' 'flushing' 'bellerose' 'woodside' 'greenpoint'\n",
      " 'corona' 'arverne' 'far rockaway' 'ridgewood' 'howard beach' 'nyc'\n",
      " 'bayside' 'jackson heights' 'bushwick' 'richmond hill' 'lic'\n",
      " 'williamsburg' 'hollis' 'ozone park' 'east williamsburg' 'chelsea'\n",
      " 'maspeth' 'kew gardens' 'saint albans']\n",
      "\n"
     ]
    }
   ],
   "source": [
    "for name in cat_list:\n",
    "    print(name)\n",
    "    print(df[name].unique())\n",
    "    print()"
   ]
  },
  {
   "cell_type": "code",
   "execution_count": 885,
   "metadata": {},
   "outputs": [
    {
     "data": {
      "text/plain": [
       "bed_type                5\n",
       "cancellation_policy     4\n",
       "instant_bookable        2\n",
       "room_type               3\n",
       "property_type          14\n",
       "city                   35\n",
       "dtype: int64"
      ]
     },
     "execution_count": 885,
     "metadata": {},
     "output_type": "execute_result"
    }
   ],
   "source": [
    "df[cat_list].nunique()"
   ]
  },
  {
   "cell_type": "code",
   "execution_count": 886,
   "metadata": {},
   "outputs": [],
   "source": [
    "#Processing Binary Catergorical Variables\n",
    "for name in ['instant_bookable']:\n",
    "    df[name] = df[name].map(lambda x: 1 if x=='t' else 0)"
   ]
  },
  {
   "cell_type": "code",
   "execution_count": 887,
   "metadata": {},
   "outputs": [
    {
     "data": {
      "text/plain": [
       "['bed_type',\n",
       " 'cancellation_policy',\n",
       " 'instant_bookable',\n",
       " 'room_type',\n",
       " 'property_type',\n",
       " 'city']"
      ]
     },
     "execution_count": 887,
     "metadata": {},
     "output_type": "execute_result"
    }
   ],
   "source": [
    "cat_list"
   ]
  },
  {
   "cell_type": "code",
   "execution_count": 888,
   "metadata": {},
   "outputs": [],
   "source": [
    "#Columns with non_binary categorical variables\n",
    "df = pd.get_dummies(data = df, columns = ['bed_type','cancellation_policy','room_type','property_type', 'city'])"
   ]
  },
  {
   "cell_type": "code",
   "execution_count": 889,
   "metadata": {
    "scrolled": true
   },
   "outputs": [
    {
     "data": {
      "text/plain": [
       "index                             int64\n",
       "amenities                        object\n",
       "availability_30                   int64\n",
       "host_id                           int64\n",
       "instant_bookable                  int64\n",
       "latitude                        float64\n",
       "longitude                       float64\n",
       "metropolitan                     object\n",
       "name                             object\n",
       "state                            object\n",
       "zipcode                          object\n",
       "accommodates                    float64\n",
       "bathrooms                       float64\n",
       "bedrooms                        float64\n",
       "beds                            float64\n",
       "price                           float64\n",
       "review_scores_checkin           float64\n",
       "review_scores_cleanliness       float64\n",
       "review_scores_communication     float64\n",
       "review_scores_location          float64\n",
       "review_scores_rating            float64\n",
       "review_scores_value             float64\n",
       "weekly_price                    float64\n",
       "no_months                       float64\n",
       "bed_type_Airbed                   uint8\n",
       "bed_type_Couch                    uint8\n",
       "bed_type_Futon                    uint8\n",
       "bed_type_Pull-out Sofa            uint8\n",
       "bed_type_Real Bed                 uint8\n",
       "cancellation_policy_flexible      uint8\n",
       "                                 ...   \n",
       "city_bushwick                     uint8\n",
       "city_chelsea                      uint8\n",
       "city_corona                       uint8\n",
       "city_east elmhurst                uint8\n",
       "city_east williamsburg            uint8\n",
       "city_far rockaway                 uint8\n",
       "city_flushing                     uint8\n",
       "city_greenpoint                   uint8\n",
       "city_hollis                       uint8\n",
       "city_howard beach                 uint8\n",
       "city_jackson heights              uint8\n",
       "city_jamaica                      uint8\n",
       "city_kew gardens                  uint8\n",
       "city_kips bay                     uint8\n",
       "city_lic                          uint8\n",
       "city_long island city             uint8\n",
       "city_manhattan                    uint8\n",
       "city_maspeth                      uint8\n",
       "city_new york                     uint8\n",
       "city_nyc                          uint8\n",
       "city_ozone park                   uint8\n",
       "city_park slope                   uint8\n",
       "city_queens                       uint8\n",
       "city_richmond hill                uint8\n",
       "city_ridgewood                    uint8\n",
       "city_saint albans                 uint8\n",
       "city_staten island                uint8\n",
       "city_sunnysidebronx               uint8\n",
       "city_williamsburg                 uint8\n",
       "city_woodside                     uint8\n",
       "Length: 85, dtype: object"
      ]
     },
     "execution_count": 889,
     "metadata": {},
     "output_type": "execute_result"
    }
   ],
   "source": [
    "df.dtypes"
   ]
  },
  {
   "cell_type": "code",
   "execution_count": 890,
   "metadata": {},
   "outputs": [
    {
     "data": {
      "text/html": [
       "<div>\n",
       "<style scoped>\n",
       "    .dataframe tbody tr th:only-of-type {\n",
       "        vertical-align: middle;\n",
       "    }\n",
       "\n",
       "    .dataframe tbody tr th {\n",
       "        vertical-align: top;\n",
       "    }\n",
       "\n",
       "    .dataframe thead th {\n",
       "        text-align: right;\n",
       "    }\n",
       "</style>\n",
       "<table border=\"1\" class=\"dataframe\">\n",
       "  <thead>\n",
       "    <tr style=\"text-align: right;\">\n",
       "      <th></th>\n",
       "      <th>index</th>\n",
       "      <th>availability_30</th>\n",
       "      <th>host_id</th>\n",
       "      <th>instant_bookable</th>\n",
       "      <th>latitude</th>\n",
       "      <th>longitude</th>\n",
       "      <th>accommodates</th>\n",
       "      <th>bathrooms</th>\n",
       "      <th>bedrooms</th>\n",
       "      <th>beds</th>\n",
       "      <th>...</th>\n",
       "      <th>city_ozone park</th>\n",
       "      <th>city_park slope</th>\n",
       "      <th>city_queens</th>\n",
       "      <th>city_richmond hill</th>\n",
       "      <th>city_ridgewood</th>\n",
       "      <th>city_saint albans</th>\n",
       "      <th>city_staten island</th>\n",
       "      <th>city_sunnysidebronx</th>\n",
       "      <th>city_williamsburg</th>\n",
       "      <th>city_woodside</th>\n",
       "    </tr>\n",
       "  </thead>\n",
       "  <tbody>\n",
       "    <tr>\n",
       "      <th>count</th>\n",
       "      <td>3.167300e+04</td>\n",
       "      <td>31673.000000</td>\n",
       "      <td>3.167300e+04</td>\n",
       "      <td>31673.000000</td>\n",
       "      <td>31673.000000</td>\n",
       "      <td>31673.000000</td>\n",
       "      <td>31673.000000</td>\n",
       "      <td>31673.000000</td>\n",
       "      <td>31673.000000</td>\n",
       "      <td>31673.000000</td>\n",
       "      <td>...</td>\n",
       "      <td>31673.000000</td>\n",
       "      <td>31673.000000</td>\n",
       "      <td>31673.000000</td>\n",
       "      <td>31673.000000</td>\n",
       "      <td>31673.000000</td>\n",
       "      <td>31673.000000</td>\n",
       "      <td>31673.000000</td>\n",
       "      <td>31673.000000</td>\n",
       "      <td>31673.000000</td>\n",
       "      <td>31673.000000</td>\n",
       "    </tr>\n",
       "    <tr>\n",
       "      <th>mean</th>\n",
       "      <td>4.097802e+06</td>\n",
       "      <td>12.228018</td>\n",
       "      <td>1.321393e+07</td>\n",
       "      <td>0.138793</td>\n",
       "      <td>40.725918</td>\n",
       "      <td>-73.950060</td>\n",
       "      <td>0.117530</td>\n",
       "      <td>0.203592</td>\n",
       "      <td>0.145637</td>\n",
       "      <td>0.036361</td>\n",
       "      <td>...</td>\n",
       "      <td>0.000347</td>\n",
       "      <td>0.000347</td>\n",
       "      <td>0.068292</td>\n",
       "      <td>0.000347</td>\n",
       "      <td>0.001137</td>\n",
       "      <td>0.000347</td>\n",
       "      <td>0.009282</td>\n",
       "      <td>0.024279</td>\n",
       "      <td>0.000474</td>\n",
       "      <td>0.001421</td>\n",
       "    </tr>\n",
       "    <tr>\n",
       "      <th>std</th>\n",
       "      <td>3.180526e+06</td>\n",
       "      <td>11.052758</td>\n",
       "      <td>1.437743e+07</td>\n",
       "      <td>0.345736</td>\n",
       "      <td>0.058922</td>\n",
       "      <td>0.046207</td>\n",
       "      <td>0.117379</td>\n",
       "      <td>0.066828</td>\n",
       "      <td>0.080501</td>\n",
       "      <td>0.071025</td>\n",
       "      <td>...</td>\n",
       "      <td>0.018633</td>\n",
       "      <td>0.018633</td>\n",
       "      <td>0.252250</td>\n",
       "      <td>0.018633</td>\n",
       "      <td>0.033695</td>\n",
       "      <td>0.018633</td>\n",
       "      <td>0.095898</td>\n",
       "      <td>0.153918</td>\n",
       "      <td>0.021757</td>\n",
       "      <td>0.037667</td>\n",
       "    </tr>\n",
       "    <tr>\n",
       "      <th>min</th>\n",
       "      <td>2.515000e+03</td>\n",
       "      <td>0.000000</td>\n",
       "      <td>2.758000e+03</td>\n",
       "      <td>0.000000</td>\n",
       "      <td>40.550734</td>\n",
       "      <td>-74.170675</td>\n",
       "      <td>0.000000</td>\n",
       "      <td>0.000000</td>\n",
       "      <td>0.000000</td>\n",
       "      <td>0.000000</td>\n",
       "      <td>...</td>\n",
       "      <td>0.000000</td>\n",
       "      <td>0.000000</td>\n",
       "      <td>0.000000</td>\n",
       "      <td>0.000000</td>\n",
       "      <td>0.000000</td>\n",
       "      <td>0.000000</td>\n",
       "      <td>0.000000</td>\n",
       "      <td>0.000000</td>\n",
       "      <td>0.000000</td>\n",
       "      <td>0.000000</td>\n",
       "    </tr>\n",
       "    <tr>\n",
       "      <th>25%</th>\n",
       "      <td>1.138455e+06</td>\n",
       "      <td>2.000000</td>\n",
       "      <td>2.305477e+06</td>\n",
       "      <td>0.000000</td>\n",
       "      <td>40.684386</td>\n",
       "      <td>-73.979364</td>\n",
       "      <td>0.066667</td>\n",
       "      <td>0.181818</td>\n",
       "      <td>0.125000</td>\n",
       "      <td>0.000000</td>\n",
       "      <td>...</td>\n",
       "      <td>0.000000</td>\n",
       "      <td>0.000000</td>\n",
       "      <td>0.000000</td>\n",
       "      <td>0.000000</td>\n",
       "      <td>0.000000</td>\n",
       "      <td>0.000000</td>\n",
       "      <td>0.000000</td>\n",
       "      <td>0.000000</td>\n",
       "      <td>0.000000</td>\n",
       "      <td>0.000000</td>\n",
       "    </tr>\n",
       "    <tr>\n",
       "      <th>50%</th>\n",
       "      <td>3.868344e+06</td>\n",
       "      <td>9.000000</td>\n",
       "      <td>7.154617e+06</td>\n",
       "      <td>0.000000</td>\n",
       "      <td>40.715796</td>\n",
       "      <td>-73.952451</td>\n",
       "      <td>0.066667</td>\n",
       "      <td>0.181818</td>\n",
       "      <td>0.125000</td>\n",
       "      <td>0.000000</td>\n",
       "      <td>...</td>\n",
       "      <td>0.000000</td>\n",
       "      <td>0.000000</td>\n",
       "      <td>0.000000</td>\n",
       "      <td>0.000000</td>\n",
       "      <td>0.000000</td>\n",
       "      <td>0.000000</td>\n",
       "      <td>0.000000</td>\n",
       "      <td>0.000000</td>\n",
       "      <td>0.000000</td>\n",
       "      <td>0.000000</td>\n",
       "    </tr>\n",
       "    <tr>\n",
       "      <th>75%</th>\n",
       "      <td>6.480685e+06</td>\n",
       "      <td>23.000000</td>\n",
       "      <td>2.122837e+07</td>\n",
       "      <td>0.000000</td>\n",
       "      <td>40.763709</td>\n",
       "      <td>-73.935038</td>\n",
       "      <td>0.133333</td>\n",
       "      <td>0.181818</td>\n",
       "      <td>0.125000</td>\n",
       "      <td>0.066667</td>\n",
       "      <td>...</td>\n",
       "      <td>0.000000</td>\n",
       "      <td>0.000000</td>\n",
       "      <td>0.000000</td>\n",
       "      <td>0.000000</td>\n",
       "      <td>0.000000</td>\n",
       "      <td>0.000000</td>\n",
       "      <td>0.000000</td>\n",
       "      <td>0.000000</td>\n",
       "      <td>0.000000</td>\n",
       "      <td>0.000000</td>\n",
       "    </tr>\n",
       "    <tr>\n",
       "      <th>max</th>\n",
       "      <td>1.654028e+07</td>\n",
       "      <td>30.000000</td>\n",
       "      <td>9.605363e+07</td>\n",
       "      <td>1.000000</td>\n",
       "      <td>40.897475</td>\n",
       "      <td>-73.723488</td>\n",
       "      <td>1.000000</td>\n",
       "      <td>1.000000</td>\n",
       "      <td>1.000000</td>\n",
       "      <td>1.000000</td>\n",
       "      <td>...</td>\n",
       "      <td>1.000000</td>\n",
       "      <td>1.000000</td>\n",
       "      <td>1.000000</td>\n",
       "      <td>1.000000</td>\n",
       "      <td>1.000000</td>\n",
       "      <td>1.000000</td>\n",
       "      <td>1.000000</td>\n",
       "      <td>1.000000</td>\n",
       "      <td>1.000000</td>\n",
       "      <td>1.000000</td>\n",
       "    </tr>\n",
       "  </tbody>\n",
       "</table>\n",
       "<p>8 rows × 80 columns</p>\n",
       "</div>"
      ],
      "text/plain": [
       "              index  availability_30       host_id  instant_bookable  \\\n",
       "count  3.167300e+04     31673.000000  3.167300e+04      31673.000000   \n",
       "mean   4.097802e+06        12.228018  1.321393e+07          0.138793   \n",
       "std    3.180526e+06        11.052758  1.437743e+07          0.345736   \n",
       "min    2.515000e+03         0.000000  2.758000e+03          0.000000   \n",
       "25%    1.138455e+06         2.000000  2.305477e+06          0.000000   \n",
       "50%    3.868344e+06         9.000000  7.154617e+06          0.000000   \n",
       "75%    6.480685e+06        23.000000  2.122837e+07          0.000000   \n",
       "max    1.654028e+07        30.000000  9.605363e+07          1.000000   \n",
       "\n",
       "           latitude     longitude  accommodates     bathrooms      bedrooms  \\\n",
       "count  31673.000000  31673.000000  31673.000000  31673.000000  31673.000000   \n",
       "mean      40.725918    -73.950060      0.117530      0.203592      0.145637   \n",
       "std        0.058922      0.046207      0.117379      0.066828      0.080501   \n",
       "min       40.550734    -74.170675      0.000000      0.000000      0.000000   \n",
       "25%       40.684386    -73.979364      0.066667      0.181818      0.125000   \n",
       "50%       40.715796    -73.952451      0.066667      0.181818      0.125000   \n",
       "75%       40.763709    -73.935038      0.133333      0.181818      0.125000   \n",
       "max       40.897475    -73.723488      1.000000      1.000000      1.000000   \n",
       "\n",
       "               beds  ...  city_ozone park  city_park slope   city_queens  \\\n",
       "count  31673.000000  ...     31673.000000     31673.000000  31673.000000   \n",
       "mean       0.036361  ...         0.000347         0.000347      0.068292   \n",
       "std        0.071025  ...         0.018633         0.018633      0.252250   \n",
       "min        0.000000  ...         0.000000         0.000000      0.000000   \n",
       "25%        0.000000  ...         0.000000         0.000000      0.000000   \n",
       "50%        0.000000  ...         0.000000         0.000000      0.000000   \n",
       "75%        0.066667  ...         0.000000         0.000000      0.000000   \n",
       "max        1.000000  ...         1.000000         1.000000      1.000000   \n",
       "\n",
       "       city_richmond hill  city_ridgewood  city_saint albans  \\\n",
       "count        31673.000000    31673.000000       31673.000000   \n",
       "mean             0.000347        0.001137           0.000347   \n",
       "std              0.018633        0.033695           0.018633   \n",
       "min              0.000000        0.000000           0.000000   \n",
       "25%              0.000000        0.000000           0.000000   \n",
       "50%              0.000000        0.000000           0.000000   \n",
       "75%              0.000000        0.000000           0.000000   \n",
       "max              1.000000        1.000000           1.000000   \n",
       "\n",
       "       city_staten island  city_sunnysidebronx  city_williamsburg  \\\n",
       "count        31673.000000         31673.000000       31673.000000   \n",
       "mean             0.009282             0.024279           0.000474   \n",
       "std              0.095898             0.153918           0.021757   \n",
       "min              0.000000             0.000000           0.000000   \n",
       "25%              0.000000             0.000000           0.000000   \n",
       "50%              0.000000             0.000000           0.000000   \n",
       "75%              0.000000             0.000000           0.000000   \n",
       "max              1.000000             1.000000           1.000000   \n",
       "\n",
       "       city_woodside  \n",
       "count   31673.000000  \n",
       "mean        0.001421  \n",
       "std         0.037667  \n",
       "min         0.000000  \n",
       "25%         0.000000  \n",
       "50%         0.000000  \n",
       "75%         0.000000  \n",
       "max         1.000000  \n",
       "\n",
       "[8 rows x 80 columns]"
      ]
     },
     "execution_count": 890,
     "metadata": {},
     "output_type": "execute_result"
    }
   ],
   "source": [
    "df.describe()"
   ]
  },
  {
   "cell_type": "code",
   "execution_count": 891,
   "metadata": {},
   "outputs": [],
   "source": [
    "features_list = df.columns.tolist()"
   ]
  },
  {
   "cell_type": "code",
   "execution_count": 897,
   "metadata": {},
   "outputs": [],
   "source": [
    "for x in (id_list + target_list + flag_list):\n",
    "    if x in features_list:\n",
    "        features_list.remove(x)\n",
    "features_list.remove('index')"
   ]
  },
  {
   "cell_type": "code",
   "execution_count": 898,
   "metadata": {},
   "outputs": [
    {
     "data": {
      "text/plain": [
       "74"
      ]
     },
     "execution_count": 898,
     "metadata": {},
     "output_type": "execute_result"
    }
   ],
   "source": [
    "len(features_list)"
   ]
  },
  {
   "cell_type": "code",
   "execution_count": 899,
   "metadata": {},
   "outputs": [],
   "source": [
    "for name in features_list:\n",
    "    if max(df[name] == 0):\n",
    "        df.drop(columns = name)\n",
    "        features_list.remove(name)"
   ]
  },
  {
   "cell_type": "code",
   "execution_count": 900,
   "metadata": {},
   "outputs": [
    {
     "data": {
      "text/plain": [
       "37"
      ]
     },
     "execution_count": 900,
     "metadata": {},
     "output_type": "execute_result"
    }
   ],
   "source": [
    "len(features_list)"
   ]
  },
  {
   "cell_type": "code",
   "execution_count": 901,
   "metadata": {
    "scrolled": true
   },
   "outputs": [
    {
     "name": "stdout",
     "output_type": "stream",
     "text": [
      "['accommodates', 'bedrooms', 'price', 'review_scores_cleanliness', 'review_scores_location', 'review_scores_value', 'bed_type_Airbed', 'bed_type_Futon', 'bed_type_Real Bed', 'cancellation_policy_moderate', 'cancellation_policy_strict', 'room_type_Private room', 'property_type_Apartment', 'property_type_Boat', 'property_type_Castle', 'property_type_Dorm', 'property_type_House', 'property_type_Loft', 'property_type_Townhouse', 'city_arverne', 'city_bayside', 'city_brooklyn', 'city_chelsea', 'city_east elmhurst', 'city_far rockaway', 'city_greenpoint', 'city_howard beach', 'city_jamaica', 'city_kips bay', 'city_long island city', 'city_maspeth', 'city_nyc', 'city_park slope', 'city_richmond hill', 'city_saint albans', 'city_sunnysidebronx', 'city_woodside']\n"
     ]
    }
   ],
   "source": [
    "print(features_list)"
   ]
  },
  {
   "cell_type": "code",
   "execution_count": 902,
   "metadata": {},
   "outputs": [
    {
     "data": {
      "text/plain": [
       "<Figure size 720x720 with 0 Axes>"
      ]
     },
     "metadata": {},
     "output_type": "display_data"
    }
   ],
   "source": [
    "plt.figure(figsize=(10,10))\n",
    "cor = df[features_list].corr()"
   ]
  },
  {
   "cell_type": "code",
   "execution_count": 903,
   "metadata": {},
   "outputs": [
    {
     "data": {
      "image/png": "[encoded data removed]",
      "text/plain": [
       "<Figure size 432x288 with 2 Axes>"
      ]
     },
     "metadata": {
      "needs_background": "light"
     },
     "output_type": "display_data"
    }
   ],
   "source": [
    "sns.heatmap(cor, square = True, xticklabels=True, yticklabels=True)\n",
    "plt.show()"
   ]
  },
  {
   "cell_type": "code",
   "execution_count": 904,
   "metadata": {},
   "outputs": [],
   "source": [
    "# Checking for high correlation coefficients > 0.75\n",
    "for i in cor.keys():\n",
    "    for j in cor.keys():\n",
    "        if cor[i][j] > 0.75 and cor[i][j] <1 and i < j:\n",
    "            print (cor[i][j], '=','cor('+i,',',j+')')"
   ]
  },
  {
   "cell_type": "markdown",
   "metadata": {},
   "source": [
    "# Modelling"
   ]
  },
  {
   "cell_type": "code",
   "execution_count": 907,
   "metadata": {},
   "outputs": [],
   "source": [
    "from sklearn import datasets\n",
    "from sklearn.model_selection import train_test_split\n",
    "from sklearn.linear_model import LogisticRegression\n",
    "from sklearn.model_selection import KFold, cross_val_score\n",
    "from sklearn.tree import DecisionTreeClassifier\n",
    "from sklearn import tree\n",
    "from sklearn.metrics import accuracy_score, f1_score, precision_score, recall_score, classification_report, confusion_matrix\n",
    "from sklearn.metrics import roc_curve, auc"
   ]
  },
  {
   "cell_type": "code",
   "execution_count": 908,
   "metadata": {},
   "outputs": [],
   "source": [
    "# Create a 5-fold cross validation\n",
    "kf = KFold(n_splits = 5, shuffle=True, random_state = 12345)"
   ]
  },
  {
   "cell_type": "code",
   "execution_count": 909,
   "metadata": {},
   "outputs": [],
   "source": [
    "# For saving cross validation accuracy and confusion matrices for the different models\n",
    "cv = {}\n",
    "cm = {}\n",
    "cma = {}\n",
    "coeffs = {}\n",
    "fpr = {}\n",
    "tpr = {}\n",
    "roc_auc = {}"
   ]
  },
  {
   "cell_type": "code",
   "execution_count": 910,
   "metadata": {},
   "outputs": [],
   "source": [
    "def prediction(model, model_name, feature_weights):\n",
    "    print('##### Model',model_name,'#####')\n",
    "\n",
    "    # Cross Validation\n",
    "    cv[model_name] = cross_val_score(model, # Cross-validation on model\n",
    "                             X, # Feature matrix\n",
    "                             y, # Output vector\n",
    "                             cv=kf, # Cross-validation technique\n",
    "                             scoring='accuracy' # Model performance metrics: accuracy\n",
    "                            )\n",
    "    print('Report Average Cross-Validation Accuracy of',model_name+':')\n",
    "    print(np.mean(cv[model_name])*100, '%')\n",
    "\n",
    "    # Fit the model on train data\n",
    "    model.fit(X=X_train, y=y_train)\n",
    "\n",
    "    # Predict outputs for test data\n",
    "    y_pred = model.predict(X_test)\n",
    "\n",
    "    # Create confusion matrix\n",
    "    cm[model_name] = confusion_matrix(y_test, y_pred)\n",
    "    print('\\nConfusion Matrix of',model_name)\n",
    "    print(cm[model_name])\n",
    "    cma[model_name] = accuracy_score(y_test, y_pred)\n",
    "    print(\"Confusion Matrix Prediction Accuracy: \", cma[model_name]*100,'%')\n",
    "\n",
    "    # ROC and AUC\n",
    "    # Get predicted scores Pr(y=1): Used as thresholds for calculating TP Rate and FP Rate\n",
    "    # model.classes_\n",
    "    score = model.predict_proba(X_test)[:, 1]\n",
    "\n",
    "    # Plot ROC Curve\n",
    "    fpr[model_name], tpr[model_name], thresholds = roc_curve(y_test, score) # fpr: FP Rate, tpr: TP Rate, thresholds: Pr(y=1)\n",
    "    roc_auc[model_name] = auc(fpr[model_name], tpr[model_name])\n",
    "\n",
    "    plt.plot(fpr[model_name], tpr[model_name], label='AUC =coeff %0.2f'% roc_auc[model_name])\n",
    "    plt.legend(loc='lower right')\n",
    "    plt.plot([0,1],[0,1],'r--')\n",
    "    plt.xlim([-0.1,1.1])\n",
    "    plt.ylim([-0.1,1.1])\n",
    "    plt.title('Receiver operating characteristic')\n",
    "    plt.ylabel('True Positive Rate')\n",
    "    plt.xlabel('False Positive Rate')\n",
    "    plt.show()\n",
    "\n",
    "    # Get feature weights\n",
    "    if feature_weights:\n",
    "        if feature_weights == \"coeff\":\n",
    "            weights = pd.DataFrame(model.coef_[0])\n",
    "        elif feature_weights == \"features\":\n",
    "            weights = pd.DataFrame(model.feature_importances_)\n",
    "        # Bagging method makes use of many decision trees\n",
    "        elif feature_weights == \"bagging\":\n",
    "            weights = np.mean([tree.feature_importances_ for tree in model.estimators_], axis = 0)\n",
    "            weights = pd.DataFrame(weights)\n",
    "\n",
    "        coeffs[model_name] = pd.merge(pd.DataFrame(model_features),weights, left_index=True, right_index=True, how='left')\n",
    "        coeffs[model_name].columns = ['Feature', 'Weights']\n",
    "        coeffs[model_name] = coeffs[model_name].sort_values(by = 'Weights')\n",
    "\n",
    "        plt.barh(coeffs[model_name]['Feature'], coeffs[model_name]['Weights'])\n",
    "        plt.title('Feature Weights')\n",
    "        plt.show()\n",
    "\n",
    "        coeffs[model_name] = coeffs[model_name].sort_values(by = 'Weights', ascending=False)\n",
    "        print(coeffs[model_name])"
   ]
  },
  {
   "cell_type": "code",
   "execution_count": 911,
   "metadata": {},
   "outputs": [],
   "source": [
    "def set_train_test(df, features_list, target_list):\n",
    "    global X, y, X_train, X_test, y_train, y_test\n",
    "    \n",
    "    X = df[features_list]\n",
    "    y = df[target_list[0]]\n",
    "\n",
    "    # Do train-test split: 70% train and 30% test\n",
    "    X_train, X_test, y_train, y_test = train_test_split(X, y, test_size=0.3, random_state=0)"
   ]
  },
  {
   "cell_type": "code",
   "execution_count": 912,
   "metadata": {},
   "outputs": [],
   "source": [
    "set_train_test(df, features_list, target_list)"
   ]
  },
  {
   "cell_type": "markdown",
   "metadata": {},
   "source": [
    "## Baseline Model: Logistic Regression"
   ]
  },
  {
   "cell_type": "code",
   "execution_count": 913,
   "metadata": {},
   "outputs": [],
   "source": [
    "set_train_test(df, features_list, target_list)"
   ]
  },
  {
   "cell_type": "code",
   "execution_count": 914,
   "metadata": {},
   "outputs": [],
   "source": [
    "# Logistic regression using L1-regularization\n",
    "lr1 = LogisticRegression(fit_intercept=True, max_iter=1000, tol=2e-9, penalty='l1', C=100, random_state=0)\n",
    "\n",
    "# Logistic regression using L2-regularization\n",
    "lr2 = LogisticRegression(fit_intercept=True, max_iter=1000, tol=2e-9, penalty='l2', C=100, random_state=0)\n",
    "\n",
    "model_features = features_list"
   ]
  },
  {
   "cell_type": "code",
   "execution_count": 915,
   "metadata": {},
   "outputs": [
    {
     "name": "stdout",
     "output_type": "stream",
     "text": [
      "##### Model L1 Logistic Regression #####\n"
     ]
    },
    {
     "name": "stderr",
     "output_type": "stream",
     "text": [
      "C:\\ProgramData\\Anaconda3\\lib\\site-packages\\sklearn\\linear_model\\logistic.py:433: FutureWarning: Default solver will be changed to 'lbfgs' in 0.22. Specify a solver to silence this warning.\n",
      "  FutureWarning)\n",
      "C:\\ProgramData\\Anaconda3\\lib\\site-packages\\sklearn\\model_selection\\_validation.py:542: FutureWarning: From version 0.22, errors during fit will result in a cross validation score of NaN by default. Use error_score='raise' if you want an exception raised or error_score=np.nan to adopt the behavior from version 0.22.\n",
      "  FutureWarning)\n"
     ]
    },
    {
     "ename": "ValueError",
     "evalue": "Unknown label type: 'continuous'",
     "output_type": "error",
     "traceback": [
      "\u001b[1;31m---------------------------------------------------------------------------\u001b[0m",
      "\u001b[1;31mValueError\u001b[0m                                Traceback (most recent call last)",
      "\u001b[1;32m<ipython-input-915-2a61afb1f320>\u001b[0m in \u001b[0;36m<module>\u001b[1;34m\u001b[0m\n\u001b[1;32m----> 1\u001b[1;33m \u001b[0mprediction\u001b[0m\u001b[1;33m(\u001b[0m\u001b[0mlr1\u001b[0m\u001b[1;33m,\u001b[0m \u001b[1;34m'L1 Logistic Regression'\u001b[0m\u001b[1;33m,\u001b[0m \u001b[1;34m'coeff'\u001b[0m\u001b[1;33m)\u001b[0m\u001b[1;33m\u001b[0m\u001b[1;33m\u001b[0m\u001b[0m\n\u001b[0m",
      "\u001b[1;32m<ipython-input-910-9a53ae3cbc4a>\u001b[0m in \u001b[0;36mprediction\u001b[1;34m(model, model_name, feature_weights)\u001b[0m\n\u001b[0;32m      7\u001b[0m                              \u001b[0my\u001b[0m\u001b[1;33m,\u001b[0m \u001b[1;31m# Output vector\u001b[0m\u001b[1;33m\u001b[0m\u001b[1;33m\u001b[0m\u001b[0m\n\u001b[0;32m      8\u001b[0m                              \u001b[0mcv\u001b[0m\u001b[1;33m=\u001b[0m\u001b[0mkf\u001b[0m\u001b[1;33m,\u001b[0m \u001b[1;31m# Cross-validation technique\u001b[0m\u001b[1;33m\u001b[0m\u001b[1;33m\u001b[0m\u001b[0m\n\u001b[1;32m----> 9\u001b[1;33m                              \u001b[0mscoring\u001b[0m\u001b[1;33m=\u001b[0m\u001b[1;34m'accuracy'\u001b[0m \u001b[1;31m# Model performance metrics: accuracy\u001b[0m\u001b[1;33m\u001b[0m\u001b[1;33m\u001b[0m\u001b[0m\n\u001b[0m\u001b[0;32m     10\u001b[0m                             )\n\u001b[0;32m     11\u001b[0m     \u001b[0mprint\u001b[0m\u001b[1;33m(\u001b[0m\u001b[1;34m'Report Average Cross-Validation Accuracy of'\u001b[0m\u001b[1;33m,\u001b[0m\u001b[0mmodel_name\u001b[0m\u001b[1;33m+\u001b[0m\u001b[1;34m':'\u001b[0m\u001b[1;33m)\u001b[0m\u001b[1;33m\u001b[0m\u001b[1;33m\u001b[0m\u001b[0m\n",
      "\u001b[1;32mC:\\ProgramData\\Anaconda3\\lib\\site-packages\\sklearn\\model_selection\\_validation.py\u001b[0m in \u001b[0;36mcross_val_score\u001b[1;34m(estimator, X, y, groups, scoring, cv, n_jobs, verbose, fit_params, pre_dispatch, error_score)\u001b[0m\n\u001b[0;32m    400\u001b[0m                                 \u001b[0mfit_params\u001b[0m\u001b[1;33m=\u001b[0m\u001b[0mfit_params\u001b[0m\u001b[1;33m,\u001b[0m\u001b[1;33m\u001b[0m\u001b[1;33m\u001b[0m\u001b[0m\n\u001b[0;32m    401\u001b[0m                                 \u001b[0mpre_dispatch\u001b[0m\u001b[1;33m=\u001b[0m\u001b[0mpre_dispatch\u001b[0m\u001b[1;33m,\u001b[0m\u001b[1;33m\u001b[0m\u001b[1;33m\u001b[0m\u001b[0m\n\u001b[1;32m--> 402\u001b[1;33m                                 error_score=error_score)\n\u001b[0m\u001b[0;32m    403\u001b[0m     \u001b[1;32mreturn\u001b[0m \u001b[0mcv_results\u001b[0m\u001b[1;33m[\u001b[0m\u001b[1;34m'test_score'\u001b[0m\u001b[1;33m]\u001b[0m\u001b[1;33m\u001b[0m\u001b[1;33m\u001b[0m\u001b[0m\n\u001b[0;32m    404\u001b[0m \u001b[1;33m\u001b[0m\u001b[0m\n",
      "\u001b[1;32mC:\\ProgramData\\Anaconda3\\lib\\site-packages\\sklearn\\model_selection\\_validation.py\u001b[0m in \u001b[0;36mcross_validate\u001b[1;34m(estimator, X, y, groups, scoring, cv, n_jobs, verbose, fit_params, pre_dispatch, return_train_score, return_estimator, error_score)\u001b[0m\n\u001b[0;32m    238\u001b[0m             \u001b[0mreturn_times\u001b[0m\u001b[1;33m=\u001b[0m\u001b[1;32mTrue\u001b[0m\u001b[1;33m,\u001b[0m \u001b[0mreturn_estimator\u001b[0m\u001b[1;33m=\u001b[0m\u001b[0mreturn_estimator\u001b[0m\u001b[1;33m,\u001b[0m\u001b[1;33m\u001b[0m\u001b[1;33m\u001b[0m\u001b[0m\n\u001b[0;32m    239\u001b[0m             error_score=error_score)\n\u001b[1;32m--> 240\u001b[1;33m         for train, test in cv.split(X, y, groups))\n\u001b[0m\u001b[0;32m    241\u001b[0m \u001b[1;33m\u001b[0m\u001b[0m\n\u001b[0;32m    242\u001b[0m     \u001b[0mzipped_scores\u001b[0m \u001b[1;33m=\u001b[0m \u001b[0mlist\u001b[0m\u001b[1;33m(\u001b[0m\u001b[0mzip\u001b[0m\u001b[1;33m(\u001b[0m\u001b[1;33m*\u001b[0m\u001b[0mscores\u001b[0m\u001b[1;33m)\u001b[0m\u001b[1;33m)\u001b[0m\u001b[1;33m\u001b[0m\u001b[1;33m\u001b[0m\u001b[0m\n",
      "\u001b[1;32mC:\\ProgramData\\Anaconda3\\lib\\site-packages\\sklearn\\externals\\joblib\\parallel.py\u001b[0m in \u001b[0;36m__call__\u001b[1;34m(self, iterable)\u001b[0m\n\u001b[0;32m    915\u001b[0m             \u001b[1;31m# remaining jobs.\u001b[0m\u001b[1;33m\u001b[0m\u001b[1;33m\u001b[0m\u001b[1;33m\u001b[0m\u001b[0m\n\u001b[0;32m    916\u001b[0m             \u001b[0mself\u001b[0m\u001b[1;33m.\u001b[0m\u001b[0m_iterating\u001b[0m \u001b[1;33m=\u001b[0m \u001b[1;32mFalse\u001b[0m\u001b[1;33m\u001b[0m\u001b[1;33m\u001b[0m\u001b[0m\n\u001b[1;32m--> 917\u001b[1;33m             \u001b[1;32mif\u001b[0m \u001b[0mself\u001b[0m\u001b[1;33m.\u001b[0m\u001b[0mdispatch_one_batch\u001b[0m\u001b[1;33m(\u001b[0m\u001b[0miterator\u001b[0m\u001b[1;33m)\u001b[0m\u001b[1;33m:\u001b[0m\u001b[1;33m\u001b[0m\u001b[1;33m\u001b[0m\u001b[0m\n\u001b[0m\u001b[0;32m    918\u001b[0m                 \u001b[0mself\u001b[0m\u001b[1;33m.\u001b[0m\u001b[0m_iterating\u001b[0m \u001b[1;33m=\u001b[0m \u001b[0mself\u001b[0m\u001b[1;33m.\u001b[0m\u001b[0m_original_iterator\u001b[0m \u001b[1;32mis\u001b[0m \u001b[1;32mnot\u001b[0m \u001b[1;32mNone\u001b[0m\u001b[1;33m\u001b[0m\u001b[1;33m\u001b[0m\u001b[0m\n\u001b[0;32m    919\u001b[0m \u001b[1;33m\u001b[0m\u001b[0m\n",
      "\u001b[1;32mC:\\ProgramData\\Anaconda3\\lib\\site-packages\\sklearn\\externals\\joblib\\parallel.py\u001b[0m in \u001b[0;36mdispatch_one_batch\u001b[1;34m(self, iterator)\u001b[0m\n\u001b[0;32m    757\u001b[0m                 \u001b[1;32mreturn\u001b[0m \u001b[1;32mFalse\u001b[0m\u001b[1;33m\u001b[0m\u001b[1;33m\u001b[0m\u001b[0m\n\u001b[0;32m    758\u001b[0m             \u001b[1;32melse\u001b[0m\u001b[1;33m:\u001b[0m\u001b[1;33m\u001b[0m\u001b[1;33m\u001b[0m\u001b[0m\n\u001b[1;32m--> 759\u001b[1;33m                 \u001b[0mself\u001b[0m\u001b[1;33m.\u001b[0m\u001b[0m_dispatch\u001b[0m\u001b[1;33m(\u001b[0m\u001b[0mtasks\u001b[0m\u001b[1;33m)\u001b[0m\u001b[1;33m\u001b[0m\u001b[1;33m\u001b[0m\u001b[0m\n\u001b[0m\u001b[0;32m    760\u001b[0m                 \u001b[1;32mreturn\u001b[0m \u001b[1;32mTrue\u001b[0m\u001b[1;33m\u001b[0m\u001b[1;33m\u001b[0m\u001b[0m\n\u001b[0;32m    761\u001b[0m \u001b[1;33m\u001b[0m\u001b[0m\n",
      "\u001b[1;32mC:\\ProgramData\\Anaconda3\\lib\\site-packages\\sklearn\\externals\\joblib\\parallel.py\u001b[0m in \u001b[0;36m_dispatch\u001b[1;34m(self, batch)\u001b[0m\n\u001b[0;32m    714\u001b[0m         \u001b[1;32mwith\u001b[0m \u001b[0mself\u001b[0m\u001b[1;33m.\u001b[0m\u001b[0m_lock\u001b[0m\u001b[1;33m:\u001b[0m\u001b[1;33m\u001b[0m\u001b[1;33m\u001b[0m\u001b[0m\n\u001b[0;32m    715\u001b[0m             \u001b[0mjob_idx\u001b[0m \u001b[1;33m=\u001b[0m \u001b[0mlen\u001b[0m\u001b[1;33m(\u001b[0m\u001b[0mself\u001b[0m\u001b[1;33m.\u001b[0m\u001b[0m_jobs\u001b[0m\u001b[1;33m)\u001b[0m\u001b[1;33m\u001b[0m\u001b[1;33m\u001b[0m\u001b[0m\n\u001b[1;32m--> 716\u001b[1;33m             \u001b[0mjob\u001b[0m \u001b[1;33m=\u001b[0m \u001b[0mself\u001b[0m\u001b[1;33m.\u001b[0m\u001b[0m_backend\u001b[0m\u001b[1;33m.\u001b[0m\u001b[0mapply_async\u001b[0m\u001b[1;33m(\u001b[0m\u001b[0mbatch\u001b[0m\u001b[1;33m,\u001b[0m \u001b[0mcallback\u001b[0m\u001b[1;33m=\u001b[0m\u001b[0mcb\u001b[0m\u001b[1;33m)\u001b[0m\u001b[1;33m\u001b[0m\u001b[1;33m\u001b[0m\u001b[0m\n\u001b[0m\u001b[0;32m    717\u001b[0m             \u001b[1;31m# A job can complete so quickly than its callback is\u001b[0m\u001b[1;33m\u001b[0m\u001b[1;33m\u001b[0m\u001b[1;33m\u001b[0m\u001b[0m\n\u001b[0;32m    718\u001b[0m             \u001b[1;31m# called before we get here, causing self._jobs to\u001b[0m\u001b[1;33m\u001b[0m\u001b[1;33m\u001b[0m\u001b[1;33m\u001b[0m\u001b[0m\n",
      "\u001b[1;32mC:\\ProgramData\\Anaconda3\\lib\\site-packages\\sklearn\\externals\\joblib\\_parallel_backends.py\u001b[0m in \u001b[0;36mapply_async\u001b[1;34m(self, func, callback)\u001b[0m\n\u001b[0;32m    180\u001b[0m     \u001b[1;32mdef\u001b[0m \u001b[0mapply_async\u001b[0m\u001b[1;33m(\u001b[0m\u001b[0mself\u001b[0m\u001b[1;33m,\u001b[0m \u001b[0mfunc\u001b[0m\u001b[1;33m,\u001b[0m \u001b[0mcallback\u001b[0m\u001b[1;33m=\u001b[0m\u001b[1;32mNone\u001b[0m\u001b[1;33m)\u001b[0m\u001b[1;33m:\u001b[0m\u001b[1;33m\u001b[0m\u001b[1;33m\u001b[0m\u001b[0m\n\u001b[0;32m    181\u001b[0m         \u001b[1;34m\"\"\"Schedule a func to be run\"\"\"\u001b[0m\u001b[1;33m\u001b[0m\u001b[1;33m\u001b[0m\u001b[0m\n\u001b[1;32m--> 182\u001b[1;33m         \u001b[0mresult\u001b[0m \u001b[1;33m=\u001b[0m \u001b[0mImmediateResult\u001b[0m\u001b[1;33m(\u001b[0m\u001b[0mfunc\u001b[0m\u001b[1;33m)\u001b[0m\u001b[1;33m\u001b[0m\u001b[1;33m\u001b[0m\u001b[0m\n\u001b[0m\u001b[0;32m    183\u001b[0m         \u001b[1;32mif\u001b[0m \u001b[0mcallback\u001b[0m\u001b[1;33m:\u001b[0m\u001b[1;33m\u001b[0m\u001b[1;33m\u001b[0m\u001b[0m\n\u001b[0;32m    184\u001b[0m             \u001b[0mcallback\u001b[0m\u001b[1;33m(\u001b[0m\u001b[0mresult\u001b[0m\u001b[1;33m)\u001b[0m\u001b[1;33m\u001b[0m\u001b[1;33m\u001b[0m\u001b[0m\n",
      "\u001b[1;32mC:\\ProgramData\\Anaconda3\\lib\\site-packages\\sklearn\\externals\\joblib\\_parallel_backends.py\u001b[0m in \u001b[0;36m__init__\u001b[1;34m(self, batch)\u001b[0m\n\u001b[0;32m    547\u001b[0m         \u001b[1;31m# Don't delay the application, to avoid keeping the input\u001b[0m\u001b[1;33m\u001b[0m\u001b[1;33m\u001b[0m\u001b[1;33m\u001b[0m\u001b[0m\n\u001b[0;32m    548\u001b[0m         \u001b[1;31m# arguments in memory\u001b[0m\u001b[1;33m\u001b[0m\u001b[1;33m\u001b[0m\u001b[1;33m\u001b[0m\u001b[0m\n\u001b[1;32m--> 549\u001b[1;33m         \u001b[0mself\u001b[0m\u001b[1;33m.\u001b[0m\u001b[0mresults\u001b[0m \u001b[1;33m=\u001b[0m \u001b[0mbatch\u001b[0m\u001b[1;33m(\u001b[0m\u001b[1;33m)\u001b[0m\u001b[1;33m\u001b[0m\u001b[1;33m\u001b[0m\u001b[0m\n\u001b[0m\u001b[0;32m    550\u001b[0m \u001b[1;33m\u001b[0m\u001b[0m\n\u001b[0;32m    551\u001b[0m     \u001b[1;32mdef\u001b[0m \u001b[0mget\u001b[0m\u001b[1;33m(\u001b[0m\u001b[0mself\u001b[0m\u001b[1;33m)\u001b[0m\u001b[1;33m:\u001b[0m\u001b[1;33m\u001b[0m\u001b[1;33m\u001b[0m\u001b[0m\n",
      "\u001b[1;32mC:\\ProgramData\\Anaconda3\\lib\\site-packages\\sklearn\\externals\\joblib\\parallel.py\u001b[0m in \u001b[0;36m__call__\u001b[1;34m(self)\u001b[0m\n\u001b[0;32m    223\u001b[0m         \u001b[1;32mwith\u001b[0m \u001b[0mparallel_backend\u001b[0m\u001b[1;33m(\u001b[0m\u001b[0mself\u001b[0m\u001b[1;33m.\u001b[0m\u001b[0m_backend\u001b[0m\u001b[1;33m,\u001b[0m \u001b[0mn_jobs\u001b[0m\u001b[1;33m=\u001b[0m\u001b[0mself\u001b[0m\u001b[1;33m.\u001b[0m\u001b[0m_n_jobs\u001b[0m\u001b[1;33m)\u001b[0m\u001b[1;33m:\u001b[0m\u001b[1;33m\u001b[0m\u001b[1;33m\u001b[0m\u001b[0m\n\u001b[0;32m    224\u001b[0m             return [func(*args, **kwargs)\n\u001b[1;32m--> 225\u001b[1;33m                     for func, args, kwargs in self.items]\n\u001b[0m\u001b[0;32m    226\u001b[0m \u001b[1;33m\u001b[0m\u001b[0m\n\u001b[0;32m    227\u001b[0m     \u001b[1;32mdef\u001b[0m \u001b[0m__len__\u001b[0m\u001b[1;33m(\u001b[0m\u001b[0mself\u001b[0m\u001b[1;33m)\u001b[0m\u001b[1;33m:\u001b[0m\u001b[1;33m\u001b[0m\u001b[1;33m\u001b[0m\u001b[0m\n",
      "\u001b[1;32mC:\\ProgramData\\Anaconda3\\lib\\site-packages\\sklearn\\externals\\joblib\\parallel.py\u001b[0m in \u001b[0;36m<listcomp>\u001b[1;34m(.0)\u001b[0m\n\u001b[0;32m    223\u001b[0m         \u001b[1;32mwith\u001b[0m \u001b[0mparallel_backend\u001b[0m\u001b[1;33m(\u001b[0m\u001b[0mself\u001b[0m\u001b[1;33m.\u001b[0m\u001b[0m_backend\u001b[0m\u001b[1;33m,\u001b[0m \u001b[0mn_jobs\u001b[0m\u001b[1;33m=\u001b[0m\u001b[0mself\u001b[0m\u001b[1;33m.\u001b[0m\u001b[0m_n_jobs\u001b[0m\u001b[1;33m)\u001b[0m\u001b[1;33m:\u001b[0m\u001b[1;33m\u001b[0m\u001b[1;33m\u001b[0m\u001b[0m\n\u001b[0;32m    224\u001b[0m             return [func(*args, **kwargs)\n\u001b[1;32m--> 225\u001b[1;33m                     for func, args, kwargs in self.items]\n\u001b[0m\u001b[0;32m    226\u001b[0m \u001b[1;33m\u001b[0m\u001b[0m\n\u001b[0;32m    227\u001b[0m     \u001b[1;32mdef\u001b[0m \u001b[0m__len__\u001b[0m\u001b[1;33m(\u001b[0m\u001b[0mself\u001b[0m\u001b[1;33m)\u001b[0m\u001b[1;33m:\u001b[0m\u001b[1;33m\u001b[0m\u001b[1;33m\u001b[0m\u001b[0m\n",
      "\u001b[1;32mC:\\ProgramData\\Anaconda3\\lib\\site-packages\\sklearn\\model_selection\\_validation.py\u001b[0m in \u001b[0;36m_fit_and_score\u001b[1;34m(estimator, X, y, scorer, train, test, verbose, parameters, fit_params, return_train_score, return_parameters, return_n_test_samples, return_times, return_estimator, error_score)\u001b[0m\n\u001b[0;32m    526\u001b[0m             \u001b[0mestimator\u001b[0m\u001b[1;33m.\u001b[0m\u001b[0mfit\u001b[0m\u001b[1;33m(\u001b[0m\u001b[0mX_train\u001b[0m\u001b[1;33m,\u001b[0m \u001b[1;33m**\u001b[0m\u001b[0mfit_params\u001b[0m\u001b[1;33m)\u001b[0m\u001b[1;33m\u001b[0m\u001b[1;33m\u001b[0m\u001b[0m\n\u001b[0;32m    527\u001b[0m         \u001b[1;32melse\u001b[0m\u001b[1;33m:\u001b[0m\u001b[1;33m\u001b[0m\u001b[1;33m\u001b[0m\u001b[0m\n\u001b[1;32m--> 528\u001b[1;33m             \u001b[0mestimator\u001b[0m\u001b[1;33m.\u001b[0m\u001b[0mfit\u001b[0m\u001b[1;33m(\u001b[0m\u001b[0mX_train\u001b[0m\u001b[1;33m,\u001b[0m \u001b[0my_train\u001b[0m\u001b[1;33m,\u001b[0m \u001b[1;33m**\u001b[0m\u001b[0mfit_params\u001b[0m\u001b[1;33m)\u001b[0m\u001b[1;33m\u001b[0m\u001b[1;33m\u001b[0m\u001b[0m\n\u001b[0m\u001b[0;32m    529\u001b[0m \u001b[1;33m\u001b[0m\u001b[0m\n\u001b[0;32m    530\u001b[0m     \u001b[1;32mexcept\u001b[0m \u001b[0mException\u001b[0m \u001b[1;32mas\u001b[0m \u001b[0me\u001b[0m\u001b[1;33m:\u001b[0m\u001b[1;33m\u001b[0m\u001b[1;33m\u001b[0m\u001b[0m\n",
      "\u001b[1;32mC:\\ProgramData\\Anaconda3\\lib\\site-packages\\sklearn\\linear_model\\logistic.py\u001b[0m in \u001b[0;36mfit\u001b[1;34m(self, X, y, sample_weight)\u001b[0m\n\u001b[0;32m   1287\u001b[0m         X, y = check_X_y(X, y, accept_sparse='csr', dtype=_dtype, order=\"C\",\n\u001b[0;32m   1288\u001b[0m                          accept_large_sparse=solver != 'liblinear')\n\u001b[1;32m-> 1289\u001b[1;33m         \u001b[0mcheck_classification_targets\u001b[0m\u001b[1;33m(\u001b[0m\u001b[0my\u001b[0m\u001b[1;33m)\u001b[0m\u001b[1;33m\u001b[0m\u001b[1;33m\u001b[0m\u001b[0m\n\u001b[0m\u001b[0;32m   1290\u001b[0m         \u001b[0mself\u001b[0m\u001b[1;33m.\u001b[0m\u001b[0mclasses_\u001b[0m \u001b[1;33m=\u001b[0m \u001b[0mnp\u001b[0m\u001b[1;33m.\u001b[0m\u001b[0munique\u001b[0m\u001b[1;33m(\u001b[0m\u001b[0my\u001b[0m\u001b[1;33m)\u001b[0m\u001b[1;33m\u001b[0m\u001b[1;33m\u001b[0m\u001b[0m\n\u001b[0;32m   1291\u001b[0m         \u001b[0mn_samples\u001b[0m\u001b[1;33m,\u001b[0m \u001b[0mn_features\u001b[0m \u001b[1;33m=\u001b[0m \u001b[0mX\u001b[0m\u001b[1;33m.\u001b[0m\u001b[0mshape\u001b[0m\u001b[1;33m\u001b[0m\u001b[1;33m\u001b[0m\u001b[0m\n",
      "\u001b[1;32mC:\\ProgramData\\Anaconda3\\lib\\site-packages\\sklearn\\utils\\multiclass.py\u001b[0m in \u001b[0;36mcheck_classification_targets\u001b[1;34m(y)\u001b[0m\n\u001b[0;32m    169\u001b[0m     if y_type not in ['binary', 'multiclass', 'multiclass-multioutput',\n\u001b[0;32m    170\u001b[0m                       'multilabel-indicator', 'multilabel-sequences']:\n\u001b[1;32m--> 171\u001b[1;33m         \u001b[1;32mraise\u001b[0m \u001b[0mValueError\u001b[0m\u001b[1;33m(\u001b[0m\u001b[1;34m\"Unknown label type: %r\"\u001b[0m \u001b[1;33m%\u001b[0m \u001b[0my_type\u001b[0m\u001b[1;33m)\u001b[0m\u001b[1;33m\u001b[0m\u001b[1;33m\u001b[0m\u001b[0m\n\u001b[0m\u001b[0;32m    172\u001b[0m \u001b[1;33m\u001b[0m\u001b[0m\n\u001b[0;32m    173\u001b[0m \u001b[1;33m\u001b[0m\u001b[0m\n",
      "\u001b[1;31mValueError\u001b[0m: Unknown label type: 'continuous'"
     ]
    }
   ],
   "source": [
    "prediction(lr1, 'L1 Logistic Regression', 'coeff')"
   ]
  },
  {
   "cell_type": "markdown",
   "metadata": {},
   "source": [
    "## Univariate feature selection"
   ]
  },
  {
   "cell_type": "code",
   "execution_count": 256,
   "metadata": {
    "scrolled": true
   },
   "outputs": [
    {
     "data": {
      "text/plain": [
       "date                           0\n",
       "available                      0\n",
       "metro_area                     0\n",
       "amenities                      0\n",
       "host_id                        0\n",
       "instant_bookable               0\n",
       "latitude                       0\n",
       "longitude                      0\n",
       "metropolitan                   0\n",
       "name                           0\n",
       "state                          0\n",
       "zipcode                        0\n",
       "listed price                   0\n",
       "accommodates                   0\n",
       "availability_30                0\n",
       "bathrooms                      0\n",
       "bedrooms                       0\n",
       "beds                           0\n",
       "original price                 0\n",
       "review_scores_checkin          0\n",
       "review_scores_cleanliness      0\n",
       "review_scores_communication    0\n",
       "review_scores_location         0\n",
       "review_scores_rating           0\n",
       "review_scores_value            0\n",
       "weekly_price                   0\n",
       "bed_type_Airbed                0\n",
       "bed_type_Couch                 0\n",
       "bed_type_Futon                 0\n",
       "bed_type_Pull-out Sofa         0\n",
       "                              ..\n",
       "city_oakland gardens           0\n",
       "city_ozone park                0\n",
       "city_park slope                0\n",
       "city_parkchester               0\n",
       "city_parkchester bronx         0\n",
       "city_queens                    0\n",
       "city_red hook                  0\n",
       "city_rego park                 0\n",
       "city_richmond hill             0\n",
       "city_ridgewood                 0\n",
       "city_riverdale                 0\n",
       "city_rockaway beach            0\n",
       "city_rosedale                  0\n",
       "city_saint albans              0\n",
       "city_south ozone park          0\n",
       "city_south richmond hill       0\n",
       "city_sprinfield gardens        0\n",
       "city_springfield gardens       0\n",
       "city_st albans                 0\n",
       "city_st. albans                0\n",
       "city_staten island             0\n",
       "city_statenisland              0\n",
       "city_sunnysidebronx            0\n",
       "city_valley stream             0\n",
       "city_wadsworth terrace         0\n",
       "city_whitestone                0\n",
       "city_williamsburg              0\n",
       "city_williamsburg bk           0\n",
       "city_woodside                  0\n",
       "city_yonkers                   0\n",
       "Length: 152, dtype: int64"
      ]
     },
     "execution_count": 256,
     "metadata": {},
     "output_type": "execute_result"
    }
   ],
   "source": [
    "df.isnull().sum()"
   ]
  },
  {
   "cell_type": "code",
   "execution_count": 216,
   "metadata": {},
   "outputs": [],
   "source": [
    "from sklearn.feature_selection import chi2\n",
    "from sklearn.feature_selection import SelectKBest"
   ]
  },
  {
   "cell_type": "code",
   "execution_count": 257,
   "metadata": {},
   "outputs": [],
   "source": [
    "select = SelectKBest(score_func = chi2,k = 3)\n",
    "fit    = select.fit(X,y)"
   ]
  },
  {
   "cell_type": "code",
   "execution_count": 258,
   "metadata": {},
   "outputs": [
    {
     "data": {
      "text/html": [
       "<div>\n",
       "<style scoped>\n",
       "    .dataframe tbody tr th:only-of-type {\n",
       "        vertical-align: middle;\n",
       "    }\n",
       "\n",
       "    .dataframe tbody tr th {\n",
       "        vertical-align: top;\n",
       "    }\n",
       "\n",
       "    .dataframe thead th {\n",
       "        text-align: right;\n",
       "    }\n",
       "</style>\n",
       "<table border=\"1\" class=\"dataframe\">\n",
       "  <thead>\n",
       "    <tr style=\"text-align: right;\">\n",
       "      <th></th>\n",
       "      <th>features</th>\n",
       "      <th>scores</th>\n",
       "      <th>p_values</th>\n",
       "    </tr>\n",
       "  </thead>\n",
       "  <tbody>\n",
       "    <tr>\n",
       "      <th>16</th>\n",
       "      <td>room_type_Entire home/apt</td>\n",
       "      <td>310.997215</td>\n",
       "      <td>1.324309e-69</td>\n",
       "    </tr>\n",
       "    <tr>\n",
       "      <th>13</th>\n",
       "      <td>cancellation_policy_flexible</td>\n",
       "      <td>242.187210</td>\n",
       "      <td>1.311611e-54</td>\n",
       "    </tr>\n",
       "    <tr>\n",
       "      <th>61</th>\n",
       "      <td>city_queens</td>\n",
       "      <td>217.441171</td>\n",
       "      <td>3.269971e-49</td>\n",
       "    </tr>\n",
       "    <tr>\n",
       "      <th>15</th>\n",
       "      <td>cancellation_policy_strict</td>\n",
       "      <td>213.904918</td>\n",
       "      <td>1.931790e-48</td>\n",
       "    </tr>\n",
       "    <tr>\n",
       "      <th>14</th>\n",
       "      <td>cancellation_policy_moderate</td>\n",
       "      <td>212.640773</td>\n",
       "      <td>3.645363e-48</td>\n",
       "    </tr>\n",
       "    <tr>\n",
       "      <th>25</th>\n",
       "      <td>property_type_House</td>\n",
       "      <td>209.626836</td>\n",
       "      <td>1.656837e-47</td>\n",
       "    </tr>\n",
       "    <tr>\n",
       "      <th>17</th>\n",
       "      <td>room_type_Shared room</td>\n",
       "      <td>146.074473</td>\n",
       "      <td>1.250433e-33</td>\n",
       "    </tr>\n",
       "    <tr>\n",
       "      <th>54</th>\n",
       "      <td>city_long island city</td>\n",
       "      <td>115.237183</td>\n",
       "      <td>6.982599e-27</td>\n",
       "    </tr>\n",
       "    <tr>\n",
       "      <th>19</th>\n",
       "      <td>property_type_Boutique hotel</td>\n",
       "      <td>103.472020</td>\n",
       "      <td>2.640977e-24</td>\n",
       "    </tr>\n",
       "    <tr>\n",
       "      <th>37</th>\n",
       "      <td>city_brooklyn</td>\n",
       "      <td>90.929563</td>\n",
       "      <td>1.488786e-21</td>\n",
       "    </tr>\n",
       "    <tr>\n",
       "      <th>27</th>\n",
       "      <td>property_type_Loft</td>\n",
       "      <td>87.513884</td>\n",
       "      <td>8.369026e-21</td>\n",
       "    </tr>\n",
       "    <tr>\n",
       "      <th>50</th>\n",
       "      <td>city_jamaica</td>\n",
       "      <td>73.508377</td>\n",
       "      <td>1.002100e-17</td>\n",
       "    </tr>\n",
       "    <tr>\n",
       "      <th>18</th>\n",
       "      <td>property_type_Bed &amp; Breakfast</td>\n",
       "      <td>15.894334</td>\n",
       "      <td>6.697892e-05</td>\n",
       "    </tr>\n",
       "    <tr>\n",
       "      <th>12</th>\n",
       "      <td>bed_type_Pull-out Sofa</td>\n",
       "      <td>14.005000</td>\n",
       "      <td>1.823252e-04</td>\n",
       "    </tr>\n",
       "    <tr>\n",
       "      <th>2</th>\n",
       "      <td>bedrooms</td>\n",
       "      <td>1.604692</td>\n",
       "      <td>2.052395e-01</td>\n",
       "    </tr>\n",
       "    <tr>\n",
       "      <th>8</th>\n",
       "      <td>review_scores_rating</td>\n",
       "      <td>1.373909</td>\n",
       "      <td>2.411413e-01</td>\n",
       "    </tr>\n",
       "    <tr>\n",
       "      <th>7</th>\n",
       "      <td>review_scores_location</td>\n",
       "      <td>0.649231</td>\n",
       "      <td>4.203878e-01</td>\n",
       "    </tr>\n",
       "    <tr>\n",
       "      <th>1</th>\n",
       "      <td>availability_30</td>\n",
       "      <td>0.537711</td>\n",
       "      <td>4.633830e-01</td>\n",
       "    </tr>\n",
       "    <tr>\n",
       "      <th>10</th>\n",
       "      <td>weekly_price</td>\n",
       "      <td>0.403542</td>\n",
       "      <td>5.252659e-01</td>\n",
       "    </tr>\n",
       "    <tr>\n",
       "      <th>9</th>\n",
       "      <td>review_scores_value</td>\n",
       "      <td>0.310796</td>\n",
       "      <td>5.771924e-01</td>\n",
       "    </tr>\n",
       "    <tr>\n",
       "      <th>4</th>\n",
       "      <td>review_scores_checkin</td>\n",
       "      <td>0.296252</td>\n",
       "      <td>5.862417e-01</td>\n",
       "    </tr>\n",
       "    <tr>\n",
       "      <th>5</th>\n",
       "      <td>review_scores_cleanliness</td>\n",
       "      <td>0.279455</td>\n",
       "      <td>5.970588e-01</td>\n",
       "    </tr>\n",
       "    <tr>\n",
       "      <th>22</th>\n",
       "      <td>property_type_Condominium</td>\n",
       "      <td>0.238800</td>\n",
       "      <td>6.250743e-01</td>\n",
       "    </tr>\n",
       "    <tr>\n",
       "      <th>3</th>\n",
       "      <td>original price</td>\n",
       "      <td>0.032220</td>\n",
       "      <td>8.575463e-01</td>\n",
       "    </tr>\n",
       "    <tr>\n",
       "      <th>6</th>\n",
       "      <td>review_scores_communication</td>\n",
       "      <td>0.000661</td>\n",
       "      <td>9.794938e-01</td>\n",
       "    </tr>\n",
       "    <tr>\n",
       "      <th>0</th>\n",
       "      <td>listed price</td>\n",
       "      <td>0.000315</td>\n",
       "      <td>9.858350e-01</td>\n",
       "    </tr>\n",
       "    <tr>\n",
       "      <th>11</th>\n",
       "      <td>bed_type_Couch</td>\n",
       "      <td>NaN</td>\n",
       "      <td>NaN</td>\n",
       "    </tr>\n",
       "    <tr>\n",
       "      <th>20</th>\n",
       "      <td>property_type_Cabin</td>\n",
       "      <td>NaN</td>\n",
       "      <td>NaN</td>\n",
       "    </tr>\n",
       "    <tr>\n",
       "      <th>21</th>\n",
       "      <td>property_type_Cave</td>\n",
       "      <td>NaN</td>\n",
       "      <td>NaN</td>\n",
       "    </tr>\n",
       "    <tr>\n",
       "      <th>23</th>\n",
       "      <td>property_type_Earth House</td>\n",
       "      <td>NaN</td>\n",
       "      <td>NaN</td>\n",
       "    </tr>\n",
       "    <tr>\n",
       "      <th>...</th>\n",
       "      <td>...</td>\n",
       "      <td>...</td>\n",
       "      <td>...</td>\n",
       "    </tr>\n",
       "    <tr>\n",
       "      <th>41</th>\n",
       "      <td>city_east williamsburg</td>\n",
       "      <td>NaN</td>\n",
       "      <td>NaN</td>\n",
       "    </tr>\n",
       "    <tr>\n",
       "      <th>42</th>\n",
       "      <td>city_elmont</td>\n",
       "      <td>NaN</td>\n",
       "      <td>NaN</td>\n",
       "    </tr>\n",
       "    <tr>\n",
       "      <th>43</th>\n",
       "      <td>city_far rockaway</td>\n",
       "      <td>NaN</td>\n",
       "      <td>NaN</td>\n",
       "    </tr>\n",
       "    <tr>\n",
       "      <th>44</th>\n",
       "      <td>city_flushing</td>\n",
       "      <td>NaN</td>\n",
       "      <td>NaN</td>\n",
       "    </tr>\n",
       "    <tr>\n",
       "      <th>45</th>\n",
       "      <td>city_fort greene</td>\n",
       "      <td>NaN</td>\n",
       "      <td>NaN</td>\n",
       "    </tr>\n",
       "    <tr>\n",
       "      <th>46</th>\n",
       "      <td>city_glendale</td>\n",
       "      <td>NaN</td>\n",
       "      <td>NaN</td>\n",
       "    </tr>\n",
       "    <tr>\n",
       "      <th>47</th>\n",
       "      <td>city_greenpoint</td>\n",
       "      <td>NaN</td>\n",
       "      <td>NaN</td>\n",
       "    </tr>\n",
       "    <tr>\n",
       "      <th>48</th>\n",
       "      <td>city_hell's kitchen</td>\n",
       "      <td>NaN</td>\n",
       "      <td>NaN</td>\n",
       "    </tr>\n",
       "    <tr>\n",
       "      <th>49</th>\n",
       "      <td>city_howard beach</td>\n",
       "      <td>NaN</td>\n",
       "      <td>NaN</td>\n",
       "    </tr>\n",
       "    <tr>\n",
       "      <th>51</th>\n",
       "      <td>city_kew gardens hills</td>\n",
       "      <td>NaN</td>\n",
       "      <td>NaN</td>\n",
       "    </tr>\n",
       "    <tr>\n",
       "      <th>52</th>\n",
       "      <td>city_l.i.c</td>\n",
       "      <td>NaN</td>\n",
       "      <td>NaN</td>\n",
       "    </tr>\n",
       "    <tr>\n",
       "      <th>53</th>\n",
       "      <td>city_lawrence</td>\n",
       "      <td>NaN</td>\n",
       "      <td>NaN</td>\n",
       "    </tr>\n",
       "    <tr>\n",
       "      <th>55</th>\n",
       "      <td>city_lower east side</td>\n",
       "      <td>NaN</td>\n",
       "      <td>NaN</td>\n",
       "    </tr>\n",
       "    <tr>\n",
       "      <th>56</th>\n",
       "      <td>city_manhattan ny</td>\n",
       "      <td>NaN</td>\n",
       "      <td>NaN</td>\n",
       "    </tr>\n",
       "    <tr>\n",
       "      <th>57</th>\n",
       "      <td>city_middle village</td>\n",
       "      <td>NaN</td>\n",
       "      <td>NaN</td>\n",
       "    </tr>\n",
       "    <tr>\n",
       "      <th>58</th>\n",
       "      <td>city_nyc</td>\n",
       "      <td>NaN</td>\n",
       "      <td>NaN</td>\n",
       "    </tr>\n",
       "    <tr>\n",
       "      <th>59</th>\n",
       "      <td>city_ozone park</td>\n",
       "      <td>NaN</td>\n",
       "      <td>NaN</td>\n",
       "    </tr>\n",
       "    <tr>\n",
       "      <th>60</th>\n",
       "      <td>city_parkchester</td>\n",
       "      <td>NaN</td>\n",
       "      <td>NaN</td>\n",
       "    </tr>\n",
       "    <tr>\n",
       "      <th>62</th>\n",
       "      <td>city_rego park</td>\n",
       "      <td>NaN</td>\n",
       "      <td>NaN</td>\n",
       "    </tr>\n",
       "    <tr>\n",
       "      <th>63</th>\n",
       "      <td>city_ridgewood</td>\n",
       "      <td>NaN</td>\n",
       "      <td>NaN</td>\n",
       "    </tr>\n",
       "    <tr>\n",
       "      <th>64</th>\n",
       "      <td>city_rockaway beach</td>\n",
       "      <td>NaN</td>\n",
       "      <td>NaN</td>\n",
       "    </tr>\n",
       "    <tr>\n",
       "      <th>65</th>\n",
       "      <td>city_saint albans</td>\n",
       "      <td>NaN</td>\n",
       "      <td>NaN</td>\n",
       "    </tr>\n",
       "    <tr>\n",
       "      <th>66</th>\n",
       "      <td>city_south richmond hill</td>\n",
       "      <td>NaN</td>\n",
       "      <td>NaN</td>\n",
       "    </tr>\n",
       "    <tr>\n",
       "      <th>67</th>\n",
       "      <td>city_springfield gardens</td>\n",
       "      <td>NaN</td>\n",
       "      <td>NaN</td>\n",
       "    </tr>\n",
       "    <tr>\n",
       "      <th>68</th>\n",
       "      <td>city_st. albans</td>\n",
       "      <td>NaN</td>\n",
       "      <td>NaN</td>\n",
       "    </tr>\n",
       "    <tr>\n",
       "      <th>69</th>\n",
       "      <td>city_statenisland</td>\n",
       "      <td>NaN</td>\n",
       "      <td>NaN</td>\n",
       "    </tr>\n",
       "    <tr>\n",
       "      <th>70</th>\n",
       "      <td>city_valley stream</td>\n",
       "      <td>NaN</td>\n",
       "      <td>NaN</td>\n",
       "    </tr>\n",
       "    <tr>\n",
       "      <th>71</th>\n",
       "      <td>city_whitestone</td>\n",
       "      <td>NaN</td>\n",
       "      <td>NaN</td>\n",
       "    </tr>\n",
       "    <tr>\n",
       "      <th>72</th>\n",
       "      <td>city_williamsburg bk</td>\n",
       "      <td>NaN</td>\n",
       "      <td>NaN</td>\n",
       "    </tr>\n",
       "    <tr>\n",
       "      <th>73</th>\n",
       "      <td>city_yonkers</td>\n",
       "      <td>NaN</td>\n",
       "      <td>NaN</td>\n",
       "    </tr>\n",
       "  </tbody>\n",
       "</table>\n",
       "<p>74 rows × 3 columns</p>\n",
       "</div>"
      ],
      "text/plain": [
       "                         features      scores      p_values\n",
       "16      room_type_Entire home/apt  310.997215  1.324309e-69\n",
       "13   cancellation_policy_flexible  242.187210  1.311611e-54\n",
       "61                    city_queens  217.441171  3.269971e-49\n",
       "15     cancellation_policy_strict  213.904918  1.931790e-48\n",
       "14   cancellation_policy_moderate  212.640773  3.645363e-48\n",
       "25            property_type_House  209.626836  1.656837e-47\n",
       "17          room_type_Shared room  146.074473  1.250433e-33\n",
       "54          city_long island city  115.237183  6.982599e-27\n",
       "19   property_type_Boutique hotel  103.472020  2.640977e-24\n",
       "37                  city_brooklyn   90.929563  1.488786e-21\n",
       "27             property_type_Loft   87.513884  8.369026e-21\n",
       "50                   city_jamaica   73.508377  1.002100e-17\n",
       "18  property_type_Bed & Breakfast   15.894334  6.697892e-05\n",
       "12         bed_type_Pull-out Sofa   14.005000  1.823252e-04\n",
       "2                        bedrooms    1.604692  2.052395e-01\n",
       "8            review_scores_rating    1.373909  2.411413e-01\n",
       "7          review_scores_location    0.649231  4.203878e-01\n",
       "1                 availability_30    0.537711  4.633830e-01\n",
       "10                   weekly_price    0.403542  5.252659e-01\n",
       "9             review_scores_value    0.310796  5.771924e-01\n",
       "4           review_scores_checkin    0.296252  5.862417e-01\n",
       "5       review_scores_cleanliness    0.279455  5.970588e-01\n",
       "22      property_type_Condominium    0.238800  6.250743e-01\n",
       "3                  original price    0.032220  8.575463e-01\n",
       "6     review_scores_communication    0.000661  9.794938e-01\n",
       "0                    listed price    0.000315  9.858350e-01\n",
       "11                 bed_type_Couch         NaN           NaN\n",
       "20            property_type_Cabin         NaN           NaN\n",
       "21             property_type_Cave         NaN           NaN\n",
       "23      property_type_Earth House         NaN           NaN\n",
       "..                            ...         ...           ...\n",
       "41         city_east williamsburg         NaN           NaN\n",
       "42                    city_elmont         NaN           NaN\n",
       "43              city_far rockaway         NaN           NaN\n",
       "44                  city_flushing         NaN           NaN\n",
       "45               city_fort greene         NaN           NaN\n",
       "46                  city_glendale         NaN           NaN\n",
       "47                city_greenpoint         NaN           NaN\n",
       "48            city_hell's kitchen         NaN           NaN\n",
       "49              city_howard beach         NaN           NaN\n",
       "51         city_kew gardens hills         NaN           NaN\n",
       "52                     city_l.i.c         NaN           NaN\n",
       "53                  city_lawrence         NaN           NaN\n",
       "55           city_lower east side         NaN           NaN\n",
       "56              city_manhattan ny         NaN           NaN\n",
       "57            city_middle village         NaN           NaN\n",
       "58                       city_nyc         NaN           NaN\n",
       "59                city_ozone park         NaN           NaN\n",
       "60               city_parkchester         NaN           NaN\n",
       "62                 city_rego park         NaN           NaN\n",
       "63                 city_ridgewood         NaN           NaN\n",
       "64            city_rockaway beach         NaN           NaN\n",
       "65              city_saint albans         NaN           NaN\n",
       "66       city_south richmond hill         NaN           NaN\n",
       "67       city_springfield gardens         NaN           NaN\n",
       "68                city_st. albans         NaN           NaN\n",
       "69              city_statenisland         NaN           NaN\n",
       "70             city_valley stream         NaN           NaN\n",
       "71                city_whitestone         NaN           NaN\n",
       "72           city_williamsburg bk         NaN           NaN\n",
       "73                   city_yonkers         NaN           NaN\n",
       "\n",
       "[74 rows x 3 columns]"
      ]
     },
     "execution_count": 258,
     "metadata": {},
     "output_type": "execute_result"
    }
   ],
   "source": [
    "score = pd.DataFrame({\"features\":features_list,\"scores\":fit.scores_,\"p_values\":fit.pvalues_ })\n",
    "score = score.sort_values(by = \"scores\" ,ascending =False)\n",
    "score"
   ]
  }
 ],
 "metadata": {
  "kernelspec": {
   "display_name": "Python 3",
   "language": "python",
   "name": "python3"
  },
  "language_info": {
   "codemirror_mode": {
    "name": "ipython",
    "version": 3
   },
   "file_extension": ".py",
   "mimetype": "text/x-python",
   "name": "python",
   "nbconvert_exporter": "python",
   "pygments_lexer": "ipython3",
   "version": "3.7.3"
  },
  "toc": {
   "base_numbering": 1,
   "nav_menu": {},
   "number_sections": true,
   "sideBar": true,
   "skip_h1_title": false,
   "title_cell": "Table of Contents",
   "title_sidebar": "Contents",
   "toc_cell": true,
   "toc_position": {
    "height": "calc(100% - 180px)",
    "left": "10px",
    "top": "150px",
    "width": "220.875px"
   },
   "toc_section_display": true,
   "toc_window_display": true
  }
 },
 "nbformat": 4,
 "nbformat_minor": 2
}
