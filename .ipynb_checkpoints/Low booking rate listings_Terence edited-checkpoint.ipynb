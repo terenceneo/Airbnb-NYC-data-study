{
 "cells": [
  {
   "cell_type": "markdown",
   "metadata": {
    "toc": true
   },
   "source": [
    "<h1>Table of Contents<span class=\"tocSkip\"></span></h1>\n",
    "<div class=\"toc\"><ul class=\"toc-item\"><li><span><a href=\"#Load-dataset\" data-toc-modified-id=\"Load-dataset-1\"><span class=\"toc-item-num\">1&nbsp;&nbsp;</span>Load dataset</a></span></li><li><span><a href=\"#Clean-dataset\" data-toc-modified-id=\"Clean-dataset-2\"><span class=\"toc-item-num\">2&nbsp;&nbsp;</span>Clean dataset</a></span><ul class=\"toc-item\"><li><span><a href=\"#1)-Filter-and-clean-data-of-interest\" data-toc-modified-id=\"1)-Filter-and-clean-data-of-interest-2.1\"><span class=\"toc-item-num\">2.1&nbsp;&nbsp;</span>1) Filter and clean data of interest</a></span></li><li><span><a href=\"#2)-Create-table-of-available-days-by-month-and-listing\" data-toc-modified-id=\"2)-Create-table-of-available-days-by-month-and-listing-2.2\"><span class=\"toc-item-num\">2.2&nbsp;&nbsp;</span>2) Create table of available days by month and listing</a></span></li><li><span><a href=\"#3)-Focus-on-listings-&amp;-months-with-low-booking-rate\" data-toc-modified-id=\"3)-Focus-on-listings-&amp;-months-with-low-booking-rate-2.3\"><span class=\"toc-item-num\">2.3&nbsp;&nbsp;</span>3) Focus on listings &amp; months with low booking rate</a></span></li></ul></li><li><span><a href=\"#Merge-datasets\" data-toc-modified-id=\"Merge-datasets-3\"><span class=\"toc-item-num\">3&nbsp;&nbsp;</span>Merge datasets</a></span><ul class=\"toc-item\"><li><span><a href=\"#Merge-listings-and-low_occ\" data-toc-modified-id=\"Merge-listings-and-low_occ-3.1\"><span class=\"toc-item-num\">3.1&nbsp;&nbsp;</span>Merge listings and low_occ</a></span></li></ul></li></ul></div>"
   ]
  },
  {
   "cell_type": "code",
   "execution_count": 4,
   "metadata": {},
   "outputs": [],
   "source": [
    "import pandas as pd\n",
    "import matplotlib.pyplot as plt"
   ]
  },
  {
   "cell_type": "markdown",
   "metadata": {},
   "source": [
    "## Load dataset"
   ]
  },
  {
   "cell_type": "code",
   "execution_count": null,
   "metadata": {},
   "outputs": [],
   "source": [
    "# Load datasets\n",
    "source=\"./airbnb_data/\"\n",
    "calendar=pd.read_csv(source+\"calendar.csv\")\n",
    "listings=pd.read_csv(source+\"listings.csv\")"
   ]
  },
  {
   "cell_type": "code",
   "execution_count": null,
   "metadata": {},
   "outputs": [],
   "source": [
    "calendar.head()"
   ]
  },
  {
   "cell_type": "markdown",
   "metadata": {},
   "source": [
    "## Clean dataset\n",
    "### 1) Filter and clean data of interest"
   ]
  },
  {
   "cell_type": "code",
   "execution_count": null,
   "metadata": {},
   "outputs": [],
   "source": [
    "print(calendar['metro_area'].unique().tolist())"
   ]
  },
  {
   "cell_type": "code",
   "execution_count": null,
   "metadata": {},
   "outputs": [],
   "source": [
    "# Filter only NYC data\n",
    "calendar = calendar[calendar['metro_area']=='NYC']\n",
    "\n",
    "# In 'available' column, change true to 1 and false to 0\n",
    "calendar['available'] = calendar['available'].apply(lambda x:1 if x == 't' else 0)\n",
    "\n",
    "# Convert date column to data type date\n",
    "calendar['date'] = pd.to_datetime(calendar['date'])\n",
    "\n",
    "calendar.head()"
   ]
  },
  {
   "cell_type": "markdown",
   "metadata": {},
   "source": [
    "### 2) Create table of available days by month and listing"
   ]
  },
  {
   "cell_type": "code",
   "execution_count": null,
   "metadata": {},
   "outputs": [],
   "source": [
    "# Sum number of days in a month which listing is available for\n",
    "occupancy = calendar.groupby([pd.Grouper(key='date',freq='M'),'listing_id'])['available'].sum().to_frame()"
   ]
  },
  {
   "cell_type": "code",
   "execution_count": null,
   "metadata": {},
   "outputs": [],
   "source": [
    "occupancy = occupancy.reset_index()"
   ]
  },
  {
   "cell_type": "code",
   "execution_count": null,
   "metadata": {},
   "outputs": [],
   "source": [
    "# Compute number of booked days and occupancy rate\n",
    "occupancy['booked_days'] = occupancy['date'].dt.day - occupancy['available']\n",
    "occupancy['occupancy_rate'] = occupancy['booked_days']/occupancy['date'].dt.day\n",
    "occupancy.head()"
   ]
  },
  {
   "cell_type": "markdown",
   "metadata": {},
   "source": [
    "### 3) Focus on listings & months with low booking rate\n",
    "We find that a significant percentage of listings and months are available for almost a full month. That is, the listings are shown as available on the calendar on Airbnb but are not booked at all/have extremely low booking rates. We choose to focus on examining why by exploring their characteristics and identifying patterns."
   ]
  },
  {
   "cell_type": "code",
   "execution_count": null,
   "metadata": {},
   "outputs": [],
   "source": [
    "# Number of unique listing ids in dataset\n",
    "print(\"Number of unique listings: {}\".format(len(occupancy['listing_id'].unique().tolist())))\n",
    "\n",
    "# Percentage of listing months which have 30 or 31 days available i.e. low booking rate\n",
    "print(\"% of listing-months with low booking rate: {}\".format(len(occupancy[occupancy['booked_days'] == 0])/len(occupancy)*100))\n",
    "\n",
    "low_occ = occupancy[occupancy['booked_days']==0]\n",
    "print(\"Ave # months/listing with low booking rate: {}\".format(len(low_occ)/len(low_occ['listing_id'].unique().tolist())))"
   ]
  },
  {
   "cell_type": "code",
   "execution_count": null,
   "metadata": {},
   "outputs": [],
   "source": [
    "low_occ.head()"
   ]
  },
  {
   "cell_type": "code",
   "execution_count": 133,
   "metadata": {},
   "outputs": [
    {
     "data": {
      "text/plain": [
       "22744"
      ]
     },
     "execution_count": 133,
     "metadata": {},
     "output_type": "execute_result"
    }
   ],
   "source": [
    "#low_occ.to_csv(r'./high_avail(month).csv', index = False)\n",
    "len(low_occ['listing_id'].unique().tolist())"
   ]
  },
  {
   "cell_type": "code",
   "execution_count": null,
   "metadata": {},
   "outputs": [],
   "source": []
  },
  {
   "cell_type": "markdown",
   "metadata": {},
   "source": [
    "## Merge datasets\n",
    "(1) Merge listings and low_occ to characterise the listings with low booking rates  \n",
    "(2) Merge econ_stat and low_occ to characterise months with low booking rates?\n",
    "\n",
    "### Merge listings and low_occ"
   ]
  },
  {
   "cell_type": "code",
   "execution_count": 125,
   "metadata": {},
   "outputs": [
    {
     "data": {
      "text/html": [
       "<div>\n",
       "<style scoped>\n",
       "    .dataframe tbody tr th:only-of-type {\n",
       "        vertical-align: middle;\n",
       "    }\n",
       "\n",
       "    .dataframe tbody tr th {\n",
       "        vertical-align: top;\n",
       "    }\n",
       "\n",
       "    .dataframe thead th {\n",
       "        text-align: right;\n",
       "    }\n",
       "</style>\n",
       "<table border=\"1\" class=\"dataframe\">\n",
       "  <thead>\n",
       "    <tr style=\"text-align: right;\">\n",
       "      <th></th>\n",
       "      <th>accommodates</th>\n",
       "      <th>amenities</th>\n",
       "      <th>availability_30</th>\n",
       "      <th>bathrooms</th>\n",
       "      <th>bed_type</th>\n",
       "      <th>bedrooms</th>\n",
       "      <th>beds</th>\n",
       "      <th>cancellation_policy</th>\n",
       "      <th>city</th>\n",
       "      <th>has_availability</th>\n",
       "      <th>...</th>\n",
       "      <th>review_scores_checkin</th>\n",
       "      <th>review_scores_cleanliness</th>\n",
       "      <th>review_scores_communication</th>\n",
       "      <th>review_scores_location</th>\n",
       "      <th>review_scores_rating</th>\n",
       "      <th>review_scores_value</th>\n",
       "      <th>room_type</th>\n",
       "      <th>state</th>\n",
       "      <th>weekly_price</th>\n",
       "      <th>zipcode</th>\n",
       "    </tr>\n",
       "  </thead>\n",
       "  <tbody>\n",
       "    <tr>\n",
       "      <th>0</th>\n",
       "      <td>2.0</td>\n",
       "      <td>{\"Cable TV\",\"Wireless Internet\",\"Air condition...</td>\n",
       "      <td>24</td>\n",
       "      <td>1.0</td>\n",
       "      <td>Real Bed</td>\n",
       "      <td>1.0</td>\n",
       "      <td>1.0</td>\n",
       "      <td>moderate</td>\n",
       "      <td>sunnysidebronx</td>\n",
       "      <td>NaN</td>\n",
       "      <td>...</td>\n",
       "      <td>10.0</td>\n",
       "      <td>10.0</td>\n",
       "      <td>10.0</td>\n",
       "      <td>10.0</td>\n",
       "      <td>100.0</td>\n",
       "      <td>10.0</td>\n",
       "      <td>Private room</td>\n",
       "      <td>NY</td>\n",
       "      <td>NaN</td>\n",
       "      <td>10464</td>\n",
       "    </tr>\n",
       "    <tr>\n",
       "      <th>1</th>\n",
       "      <td>4.0</td>\n",
       "      <td>{TV,Internet,\"Wireless Internet\",\"Air conditio...</td>\n",
       "      <td>30</td>\n",
       "      <td>1.0</td>\n",
       "      <td>Real Bed</td>\n",
       "      <td>1.0</td>\n",
       "      <td>1.0</td>\n",
       "      <td>flexible</td>\n",
       "      <td>sunnysidebronx</td>\n",
       "      <td>NaN</td>\n",
       "      <td>...</td>\n",
       "      <td>NaN</td>\n",
       "      <td>NaN</td>\n",
       "      <td>NaN</td>\n",
       "      <td>NaN</td>\n",
       "      <td>NaN</td>\n",
       "      <td>NaN</td>\n",
       "      <td>Private room</td>\n",
       "      <td>NY</td>\n",
       "      <td>NaN</td>\n",
       "      <td>10464</td>\n",
       "    </tr>\n",
       "    <tr>\n",
       "      <th>2</th>\n",
       "      <td>4.0</td>\n",
       "      <td>{TV,\"Cable TV\",Internet,\"Wireless Internet\",\"A...</td>\n",
       "      <td>30</td>\n",
       "      <td>3.0</td>\n",
       "      <td>Real Bed</td>\n",
       "      <td>3.0</td>\n",
       "      <td>3.0</td>\n",
       "      <td>strict</td>\n",
       "      <td>sunnysidebronx</td>\n",
       "      <td>NaN</td>\n",
       "      <td>...</td>\n",
       "      <td>NaN</td>\n",
       "      <td>NaN</td>\n",
       "      <td>NaN</td>\n",
       "      <td>NaN</td>\n",
       "      <td>NaN</td>\n",
       "      <td>NaN</td>\n",
       "      <td>Entire home/apt</td>\n",
       "      <td>NY</td>\n",
       "      <td>NaN</td>\n",
       "      <td>10464</td>\n",
       "    </tr>\n",
       "    <tr>\n",
       "      <th>3</th>\n",
       "      <td>3.0</td>\n",
       "      <td>{TV,Internet,\"Wireless Internet\",\"Air conditio...</td>\n",
       "      <td>8</td>\n",
       "      <td>1.0</td>\n",
       "      <td>Real Bed</td>\n",
       "      <td>1.0</td>\n",
       "      <td>1.0</td>\n",
       "      <td>strict</td>\n",
       "      <td>long island city</td>\n",
       "      <td>NaN</td>\n",
       "      <td>...</td>\n",
       "      <td>10.0</td>\n",
       "      <td>10.0</td>\n",
       "      <td>10.0</td>\n",
       "      <td>10.0</td>\n",
       "      <td>93.0</td>\n",
       "      <td>10.0</td>\n",
       "      <td>Entire home/apt</td>\n",
       "      <td>NY</td>\n",
       "      <td>775.0</td>\n",
       "      <td>10464</td>\n",
       "    </tr>\n",
       "    <tr>\n",
       "      <th>4</th>\n",
       "      <td>4.0</td>\n",
       "      <td>{Internet,\"Wireless Internet\",\"Air conditionin...</td>\n",
       "      <td>17</td>\n",
       "      <td>1.0</td>\n",
       "      <td>Real Bed</td>\n",
       "      <td>1.0</td>\n",
       "      <td>1.0</td>\n",
       "      <td>moderate</td>\n",
       "      <td>sunnysidebronx</td>\n",
       "      <td>NaN</td>\n",
       "      <td>...</td>\n",
       "      <td>10.0</td>\n",
       "      <td>10.0</td>\n",
       "      <td>10.0</td>\n",
       "      <td>10.0</td>\n",
       "      <td>97.0</td>\n",
       "      <td>10.0</td>\n",
       "      <td>Private room</td>\n",
       "      <td>NY</td>\n",
       "      <td>350.0</td>\n",
       "      <td>10464</td>\n",
       "    </tr>\n",
       "  </tbody>\n",
       "</table>\n",
       "<p>5 rows × 29 columns</p>\n",
       "</div>"
      ],
      "text/plain": [
       "   accommodates                                          amenities  \\\n",
       "0           2.0  {\"Cable TV\",\"Wireless Internet\",\"Air condition...   \n",
       "1           4.0  {TV,Internet,\"Wireless Internet\",\"Air conditio...   \n",
       "2           4.0  {TV,\"Cable TV\",Internet,\"Wireless Internet\",\"A...   \n",
       "3           3.0  {TV,Internet,\"Wireless Internet\",\"Air conditio...   \n",
       "4           4.0  {Internet,\"Wireless Internet\",\"Air conditionin...   \n",
       "\n",
       "   availability_30  bathrooms  bed_type  bedrooms  beds cancellation_policy  \\\n",
       "0               24        1.0  Real Bed       1.0   1.0            moderate   \n",
       "1               30        1.0  Real Bed       1.0   1.0            flexible   \n",
       "2               30        3.0  Real Bed       3.0   3.0              strict   \n",
       "3                8        1.0  Real Bed       1.0   1.0              strict   \n",
       "4               17        1.0  Real Bed       1.0   1.0            moderate   \n",
       "\n",
       "               city  has_availability  ...  review_scores_checkin  \\\n",
       "0    sunnysidebronx               NaN  ...                   10.0   \n",
       "1    sunnysidebronx               NaN  ...                    NaN   \n",
       "2    sunnysidebronx               NaN  ...                    NaN   \n",
       "3  long island city               NaN  ...                   10.0   \n",
       "4    sunnysidebronx               NaN  ...                   10.0   \n",
       "\n",
       "   review_scores_cleanliness review_scores_communication  \\\n",
       "0                       10.0                        10.0   \n",
       "1                        NaN                         NaN   \n",
       "2                        NaN                         NaN   \n",
       "3                       10.0                        10.0   \n",
       "4                       10.0                        10.0   \n",
       "\n",
       "   review_scores_location  review_scores_rating review_scores_value  \\\n",
       "0                    10.0                 100.0                10.0   \n",
       "1                     NaN                   NaN                 NaN   \n",
       "2                     NaN                   NaN                 NaN   \n",
       "3                    10.0                  93.0                10.0   \n",
       "4                    10.0                  97.0                10.0   \n",
       "\n",
       "         room_type  state weekly_price  zipcode  \n",
       "0     Private room     NY          NaN    10464  \n",
       "1     Private room     NY          NaN    10464  \n",
       "2  Entire home/apt     NY          NaN    10464  \n",
       "3  Entire home/apt     NY        775.0    10464  \n",
       "4     Private room     NY        350.0    10464  \n",
       "\n",
       "[5 rows x 29 columns]"
      ]
     },
     "execution_count": 125,
     "metadata": {},
     "output_type": "execute_result"
    }
   ],
   "source": [
    "listings.head()"
   ]
  },
  {
   "cell_type": "code",
   "execution_count": 87,
   "metadata": {},
   "outputs": [
    {
     "name": "stdout",
     "output_type": "stream",
     "text": [
      "Index(['accommodates', 'amenities', 'availability_30', 'bathrooms', 'bed_type',\n",
      "       'bedrooms', 'beds', 'cancellation_policy', 'city', 'has_availability',\n",
      "       'host_id', 'id', 'instant_bookable', 'latitude', 'longitude',\n",
      "       'metropolitan', 'name', 'price', 'property_type',\n",
      "       'review_scores_checkin', 'review_scores_cleanliness',\n",
      "       'review_scores_communication', 'review_scores_location',\n",
      "       'review_scores_rating', 'review_scores_value', 'room_type', 'state',\n",
      "       'weekly_price', 'zipcode'],\n",
      "      dtype='object')\n"
     ]
    }
   ],
   "source": [
    "print(listings.columns)"
   ]
  },
  {
   "cell_type": "code",
   "execution_count": null,
   "metadata": {},
   "outputs": [],
   "source": [
    "# Drop unnecessary columns\n",
    "listings_new = listings.drop(['has_availability','availability_30','host_id','name','weekly_price'],axis=1)"
   ]
  },
  {
   "cell_type": "code",
   "execution_count": null,
   "metadata": {},
   "outputs": [],
   "source": []
  },
  {
   "cell_type": "code",
   "execution_count": 92,
   "metadata": {},
   "outputs": [
    {
     "data": {
      "text/html": [
       "<div>\n",
       "<style scoped>\n",
       "    .dataframe tbody tr th:only-of-type {\n",
       "        vertical-align: middle;\n",
       "    }\n",
       "\n",
       "    .dataframe tbody tr th {\n",
       "        vertical-align: top;\n",
       "    }\n",
       "\n",
       "    .dataframe thead th {\n",
       "        text-align: right;\n",
       "    }\n",
       "</style>\n",
       "<table border=\"1\" class=\"dataframe\">\n",
       "  <thead>\n",
       "    <tr style=\"text-align: right;\">\n",
       "      <th></th>\n",
       "      <th>date</th>\n",
       "      <th>listing_id</th>\n",
       "      <th>available</th>\n",
       "    </tr>\n",
       "  </thead>\n",
       "  <tbody>\n",
       "    <tr>\n",
       "      <th>0</th>\n",
       "      <td>2017-12-31</td>\n",
       "      <td>2515</td>\n",
       "      <td>185</td>\n",
       "    </tr>\n",
       "    <tr>\n",
       "      <th>1</th>\n",
       "      <td>2017-12-31</td>\n",
       "      <td>2595</td>\n",
       "      <td>244</td>\n",
       "    </tr>\n",
       "    <tr>\n",
       "      <th>2</th>\n",
       "      <td>2017-12-31</td>\n",
       "      <td>3647</td>\n",
       "      <td>244</td>\n",
       "    </tr>\n",
       "    <tr>\n",
       "      <th>3</th>\n",
       "      <td>2017-12-31</td>\n",
       "      <td>3831</td>\n",
       "      <td>41</td>\n",
       "    </tr>\n",
       "    <tr>\n",
       "      <th>4</th>\n",
       "      <td>2017-12-31</td>\n",
       "      <td>4611</td>\n",
       "      <td>118</td>\n",
       "    </tr>\n",
       "  </tbody>\n",
       "</table>\n",
       "</div>"
      ],
      "text/plain": [
       "        date  listing_id  available\n",
       "0 2017-12-31        2515        185\n",
       "1 2017-12-31        2595        244\n",
       "2 2017-12-31        3647        244\n",
       "3 2017-12-31        3831         41\n",
       "4 2017-12-31        4611        118"
      ]
     },
     "execution_count": 92,
     "metadata": {},
     "output_type": "execute_result"
    }
   ],
   "source": [
    "# KIV\n",
    "\n",
    "occupancy_yr = calendar.groupby([pd.Grouper(key='date',freq='Y'),'listing_id'])['available'].sum().to_frame()\n",
    "occupancy_yr = occupancy_yr.reset_index()\n",
    "occupancy_yr.head()"
   ]
  },
  {
   "cell_type": "code",
   "execution_count": null,
   "metadata": {},
   "outputs": [],
   "source": []
  }
 ],
 "metadata": {
  "kernelspec": {
   "display_name": "Python 3",
   "language": "python",
   "name": "python3"
  },
  "language_info": {
   "codemirror_mode": {
    "name": "ipython",
    "version": 3
   },
   "file_extension": ".py",
   "mimetype": "text/x-python",
   "name": "python",
   "nbconvert_exporter": "python",
   "pygments_lexer": "ipython3",
   "version": "3.7.3"
  },
  "toc": {
   "base_numbering": 1,
   "nav_menu": {},
   "number_sections": true,
   "sideBar": true,
   "skip_h1_title": false,
   "title_cell": "Table of Contents",
   "title_sidebar": "Contents",
   "toc_cell": true,
   "toc_position": {},
   "toc_section_display": true,
   "toc_window_display": true
  }
 },
 "nbformat": 4,
 "nbformat_minor": 2
}
